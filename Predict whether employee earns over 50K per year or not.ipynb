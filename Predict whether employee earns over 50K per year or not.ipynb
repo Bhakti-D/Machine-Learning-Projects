{
 "cells": [
  {
   "cell_type": "markdown",
   "metadata": {},
   "source": [
    "### ML Classification Assignment- \n",
    "##### Problem 1:\n",
    "Prediction task is to determine whether a person makes over 50K a year.\n",
    "##### Problem 2:\n",
    "Which factors are important\n",
    "##### Problem 3:\n",
    "Which algorithms are best for this datase\n",
    "\n",
    "### DataSet:\n",
    "Extraction was done by Barry Becker from the 1994 Census database. \n",
    "Link - https://archive.ics.uci.edu/ml/datasets/Adult\n",
    "\n",
    "### Attribute Information: \n",
    "- Listing of attributes: \n",
    "- age: continuous. \n",
    "- workclass: Private, Self-emp-not-inc, Self-emp-inc, Federal-gov, Local-gov, State-gov, Without-pay, Never-worked. \n",
    "- fnlwgt: continuous. \n",
    "- education: Bachelors, Some-college, 11th, HS-grad, Prof-school, Assoc-acdm, Assoc-voc, 9th, 7th-8th, 12th, Masters, 1st-4th, 10th, Doctorate, 5th-6th, Preschool. \n",
    "- education-num: continuous. \n",
    "- marital-status: Married-civ-spouse, Divorced, Never-married, Separated, Widowed, Married-spouse-absent, Married-AF-spouse. \n",
    "- occupation: Tech-support, Craft-repair, Other-service, Sales, Execmanagerial, Prof-specialty, Handlers-cleaners, Machine-op-inspct, Adm-clerical, Farming-fishing, Transport-moving, Priv-house-serv, Protective-serv, Armed-Forces. \n",
    "- relationship: Wife, Own-child, Husband, Not-in-family, Other-relative, Unmarried. \n",
    "- race: White, Asian-Pac-Islander, Amer-Indian-Eskimo, Other, Black. \n",
    "- sex: Female, Male. \n",
    "- capital-gain: continuous. \n",
    "- capital-loss: continuous. \n",
    "- hours-per-week: continuous. \n",
    "- native-country: United-States, Cambodia, England, Puerto-Rico, Canada, Germany, Outlying-US(Guam-USVI-etc), India, Japan, Greece, South, China, Cuba, Iran, Honduras, Philippines, Italy, Poland, Jamaica, Vietnam, Mexico, Portugal, Ireland, France, Dominican-Republic, Laos, Ecuador, Taiwan, Haiti, Columbia, Hungary, Guatemala, Nicaragua, Scotland, Thailand, Yugoslavia, ElSalvador, Trinadad&Tobago, Peru, Hong, Holand-Netherlands.\n",
    "- wage_class :>50K, <=50K. "
   ]
  },
  {
   "cell_type": "code",
   "execution_count": 1,
   "metadata": {},
   "outputs": [],
   "source": [
    "import pandas as pd\n",
    "import numpy as np\n",
    "import matplotlib.pyplot as plt\n",
    "import seaborn as sns\n",
    "%matplotlib inline\n",
    "\n",
    "from sklearn.preprocessing import LabelEncoder\n",
    "from sklearn.tree import DecisionTreeClassifier\n",
    "from sklearn.ensemble import RandomForestClassifier\n",
    "from sklearn.linear_model import LogisticRegression\n",
    "from sklearn.naive_bayes import GaussianNB\n",
    "from sklearn.model_selection import train_test_split,cross_val_score,KFold,GridSearchCV\n",
    "from sklearn.metrics import confusion_matrix,classification_report,accuracy_score\n",
    " \n",
    "from scipy.stats import ttest_ind, ttest_rel\n",
    "from scipy import stats\n",
    "\n",
    "import warnings\n",
    "warnings.filterwarnings(\"ignore\") \n",
    " "
   ]
  },
  {
   "cell_type": "code",
   "execution_count": 2,
   "metadata": {},
   "outputs": [
    {
     "data": {
      "text/html": [
       "<style  type=\"text/css\" >\n",
       "#T_cbdf8d2d_f18e_11ec_958a_7c8ae1581979row0_col0{\n",
       "            background-color:  #6f7073;\n",
       "            color:  #000000;\n",
       "        }#T_cbdf8d2d_f18e_11ec_958a_7c8ae1581979row0_col2,#T_cbdf8d2d_f18e_11ec_958a_7c8ae1581979row0_col11,#T_cbdf8d2d_f18e_11ec_958a_7c8ae1581979row1_col10,#T_cbdf8d2d_f18e_11ec_958a_7c8ae1581979row1_col11,#T_cbdf8d2d_f18e_11ec_958a_7c8ae1581979row1_col12,#T_cbdf8d2d_f18e_11ec_958a_7c8ae1581979row2_col10,#T_cbdf8d2d_f18e_11ec_958a_7c8ae1581979row2_col11,#T_cbdf8d2d_f18e_11ec_958a_7c8ae1581979row3_col4,#T_cbdf8d2d_f18e_11ec_958a_7c8ae1581979row3_col10,#T_cbdf8d2d_f18e_11ec_958a_7c8ae1581979row3_col11,#T_cbdf8d2d_f18e_11ec_958a_7c8ae1581979row4_col0,#T_cbdf8d2d_f18e_11ec_958a_7c8ae1581979row4_col10,#T_cbdf8d2d_f18e_11ec_958a_7c8ae1581979row4_col11{\n",
       "            background-color:  #00224e;\n",
       "            color:  #f1f1f1;\n",
       "        }#T_cbdf8d2d_f18e_11ec_958a_7c8ae1581979row0_col4,#T_cbdf8d2d_f18e_11ec_958a_7c8ae1581979row0_col10,#T_cbdf8d2d_f18e_11ec_958a_7c8ae1581979row0_col12,#T_cbdf8d2d_f18e_11ec_958a_7c8ae1581979row1_col4,#T_cbdf8d2d_f18e_11ec_958a_7c8ae1581979row2_col12,#T_cbdf8d2d_f18e_11ec_958a_7c8ae1581979row3_col0,#T_cbdf8d2d_f18e_11ec_958a_7c8ae1581979row3_col12,#T_cbdf8d2d_f18e_11ec_958a_7c8ae1581979row4_col2,#T_cbdf8d2d_f18e_11ec_958a_7c8ae1581979row4_col4,#T_cbdf8d2d_f18e_11ec_958a_7c8ae1581979row4_col12{\n",
       "            background-color:  #fee838;\n",
       "            color:  #000000;\n",
       "        }#T_cbdf8d2d_f18e_11ec_958a_7c8ae1581979row1_col0{\n",
       "            background-color:  #dfca57;\n",
       "            color:  #000000;\n",
       "        }#T_cbdf8d2d_f18e_11ec_958a_7c8ae1581979row1_col2{\n",
       "            background-color:  #002656;\n",
       "            color:  #f1f1f1;\n",
       "        }#T_cbdf8d2d_f18e_11ec_958a_7c8ae1581979row2_col0{\n",
       "            background-color:  #666970;\n",
       "            color:  #000000;\n",
       "        }#T_cbdf8d2d_f18e_11ec_958a_7c8ae1581979row2_col2{\n",
       "            background-color:  #838179;\n",
       "            color:  #000000;\n",
       "        }#T_cbdf8d2d_f18e_11ec_958a_7c8ae1581979row2_col4{\n",
       "            background-color:  #575d6d;\n",
       "            color:  #f1f1f1;\n",
       "        }#T_cbdf8d2d_f18e_11ec_958a_7c8ae1581979row3_col2{\n",
       "            background-color:  #958f77;\n",
       "            color:  #000000;\n",
       "        }</style><table id=\"T_cbdf8d2d_f18e_11ec_958a_7c8ae1581979\" ><thead>    <tr>        <th class=\"blank level0\" ></th>        <th class=\"col_heading level0 col0\" >0</th>        <th class=\"col_heading level0 col1\" >1</th>        <th class=\"col_heading level0 col2\" >2</th>        <th class=\"col_heading level0 col3\" >3</th>        <th class=\"col_heading level0 col4\" >4</th>        <th class=\"col_heading level0 col5\" >5</th>        <th class=\"col_heading level0 col6\" >6</th>        <th class=\"col_heading level0 col7\" >7</th>        <th class=\"col_heading level0 col8\" >8</th>        <th class=\"col_heading level0 col9\" >9</th>        <th class=\"col_heading level0 col10\" >10</th>        <th class=\"col_heading level0 col11\" >11</th>        <th class=\"col_heading level0 col12\" >12</th>        <th class=\"col_heading level0 col13\" >13</th>        <th class=\"col_heading level0 col14\" >14</th>    </tr></thead><tbody>\n",
       "                <tr>\n",
       "                        <th id=\"T_cbdf8d2d_f18e_11ec_958a_7c8ae1581979level0_row0\" class=\"row_heading level0 row0\" >0</th>\n",
       "                        <td id=\"T_cbdf8d2d_f18e_11ec_958a_7c8ae1581979row0_col0\" class=\"data row0 col0\" >39</td>\n",
       "                        <td id=\"T_cbdf8d2d_f18e_11ec_958a_7c8ae1581979row0_col1\" class=\"data row0 col1\" > State-gov</td>\n",
       "                        <td id=\"T_cbdf8d2d_f18e_11ec_958a_7c8ae1581979row0_col2\" class=\"data row0 col2\" >77516</td>\n",
       "                        <td id=\"T_cbdf8d2d_f18e_11ec_958a_7c8ae1581979row0_col3\" class=\"data row0 col3\" > Bachelors</td>\n",
       "                        <td id=\"T_cbdf8d2d_f18e_11ec_958a_7c8ae1581979row0_col4\" class=\"data row0 col4\" >13</td>\n",
       "                        <td id=\"T_cbdf8d2d_f18e_11ec_958a_7c8ae1581979row0_col5\" class=\"data row0 col5\" > Never-married</td>\n",
       "                        <td id=\"T_cbdf8d2d_f18e_11ec_958a_7c8ae1581979row0_col6\" class=\"data row0 col6\" > Adm-clerical</td>\n",
       "                        <td id=\"T_cbdf8d2d_f18e_11ec_958a_7c8ae1581979row0_col7\" class=\"data row0 col7\" > Not-in-family</td>\n",
       "                        <td id=\"T_cbdf8d2d_f18e_11ec_958a_7c8ae1581979row0_col8\" class=\"data row0 col8\" > White</td>\n",
       "                        <td id=\"T_cbdf8d2d_f18e_11ec_958a_7c8ae1581979row0_col9\" class=\"data row0 col9\" > Male</td>\n",
       "                        <td id=\"T_cbdf8d2d_f18e_11ec_958a_7c8ae1581979row0_col10\" class=\"data row0 col10\" >2174</td>\n",
       "                        <td id=\"T_cbdf8d2d_f18e_11ec_958a_7c8ae1581979row0_col11\" class=\"data row0 col11\" >0</td>\n",
       "                        <td id=\"T_cbdf8d2d_f18e_11ec_958a_7c8ae1581979row0_col12\" class=\"data row0 col12\" >40</td>\n",
       "                        <td id=\"T_cbdf8d2d_f18e_11ec_958a_7c8ae1581979row0_col13\" class=\"data row0 col13\" > United-States</td>\n",
       "                        <td id=\"T_cbdf8d2d_f18e_11ec_958a_7c8ae1581979row0_col14\" class=\"data row0 col14\" > <=50K</td>\n",
       "            </tr>\n",
       "            <tr>\n",
       "                        <th id=\"T_cbdf8d2d_f18e_11ec_958a_7c8ae1581979level0_row1\" class=\"row_heading level0 row1\" >1</th>\n",
       "                        <td id=\"T_cbdf8d2d_f18e_11ec_958a_7c8ae1581979row1_col0\" class=\"data row1 col0\" >50</td>\n",
       "                        <td id=\"T_cbdf8d2d_f18e_11ec_958a_7c8ae1581979row1_col1\" class=\"data row1 col1\" > Self-emp-not-inc</td>\n",
       "                        <td id=\"T_cbdf8d2d_f18e_11ec_958a_7c8ae1581979row1_col2\" class=\"data row1 col2\" >83311</td>\n",
       "                        <td id=\"T_cbdf8d2d_f18e_11ec_958a_7c8ae1581979row1_col3\" class=\"data row1 col3\" > Bachelors</td>\n",
       "                        <td id=\"T_cbdf8d2d_f18e_11ec_958a_7c8ae1581979row1_col4\" class=\"data row1 col4\" >13</td>\n",
       "                        <td id=\"T_cbdf8d2d_f18e_11ec_958a_7c8ae1581979row1_col5\" class=\"data row1 col5\" > Married-civ-spouse</td>\n",
       "                        <td id=\"T_cbdf8d2d_f18e_11ec_958a_7c8ae1581979row1_col6\" class=\"data row1 col6\" > Exec-managerial</td>\n",
       "                        <td id=\"T_cbdf8d2d_f18e_11ec_958a_7c8ae1581979row1_col7\" class=\"data row1 col7\" > Husband</td>\n",
       "                        <td id=\"T_cbdf8d2d_f18e_11ec_958a_7c8ae1581979row1_col8\" class=\"data row1 col8\" > White</td>\n",
       "                        <td id=\"T_cbdf8d2d_f18e_11ec_958a_7c8ae1581979row1_col9\" class=\"data row1 col9\" > Male</td>\n",
       "                        <td id=\"T_cbdf8d2d_f18e_11ec_958a_7c8ae1581979row1_col10\" class=\"data row1 col10\" >0</td>\n",
       "                        <td id=\"T_cbdf8d2d_f18e_11ec_958a_7c8ae1581979row1_col11\" class=\"data row1 col11\" >0</td>\n",
       "                        <td id=\"T_cbdf8d2d_f18e_11ec_958a_7c8ae1581979row1_col12\" class=\"data row1 col12\" >13</td>\n",
       "                        <td id=\"T_cbdf8d2d_f18e_11ec_958a_7c8ae1581979row1_col13\" class=\"data row1 col13\" > United-States</td>\n",
       "                        <td id=\"T_cbdf8d2d_f18e_11ec_958a_7c8ae1581979row1_col14\" class=\"data row1 col14\" > <=50K</td>\n",
       "            </tr>\n",
       "            <tr>\n",
       "                        <th id=\"T_cbdf8d2d_f18e_11ec_958a_7c8ae1581979level0_row2\" class=\"row_heading level0 row2\" >2</th>\n",
       "                        <td id=\"T_cbdf8d2d_f18e_11ec_958a_7c8ae1581979row2_col0\" class=\"data row2 col0\" >38</td>\n",
       "                        <td id=\"T_cbdf8d2d_f18e_11ec_958a_7c8ae1581979row2_col1\" class=\"data row2 col1\" > Private</td>\n",
       "                        <td id=\"T_cbdf8d2d_f18e_11ec_958a_7c8ae1581979row2_col2\" class=\"data row2 col2\" >215646</td>\n",
       "                        <td id=\"T_cbdf8d2d_f18e_11ec_958a_7c8ae1581979row2_col3\" class=\"data row2 col3\" > HS-grad</td>\n",
       "                        <td id=\"T_cbdf8d2d_f18e_11ec_958a_7c8ae1581979row2_col4\" class=\"data row2 col4\" >9</td>\n",
       "                        <td id=\"T_cbdf8d2d_f18e_11ec_958a_7c8ae1581979row2_col5\" class=\"data row2 col5\" > Divorced</td>\n",
       "                        <td id=\"T_cbdf8d2d_f18e_11ec_958a_7c8ae1581979row2_col6\" class=\"data row2 col6\" > Handlers-cleaners</td>\n",
       "                        <td id=\"T_cbdf8d2d_f18e_11ec_958a_7c8ae1581979row2_col7\" class=\"data row2 col7\" > Not-in-family</td>\n",
       "                        <td id=\"T_cbdf8d2d_f18e_11ec_958a_7c8ae1581979row2_col8\" class=\"data row2 col8\" > White</td>\n",
       "                        <td id=\"T_cbdf8d2d_f18e_11ec_958a_7c8ae1581979row2_col9\" class=\"data row2 col9\" > Male</td>\n",
       "                        <td id=\"T_cbdf8d2d_f18e_11ec_958a_7c8ae1581979row2_col10\" class=\"data row2 col10\" >0</td>\n",
       "                        <td id=\"T_cbdf8d2d_f18e_11ec_958a_7c8ae1581979row2_col11\" class=\"data row2 col11\" >0</td>\n",
       "                        <td id=\"T_cbdf8d2d_f18e_11ec_958a_7c8ae1581979row2_col12\" class=\"data row2 col12\" >40</td>\n",
       "                        <td id=\"T_cbdf8d2d_f18e_11ec_958a_7c8ae1581979row2_col13\" class=\"data row2 col13\" > United-States</td>\n",
       "                        <td id=\"T_cbdf8d2d_f18e_11ec_958a_7c8ae1581979row2_col14\" class=\"data row2 col14\" > <=50K</td>\n",
       "            </tr>\n",
       "            <tr>\n",
       "                        <th id=\"T_cbdf8d2d_f18e_11ec_958a_7c8ae1581979level0_row3\" class=\"row_heading level0 row3\" >3</th>\n",
       "                        <td id=\"T_cbdf8d2d_f18e_11ec_958a_7c8ae1581979row3_col0\" class=\"data row3 col0\" >53</td>\n",
       "                        <td id=\"T_cbdf8d2d_f18e_11ec_958a_7c8ae1581979row3_col1\" class=\"data row3 col1\" > Private</td>\n",
       "                        <td id=\"T_cbdf8d2d_f18e_11ec_958a_7c8ae1581979row3_col2\" class=\"data row3 col2\" >234721</td>\n",
       "                        <td id=\"T_cbdf8d2d_f18e_11ec_958a_7c8ae1581979row3_col3\" class=\"data row3 col3\" > 11th</td>\n",
       "                        <td id=\"T_cbdf8d2d_f18e_11ec_958a_7c8ae1581979row3_col4\" class=\"data row3 col4\" >7</td>\n",
       "                        <td id=\"T_cbdf8d2d_f18e_11ec_958a_7c8ae1581979row3_col5\" class=\"data row3 col5\" > Married-civ-spouse</td>\n",
       "                        <td id=\"T_cbdf8d2d_f18e_11ec_958a_7c8ae1581979row3_col6\" class=\"data row3 col6\" > Handlers-cleaners</td>\n",
       "                        <td id=\"T_cbdf8d2d_f18e_11ec_958a_7c8ae1581979row3_col7\" class=\"data row3 col7\" > Husband</td>\n",
       "                        <td id=\"T_cbdf8d2d_f18e_11ec_958a_7c8ae1581979row3_col8\" class=\"data row3 col8\" > Black</td>\n",
       "                        <td id=\"T_cbdf8d2d_f18e_11ec_958a_7c8ae1581979row3_col9\" class=\"data row3 col9\" > Male</td>\n",
       "                        <td id=\"T_cbdf8d2d_f18e_11ec_958a_7c8ae1581979row3_col10\" class=\"data row3 col10\" >0</td>\n",
       "                        <td id=\"T_cbdf8d2d_f18e_11ec_958a_7c8ae1581979row3_col11\" class=\"data row3 col11\" >0</td>\n",
       "                        <td id=\"T_cbdf8d2d_f18e_11ec_958a_7c8ae1581979row3_col12\" class=\"data row3 col12\" >40</td>\n",
       "                        <td id=\"T_cbdf8d2d_f18e_11ec_958a_7c8ae1581979row3_col13\" class=\"data row3 col13\" > United-States</td>\n",
       "                        <td id=\"T_cbdf8d2d_f18e_11ec_958a_7c8ae1581979row3_col14\" class=\"data row3 col14\" > <=50K</td>\n",
       "            </tr>\n",
       "            <tr>\n",
       "                        <th id=\"T_cbdf8d2d_f18e_11ec_958a_7c8ae1581979level0_row4\" class=\"row_heading level0 row4\" >4</th>\n",
       "                        <td id=\"T_cbdf8d2d_f18e_11ec_958a_7c8ae1581979row4_col0\" class=\"data row4 col0\" >28</td>\n",
       "                        <td id=\"T_cbdf8d2d_f18e_11ec_958a_7c8ae1581979row4_col1\" class=\"data row4 col1\" > Private</td>\n",
       "                        <td id=\"T_cbdf8d2d_f18e_11ec_958a_7c8ae1581979row4_col2\" class=\"data row4 col2\" >338409</td>\n",
       "                        <td id=\"T_cbdf8d2d_f18e_11ec_958a_7c8ae1581979row4_col3\" class=\"data row4 col3\" > Bachelors</td>\n",
       "                        <td id=\"T_cbdf8d2d_f18e_11ec_958a_7c8ae1581979row4_col4\" class=\"data row4 col4\" >13</td>\n",
       "                        <td id=\"T_cbdf8d2d_f18e_11ec_958a_7c8ae1581979row4_col5\" class=\"data row4 col5\" > Married-civ-spouse</td>\n",
       "                        <td id=\"T_cbdf8d2d_f18e_11ec_958a_7c8ae1581979row4_col6\" class=\"data row4 col6\" > Prof-specialty</td>\n",
       "                        <td id=\"T_cbdf8d2d_f18e_11ec_958a_7c8ae1581979row4_col7\" class=\"data row4 col7\" > Wife</td>\n",
       "                        <td id=\"T_cbdf8d2d_f18e_11ec_958a_7c8ae1581979row4_col8\" class=\"data row4 col8\" > Black</td>\n",
       "                        <td id=\"T_cbdf8d2d_f18e_11ec_958a_7c8ae1581979row4_col9\" class=\"data row4 col9\" > Female</td>\n",
       "                        <td id=\"T_cbdf8d2d_f18e_11ec_958a_7c8ae1581979row4_col10\" class=\"data row4 col10\" >0</td>\n",
       "                        <td id=\"T_cbdf8d2d_f18e_11ec_958a_7c8ae1581979row4_col11\" class=\"data row4 col11\" >0</td>\n",
       "                        <td id=\"T_cbdf8d2d_f18e_11ec_958a_7c8ae1581979row4_col12\" class=\"data row4 col12\" >40</td>\n",
       "                        <td id=\"T_cbdf8d2d_f18e_11ec_958a_7c8ae1581979row4_col13\" class=\"data row4 col13\" > Cuba</td>\n",
       "                        <td id=\"T_cbdf8d2d_f18e_11ec_958a_7c8ae1581979row4_col14\" class=\"data row4 col14\" > <=50K</td>\n",
       "            </tr>\n",
       "    </tbody></table>"
      ],
      "text/plain": [
       "<pandas.io.formats.style.Styler at 0x1db9c0e4b20>"
      ]
     },
     "execution_count": 2,
     "metadata": {},
     "output_type": "execute_result"
    }
   ],
   "source": [
    "train_set = pd.read_csv('.//Datasets/adult.data', header = None)\n",
    "train_set.head().style.background_gradient(cmap='cividis')"
   ]
  },
  {
   "cell_type": "code",
   "execution_count": 3,
   "metadata": {},
   "outputs": [
    {
     "data": {
      "text/html": [
       "<style  type=\"text/css\" >\n",
       "#T_cbe8b840_f18e_11ec_bfdf_7c8ae1581979row0_col0{\n",
       "            background-color:  #47516c;\n",
       "            color:  #f1f1f1;\n",
       "        }#T_cbe8b840_f18e_11ec_bfdf_7c8ae1581979row0_col2{\n",
       "            background-color:  #898578;\n",
       "            color:  #000000;\n",
       "        }#T_cbe8b840_f18e_11ec_bfdf_7c8ae1581979row0_col4,#T_cbe8b840_f18e_11ec_bfdf_7c8ae1581979row0_col10,#T_cbe8b840_f18e_11ec_bfdf_7c8ae1581979row0_col11,#T_cbe8b840_f18e_11ec_bfdf_7c8ae1581979row1_col2,#T_cbe8b840_f18e_11ec_bfdf_7c8ae1581979row1_col10,#T_cbe8b840_f18e_11ec_bfdf_7c8ae1581979row1_col11,#T_cbe8b840_f18e_11ec_bfdf_7c8ae1581979row2_col10,#T_cbe8b840_f18e_11ec_bfdf_7c8ae1581979row2_col11,#T_cbe8b840_f18e_11ec_bfdf_7c8ae1581979row3_col11,#T_cbe8b840_f18e_11ec_bfdf_7c8ae1581979row4_col0,#T_cbe8b840_f18e_11ec_bfdf_7c8ae1581979row4_col10,#T_cbe8b840_f18e_11ec_bfdf_7c8ae1581979row4_col11,#T_cbe8b840_f18e_11ec_bfdf_7c8ae1581979row4_col12{\n",
       "            background-color:  #00224e;\n",
       "            color:  #f1f1f1;\n",
       "        }#T_cbe8b840_f18e_11ec_bfdf_7c8ae1581979row0_col12,#T_cbe8b840_f18e_11ec_bfdf_7c8ae1581979row2_col12,#T_cbe8b840_f18e_11ec_bfdf_7c8ae1581979row3_col12{\n",
       "            background-color:  #7d7c78;\n",
       "            color:  #000000;\n",
       "        }#T_cbe8b840_f18e_11ec_bfdf_7c8ae1581979row1_col0{\n",
       "            background-color:  #c0b16a;\n",
       "            color:  #000000;\n",
       "        }#T_cbe8b840_f18e_11ec_bfdf_7c8ae1581979row1_col4{\n",
       "            background-color:  #666970;\n",
       "            color:  #000000;\n",
       "        }#T_cbe8b840_f18e_11ec_bfdf_7c8ae1581979row1_col12,#T_cbe8b840_f18e_11ec_bfdf_7c8ae1581979row2_col2,#T_cbe8b840_f18e_11ec_bfdf_7c8ae1581979row2_col4,#T_cbe8b840_f18e_11ec_bfdf_7c8ae1581979row3_col0,#T_cbe8b840_f18e_11ec_bfdf_7c8ae1581979row3_col10{\n",
       "            background-color:  #fee838;\n",
       "            color:  #000000;\n",
       "        }#T_cbe8b840_f18e_11ec_bfdf_7c8ae1581979row2_col0{\n",
       "            background-color:  #636670;\n",
       "            color:  #f1f1f1;\n",
       "        }#T_cbe8b840_f18e_11ec_bfdf_7c8ae1581979row3_col2{\n",
       "            background-color:  #4c556c;\n",
       "            color:  #f1f1f1;\n",
       "        }#T_cbe8b840_f18e_11ec_bfdf_7c8ae1581979row3_col4,#T_cbe8b840_f18e_11ec_bfdf_7c8ae1581979row4_col4{\n",
       "            background-color:  #948e77;\n",
       "            color:  #000000;\n",
       "        }#T_cbe8b840_f18e_11ec_bfdf_7c8ae1581979row4_col2{\n",
       "            background-color:  #002c66;\n",
       "            color:  #f1f1f1;\n",
       "        }</style><table id=\"T_cbe8b840_f18e_11ec_bfdf_7c8ae1581979\" ><thead>    <tr>        <th class=\"blank level0\" ></th>        <th class=\"col_heading level0 col0\" >0</th>        <th class=\"col_heading level0 col1\" >1</th>        <th class=\"col_heading level0 col2\" >2</th>        <th class=\"col_heading level0 col3\" >3</th>        <th class=\"col_heading level0 col4\" >4</th>        <th class=\"col_heading level0 col5\" >5</th>        <th class=\"col_heading level0 col6\" >6</th>        <th class=\"col_heading level0 col7\" >7</th>        <th class=\"col_heading level0 col8\" >8</th>        <th class=\"col_heading level0 col9\" >9</th>        <th class=\"col_heading level0 col10\" >10</th>        <th class=\"col_heading level0 col11\" >11</th>        <th class=\"col_heading level0 col12\" >12</th>        <th class=\"col_heading level0 col13\" >13</th>        <th class=\"col_heading level0 col14\" >14</th>    </tr></thead><tbody>\n",
       "                <tr>\n",
       "                        <th id=\"T_cbe8b840_f18e_11ec_bfdf_7c8ae1581979level0_row0\" class=\"row_heading level0 row0\" >0</th>\n",
       "                        <td id=\"T_cbe8b840_f18e_11ec_bfdf_7c8ae1581979row0_col0\" class=\"data row0 col0\" >25</td>\n",
       "                        <td id=\"T_cbe8b840_f18e_11ec_bfdf_7c8ae1581979row0_col1\" class=\"data row0 col1\" > Private</td>\n",
       "                        <td id=\"T_cbe8b840_f18e_11ec_bfdf_7c8ae1581979row0_col2\" class=\"data row0 col2\" >226802</td>\n",
       "                        <td id=\"T_cbe8b840_f18e_11ec_bfdf_7c8ae1581979row0_col3\" class=\"data row0 col3\" > 11th</td>\n",
       "                        <td id=\"T_cbe8b840_f18e_11ec_bfdf_7c8ae1581979row0_col4\" class=\"data row0 col4\" >7</td>\n",
       "                        <td id=\"T_cbe8b840_f18e_11ec_bfdf_7c8ae1581979row0_col5\" class=\"data row0 col5\" > Never-married</td>\n",
       "                        <td id=\"T_cbe8b840_f18e_11ec_bfdf_7c8ae1581979row0_col6\" class=\"data row0 col6\" > Machine-op-inspct</td>\n",
       "                        <td id=\"T_cbe8b840_f18e_11ec_bfdf_7c8ae1581979row0_col7\" class=\"data row0 col7\" > Own-child</td>\n",
       "                        <td id=\"T_cbe8b840_f18e_11ec_bfdf_7c8ae1581979row0_col8\" class=\"data row0 col8\" > Black</td>\n",
       "                        <td id=\"T_cbe8b840_f18e_11ec_bfdf_7c8ae1581979row0_col9\" class=\"data row0 col9\" > Male</td>\n",
       "                        <td id=\"T_cbe8b840_f18e_11ec_bfdf_7c8ae1581979row0_col10\" class=\"data row0 col10\" >0</td>\n",
       "                        <td id=\"T_cbe8b840_f18e_11ec_bfdf_7c8ae1581979row0_col11\" class=\"data row0 col11\" >0</td>\n",
       "                        <td id=\"T_cbe8b840_f18e_11ec_bfdf_7c8ae1581979row0_col12\" class=\"data row0 col12\" >40</td>\n",
       "                        <td id=\"T_cbe8b840_f18e_11ec_bfdf_7c8ae1581979row0_col13\" class=\"data row0 col13\" > United-States</td>\n",
       "                        <td id=\"T_cbe8b840_f18e_11ec_bfdf_7c8ae1581979row0_col14\" class=\"data row0 col14\" > <=50K.</td>\n",
       "            </tr>\n",
       "            <tr>\n",
       "                        <th id=\"T_cbe8b840_f18e_11ec_bfdf_7c8ae1581979level0_row1\" class=\"row_heading level0 row1\" >1</th>\n",
       "                        <td id=\"T_cbe8b840_f18e_11ec_bfdf_7c8ae1581979row1_col0\" class=\"data row1 col0\" >38</td>\n",
       "                        <td id=\"T_cbe8b840_f18e_11ec_bfdf_7c8ae1581979row1_col1\" class=\"data row1 col1\" > Private</td>\n",
       "                        <td id=\"T_cbe8b840_f18e_11ec_bfdf_7c8ae1581979row1_col2\" class=\"data row1 col2\" >89814</td>\n",
       "                        <td id=\"T_cbe8b840_f18e_11ec_bfdf_7c8ae1581979row1_col3\" class=\"data row1 col3\" > HS-grad</td>\n",
       "                        <td id=\"T_cbe8b840_f18e_11ec_bfdf_7c8ae1581979row1_col4\" class=\"data row1 col4\" >9</td>\n",
       "                        <td id=\"T_cbe8b840_f18e_11ec_bfdf_7c8ae1581979row1_col5\" class=\"data row1 col5\" > Married-civ-spouse</td>\n",
       "                        <td id=\"T_cbe8b840_f18e_11ec_bfdf_7c8ae1581979row1_col6\" class=\"data row1 col6\" > Farming-fishing</td>\n",
       "                        <td id=\"T_cbe8b840_f18e_11ec_bfdf_7c8ae1581979row1_col7\" class=\"data row1 col7\" > Husband</td>\n",
       "                        <td id=\"T_cbe8b840_f18e_11ec_bfdf_7c8ae1581979row1_col8\" class=\"data row1 col8\" > White</td>\n",
       "                        <td id=\"T_cbe8b840_f18e_11ec_bfdf_7c8ae1581979row1_col9\" class=\"data row1 col9\" > Male</td>\n",
       "                        <td id=\"T_cbe8b840_f18e_11ec_bfdf_7c8ae1581979row1_col10\" class=\"data row1 col10\" >0</td>\n",
       "                        <td id=\"T_cbe8b840_f18e_11ec_bfdf_7c8ae1581979row1_col11\" class=\"data row1 col11\" >0</td>\n",
       "                        <td id=\"T_cbe8b840_f18e_11ec_bfdf_7c8ae1581979row1_col12\" class=\"data row1 col12\" >50</td>\n",
       "                        <td id=\"T_cbe8b840_f18e_11ec_bfdf_7c8ae1581979row1_col13\" class=\"data row1 col13\" > United-States</td>\n",
       "                        <td id=\"T_cbe8b840_f18e_11ec_bfdf_7c8ae1581979row1_col14\" class=\"data row1 col14\" > <=50K.</td>\n",
       "            </tr>\n",
       "            <tr>\n",
       "                        <th id=\"T_cbe8b840_f18e_11ec_bfdf_7c8ae1581979level0_row2\" class=\"row_heading level0 row2\" >2</th>\n",
       "                        <td id=\"T_cbe8b840_f18e_11ec_bfdf_7c8ae1581979row2_col0\" class=\"data row2 col0\" >28</td>\n",
       "                        <td id=\"T_cbe8b840_f18e_11ec_bfdf_7c8ae1581979row2_col1\" class=\"data row2 col1\" > Local-gov</td>\n",
       "                        <td id=\"T_cbe8b840_f18e_11ec_bfdf_7c8ae1581979row2_col2\" class=\"data row2 col2\" >336951</td>\n",
       "                        <td id=\"T_cbe8b840_f18e_11ec_bfdf_7c8ae1581979row2_col3\" class=\"data row2 col3\" > Assoc-acdm</td>\n",
       "                        <td id=\"T_cbe8b840_f18e_11ec_bfdf_7c8ae1581979row2_col4\" class=\"data row2 col4\" >12</td>\n",
       "                        <td id=\"T_cbe8b840_f18e_11ec_bfdf_7c8ae1581979row2_col5\" class=\"data row2 col5\" > Married-civ-spouse</td>\n",
       "                        <td id=\"T_cbe8b840_f18e_11ec_bfdf_7c8ae1581979row2_col6\" class=\"data row2 col6\" > Protective-serv</td>\n",
       "                        <td id=\"T_cbe8b840_f18e_11ec_bfdf_7c8ae1581979row2_col7\" class=\"data row2 col7\" > Husband</td>\n",
       "                        <td id=\"T_cbe8b840_f18e_11ec_bfdf_7c8ae1581979row2_col8\" class=\"data row2 col8\" > White</td>\n",
       "                        <td id=\"T_cbe8b840_f18e_11ec_bfdf_7c8ae1581979row2_col9\" class=\"data row2 col9\" > Male</td>\n",
       "                        <td id=\"T_cbe8b840_f18e_11ec_bfdf_7c8ae1581979row2_col10\" class=\"data row2 col10\" >0</td>\n",
       "                        <td id=\"T_cbe8b840_f18e_11ec_bfdf_7c8ae1581979row2_col11\" class=\"data row2 col11\" >0</td>\n",
       "                        <td id=\"T_cbe8b840_f18e_11ec_bfdf_7c8ae1581979row2_col12\" class=\"data row2 col12\" >40</td>\n",
       "                        <td id=\"T_cbe8b840_f18e_11ec_bfdf_7c8ae1581979row2_col13\" class=\"data row2 col13\" > United-States</td>\n",
       "                        <td id=\"T_cbe8b840_f18e_11ec_bfdf_7c8ae1581979row2_col14\" class=\"data row2 col14\" > >50K.</td>\n",
       "            </tr>\n",
       "            <tr>\n",
       "                        <th id=\"T_cbe8b840_f18e_11ec_bfdf_7c8ae1581979level0_row3\" class=\"row_heading level0 row3\" >3</th>\n",
       "                        <td id=\"T_cbe8b840_f18e_11ec_bfdf_7c8ae1581979row3_col0\" class=\"data row3 col0\" >44</td>\n",
       "                        <td id=\"T_cbe8b840_f18e_11ec_bfdf_7c8ae1581979row3_col1\" class=\"data row3 col1\" > Private</td>\n",
       "                        <td id=\"T_cbe8b840_f18e_11ec_bfdf_7c8ae1581979row3_col2\" class=\"data row3 col2\" >160323</td>\n",
       "                        <td id=\"T_cbe8b840_f18e_11ec_bfdf_7c8ae1581979row3_col3\" class=\"data row3 col3\" > Some-college</td>\n",
       "                        <td id=\"T_cbe8b840_f18e_11ec_bfdf_7c8ae1581979row3_col4\" class=\"data row3 col4\" >10</td>\n",
       "                        <td id=\"T_cbe8b840_f18e_11ec_bfdf_7c8ae1581979row3_col5\" class=\"data row3 col5\" > Married-civ-spouse</td>\n",
       "                        <td id=\"T_cbe8b840_f18e_11ec_bfdf_7c8ae1581979row3_col6\" class=\"data row3 col6\" > Machine-op-inspct</td>\n",
       "                        <td id=\"T_cbe8b840_f18e_11ec_bfdf_7c8ae1581979row3_col7\" class=\"data row3 col7\" > Husband</td>\n",
       "                        <td id=\"T_cbe8b840_f18e_11ec_bfdf_7c8ae1581979row3_col8\" class=\"data row3 col8\" > Black</td>\n",
       "                        <td id=\"T_cbe8b840_f18e_11ec_bfdf_7c8ae1581979row3_col9\" class=\"data row3 col9\" > Male</td>\n",
       "                        <td id=\"T_cbe8b840_f18e_11ec_bfdf_7c8ae1581979row3_col10\" class=\"data row3 col10\" >7688</td>\n",
       "                        <td id=\"T_cbe8b840_f18e_11ec_bfdf_7c8ae1581979row3_col11\" class=\"data row3 col11\" >0</td>\n",
       "                        <td id=\"T_cbe8b840_f18e_11ec_bfdf_7c8ae1581979row3_col12\" class=\"data row3 col12\" >40</td>\n",
       "                        <td id=\"T_cbe8b840_f18e_11ec_bfdf_7c8ae1581979row3_col13\" class=\"data row3 col13\" > United-States</td>\n",
       "                        <td id=\"T_cbe8b840_f18e_11ec_bfdf_7c8ae1581979row3_col14\" class=\"data row3 col14\" > >50K.</td>\n",
       "            </tr>\n",
       "            <tr>\n",
       "                        <th id=\"T_cbe8b840_f18e_11ec_bfdf_7c8ae1581979level0_row4\" class=\"row_heading level0 row4\" >4</th>\n",
       "                        <td id=\"T_cbe8b840_f18e_11ec_bfdf_7c8ae1581979row4_col0\" class=\"data row4 col0\" >18</td>\n",
       "                        <td id=\"T_cbe8b840_f18e_11ec_bfdf_7c8ae1581979row4_col1\" class=\"data row4 col1\" > ?</td>\n",
       "                        <td id=\"T_cbe8b840_f18e_11ec_bfdf_7c8ae1581979row4_col2\" class=\"data row4 col2\" >103497</td>\n",
       "                        <td id=\"T_cbe8b840_f18e_11ec_bfdf_7c8ae1581979row4_col3\" class=\"data row4 col3\" > Some-college</td>\n",
       "                        <td id=\"T_cbe8b840_f18e_11ec_bfdf_7c8ae1581979row4_col4\" class=\"data row4 col4\" >10</td>\n",
       "                        <td id=\"T_cbe8b840_f18e_11ec_bfdf_7c8ae1581979row4_col5\" class=\"data row4 col5\" > Never-married</td>\n",
       "                        <td id=\"T_cbe8b840_f18e_11ec_bfdf_7c8ae1581979row4_col6\" class=\"data row4 col6\" > ?</td>\n",
       "                        <td id=\"T_cbe8b840_f18e_11ec_bfdf_7c8ae1581979row4_col7\" class=\"data row4 col7\" > Own-child</td>\n",
       "                        <td id=\"T_cbe8b840_f18e_11ec_bfdf_7c8ae1581979row4_col8\" class=\"data row4 col8\" > White</td>\n",
       "                        <td id=\"T_cbe8b840_f18e_11ec_bfdf_7c8ae1581979row4_col9\" class=\"data row4 col9\" > Female</td>\n",
       "                        <td id=\"T_cbe8b840_f18e_11ec_bfdf_7c8ae1581979row4_col10\" class=\"data row4 col10\" >0</td>\n",
       "                        <td id=\"T_cbe8b840_f18e_11ec_bfdf_7c8ae1581979row4_col11\" class=\"data row4 col11\" >0</td>\n",
       "                        <td id=\"T_cbe8b840_f18e_11ec_bfdf_7c8ae1581979row4_col12\" class=\"data row4 col12\" >30</td>\n",
       "                        <td id=\"T_cbe8b840_f18e_11ec_bfdf_7c8ae1581979row4_col13\" class=\"data row4 col13\" > United-States</td>\n",
       "                        <td id=\"T_cbe8b840_f18e_11ec_bfdf_7c8ae1581979row4_col14\" class=\"data row4 col14\" > <=50K.</td>\n",
       "            </tr>\n",
       "    </tbody></table>"
      ],
      "text/plain": [
       "<pandas.io.formats.style.Styler at 0x1db9c0f0610>"
      ]
     },
     "execution_count": 3,
     "metadata": {},
     "output_type": "execute_result"
    }
   ],
   "source": [
    "test_set = pd.read_csv('.//Datasets/adult.test' , skiprows = 1, header = None)\n",
    "test_set.head().style.background_gradient(cmap='cividis')"
   ]
  },
  {
   "cell_type": "code",
   "execution_count": 4,
   "metadata": {},
   "outputs": [],
   "source": [
    "col_labels = ['age', 'workclass', 'fnlwgt', 'education', 'education_num',\n",
    "'marital_status', 'occupation','relationship', 'race', 'sex', 'capital_gain',\n",
    "'capital_loss', 'hours_per_week', 'native_country', 'wage_class']"
   ]
  },
  {
   "cell_type": "code",
   "execution_count": 5,
   "metadata": {},
   "outputs": [
    {
     "data": {
      "text/html": [
       "<style  type=\"text/css\" >\n",
       "#T_cbee212a_f18e_11ec_8a70_7c8ae1581979row0_col0{\n",
       "            background-color:  #6f7073;\n",
       "            color:  #000000;\n",
       "        }#T_cbee212a_f18e_11ec_8a70_7c8ae1581979row0_col2,#T_cbee212a_f18e_11ec_8a70_7c8ae1581979row0_col11,#T_cbee212a_f18e_11ec_8a70_7c8ae1581979row1_col10,#T_cbee212a_f18e_11ec_8a70_7c8ae1581979row1_col11,#T_cbee212a_f18e_11ec_8a70_7c8ae1581979row1_col12,#T_cbee212a_f18e_11ec_8a70_7c8ae1581979row2_col10,#T_cbee212a_f18e_11ec_8a70_7c8ae1581979row2_col11,#T_cbee212a_f18e_11ec_8a70_7c8ae1581979row3_col4,#T_cbee212a_f18e_11ec_8a70_7c8ae1581979row3_col10,#T_cbee212a_f18e_11ec_8a70_7c8ae1581979row3_col11,#T_cbee212a_f18e_11ec_8a70_7c8ae1581979row4_col0,#T_cbee212a_f18e_11ec_8a70_7c8ae1581979row4_col10,#T_cbee212a_f18e_11ec_8a70_7c8ae1581979row4_col11{\n",
       "            background-color:  #00224e;\n",
       "            color:  #f1f1f1;\n",
       "        }#T_cbee212a_f18e_11ec_8a70_7c8ae1581979row0_col4,#T_cbee212a_f18e_11ec_8a70_7c8ae1581979row0_col10,#T_cbee212a_f18e_11ec_8a70_7c8ae1581979row0_col12,#T_cbee212a_f18e_11ec_8a70_7c8ae1581979row1_col4,#T_cbee212a_f18e_11ec_8a70_7c8ae1581979row2_col12,#T_cbee212a_f18e_11ec_8a70_7c8ae1581979row3_col0,#T_cbee212a_f18e_11ec_8a70_7c8ae1581979row3_col12,#T_cbee212a_f18e_11ec_8a70_7c8ae1581979row4_col2,#T_cbee212a_f18e_11ec_8a70_7c8ae1581979row4_col4,#T_cbee212a_f18e_11ec_8a70_7c8ae1581979row4_col12{\n",
       "            background-color:  #fee838;\n",
       "            color:  #000000;\n",
       "        }#T_cbee212a_f18e_11ec_8a70_7c8ae1581979row1_col0{\n",
       "            background-color:  #dfca57;\n",
       "            color:  #000000;\n",
       "        }#T_cbee212a_f18e_11ec_8a70_7c8ae1581979row1_col2{\n",
       "            background-color:  #002656;\n",
       "            color:  #f1f1f1;\n",
       "        }#T_cbee212a_f18e_11ec_8a70_7c8ae1581979row2_col0{\n",
       "            background-color:  #666970;\n",
       "            color:  #000000;\n",
       "        }#T_cbee212a_f18e_11ec_8a70_7c8ae1581979row2_col2{\n",
       "            background-color:  #838179;\n",
       "            color:  #000000;\n",
       "        }#T_cbee212a_f18e_11ec_8a70_7c8ae1581979row2_col4{\n",
       "            background-color:  #575d6d;\n",
       "            color:  #f1f1f1;\n",
       "        }#T_cbee212a_f18e_11ec_8a70_7c8ae1581979row3_col2{\n",
       "            background-color:  #958f77;\n",
       "            color:  #000000;\n",
       "        }</style><table id=\"T_cbee212a_f18e_11ec_8a70_7c8ae1581979\" ><thead>    <tr>        <th class=\"blank level0\" ></th>        <th class=\"col_heading level0 col0\" >age</th>        <th class=\"col_heading level0 col1\" >workclass</th>        <th class=\"col_heading level0 col2\" >fnlwgt</th>        <th class=\"col_heading level0 col3\" >education</th>        <th class=\"col_heading level0 col4\" >education_num</th>        <th class=\"col_heading level0 col5\" >marital_status</th>        <th class=\"col_heading level0 col6\" >occupation</th>        <th class=\"col_heading level0 col7\" >relationship</th>        <th class=\"col_heading level0 col8\" >race</th>        <th class=\"col_heading level0 col9\" >sex</th>        <th class=\"col_heading level0 col10\" >capital_gain</th>        <th class=\"col_heading level0 col11\" >capital_loss</th>        <th class=\"col_heading level0 col12\" >hours_per_week</th>        <th class=\"col_heading level0 col13\" >native_country</th>        <th class=\"col_heading level0 col14\" >wage_class</th>    </tr></thead><tbody>\n",
       "                <tr>\n",
       "                        <th id=\"T_cbee212a_f18e_11ec_8a70_7c8ae1581979level0_row0\" class=\"row_heading level0 row0\" >0</th>\n",
       "                        <td id=\"T_cbee212a_f18e_11ec_8a70_7c8ae1581979row0_col0\" class=\"data row0 col0\" >39</td>\n",
       "                        <td id=\"T_cbee212a_f18e_11ec_8a70_7c8ae1581979row0_col1\" class=\"data row0 col1\" > State-gov</td>\n",
       "                        <td id=\"T_cbee212a_f18e_11ec_8a70_7c8ae1581979row0_col2\" class=\"data row0 col2\" >77516</td>\n",
       "                        <td id=\"T_cbee212a_f18e_11ec_8a70_7c8ae1581979row0_col3\" class=\"data row0 col3\" > Bachelors</td>\n",
       "                        <td id=\"T_cbee212a_f18e_11ec_8a70_7c8ae1581979row0_col4\" class=\"data row0 col4\" >13</td>\n",
       "                        <td id=\"T_cbee212a_f18e_11ec_8a70_7c8ae1581979row0_col5\" class=\"data row0 col5\" > Never-married</td>\n",
       "                        <td id=\"T_cbee212a_f18e_11ec_8a70_7c8ae1581979row0_col6\" class=\"data row0 col6\" > Adm-clerical</td>\n",
       "                        <td id=\"T_cbee212a_f18e_11ec_8a70_7c8ae1581979row0_col7\" class=\"data row0 col7\" > Not-in-family</td>\n",
       "                        <td id=\"T_cbee212a_f18e_11ec_8a70_7c8ae1581979row0_col8\" class=\"data row0 col8\" > White</td>\n",
       "                        <td id=\"T_cbee212a_f18e_11ec_8a70_7c8ae1581979row0_col9\" class=\"data row0 col9\" > Male</td>\n",
       "                        <td id=\"T_cbee212a_f18e_11ec_8a70_7c8ae1581979row0_col10\" class=\"data row0 col10\" >2174</td>\n",
       "                        <td id=\"T_cbee212a_f18e_11ec_8a70_7c8ae1581979row0_col11\" class=\"data row0 col11\" >0</td>\n",
       "                        <td id=\"T_cbee212a_f18e_11ec_8a70_7c8ae1581979row0_col12\" class=\"data row0 col12\" >40</td>\n",
       "                        <td id=\"T_cbee212a_f18e_11ec_8a70_7c8ae1581979row0_col13\" class=\"data row0 col13\" > United-States</td>\n",
       "                        <td id=\"T_cbee212a_f18e_11ec_8a70_7c8ae1581979row0_col14\" class=\"data row0 col14\" > <=50K</td>\n",
       "            </tr>\n",
       "            <tr>\n",
       "                        <th id=\"T_cbee212a_f18e_11ec_8a70_7c8ae1581979level0_row1\" class=\"row_heading level0 row1\" >1</th>\n",
       "                        <td id=\"T_cbee212a_f18e_11ec_8a70_7c8ae1581979row1_col0\" class=\"data row1 col0\" >50</td>\n",
       "                        <td id=\"T_cbee212a_f18e_11ec_8a70_7c8ae1581979row1_col1\" class=\"data row1 col1\" > Self-emp-not-inc</td>\n",
       "                        <td id=\"T_cbee212a_f18e_11ec_8a70_7c8ae1581979row1_col2\" class=\"data row1 col2\" >83311</td>\n",
       "                        <td id=\"T_cbee212a_f18e_11ec_8a70_7c8ae1581979row1_col3\" class=\"data row1 col3\" > Bachelors</td>\n",
       "                        <td id=\"T_cbee212a_f18e_11ec_8a70_7c8ae1581979row1_col4\" class=\"data row1 col4\" >13</td>\n",
       "                        <td id=\"T_cbee212a_f18e_11ec_8a70_7c8ae1581979row1_col5\" class=\"data row1 col5\" > Married-civ-spouse</td>\n",
       "                        <td id=\"T_cbee212a_f18e_11ec_8a70_7c8ae1581979row1_col6\" class=\"data row1 col6\" > Exec-managerial</td>\n",
       "                        <td id=\"T_cbee212a_f18e_11ec_8a70_7c8ae1581979row1_col7\" class=\"data row1 col7\" > Husband</td>\n",
       "                        <td id=\"T_cbee212a_f18e_11ec_8a70_7c8ae1581979row1_col8\" class=\"data row1 col8\" > White</td>\n",
       "                        <td id=\"T_cbee212a_f18e_11ec_8a70_7c8ae1581979row1_col9\" class=\"data row1 col9\" > Male</td>\n",
       "                        <td id=\"T_cbee212a_f18e_11ec_8a70_7c8ae1581979row1_col10\" class=\"data row1 col10\" >0</td>\n",
       "                        <td id=\"T_cbee212a_f18e_11ec_8a70_7c8ae1581979row1_col11\" class=\"data row1 col11\" >0</td>\n",
       "                        <td id=\"T_cbee212a_f18e_11ec_8a70_7c8ae1581979row1_col12\" class=\"data row1 col12\" >13</td>\n",
       "                        <td id=\"T_cbee212a_f18e_11ec_8a70_7c8ae1581979row1_col13\" class=\"data row1 col13\" > United-States</td>\n",
       "                        <td id=\"T_cbee212a_f18e_11ec_8a70_7c8ae1581979row1_col14\" class=\"data row1 col14\" > <=50K</td>\n",
       "            </tr>\n",
       "            <tr>\n",
       "                        <th id=\"T_cbee212a_f18e_11ec_8a70_7c8ae1581979level0_row2\" class=\"row_heading level0 row2\" >2</th>\n",
       "                        <td id=\"T_cbee212a_f18e_11ec_8a70_7c8ae1581979row2_col0\" class=\"data row2 col0\" >38</td>\n",
       "                        <td id=\"T_cbee212a_f18e_11ec_8a70_7c8ae1581979row2_col1\" class=\"data row2 col1\" > Private</td>\n",
       "                        <td id=\"T_cbee212a_f18e_11ec_8a70_7c8ae1581979row2_col2\" class=\"data row2 col2\" >215646</td>\n",
       "                        <td id=\"T_cbee212a_f18e_11ec_8a70_7c8ae1581979row2_col3\" class=\"data row2 col3\" > HS-grad</td>\n",
       "                        <td id=\"T_cbee212a_f18e_11ec_8a70_7c8ae1581979row2_col4\" class=\"data row2 col4\" >9</td>\n",
       "                        <td id=\"T_cbee212a_f18e_11ec_8a70_7c8ae1581979row2_col5\" class=\"data row2 col5\" > Divorced</td>\n",
       "                        <td id=\"T_cbee212a_f18e_11ec_8a70_7c8ae1581979row2_col6\" class=\"data row2 col6\" > Handlers-cleaners</td>\n",
       "                        <td id=\"T_cbee212a_f18e_11ec_8a70_7c8ae1581979row2_col7\" class=\"data row2 col7\" > Not-in-family</td>\n",
       "                        <td id=\"T_cbee212a_f18e_11ec_8a70_7c8ae1581979row2_col8\" class=\"data row2 col8\" > White</td>\n",
       "                        <td id=\"T_cbee212a_f18e_11ec_8a70_7c8ae1581979row2_col9\" class=\"data row2 col9\" > Male</td>\n",
       "                        <td id=\"T_cbee212a_f18e_11ec_8a70_7c8ae1581979row2_col10\" class=\"data row2 col10\" >0</td>\n",
       "                        <td id=\"T_cbee212a_f18e_11ec_8a70_7c8ae1581979row2_col11\" class=\"data row2 col11\" >0</td>\n",
       "                        <td id=\"T_cbee212a_f18e_11ec_8a70_7c8ae1581979row2_col12\" class=\"data row2 col12\" >40</td>\n",
       "                        <td id=\"T_cbee212a_f18e_11ec_8a70_7c8ae1581979row2_col13\" class=\"data row2 col13\" > United-States</td>\n",
       "                        <td id=\"T_cbee212a_f18e_11ec_8a70_7c8ae1581979row2_col14\" class=\"data row2 col14\" > <=50K</td>\n",
       "            </tr>\n",
       "            <tr>\n",
       "                        <th id=\"T_cbee212a_f18e_11ec_8a70_7c8ae1581979level0_row3\" class=\"row_heading level0 row3\" >3</th>\n",
       "                        <td id=\"T_cbee212a_f18e_11ec_8a70_7c8ae1581979row3_col0\" class=\"data row3 col0\" >53</td>\n",
       "                        <td id=\"T_cbee212a_f18e_11ec_8a70_7c8ae1581979row3_col1\" class=\"data row3 col1\" > Private</td>\n",
       "                        <td id=\"T_cbee212a_f18e_11ec_8a70_7c8ae1581979row3_col2\" class=\"data row3 col2\" >234721</td>\n",
       "                        <td id=\"T_cbee212a_f18e_11ec_8a70_7c8ae1581979row3_col3\" class=\"data row3 col3\" > 11th</td>\n",
       "                        <td id=\"T_cbee212a_f18e_11ec_8a70_7c8ae1581979row3_col4\" class=\"data row3 col4\" >7</td>\n",
       "                        <td id=\"T_cbee212a_f18e_11ec_8a70_7c8ae1581979row3_col5\" class=\"data row3 col5\" > Married-civ-spouse</td>\n",
       "                        <td id=\"T_cbee212a_f18e_11ec_8a70_7c8ae1581979row3_col6\" class=\"data row3 col6\" > Handlers-cleaners</td>\n",
       "                        <td id=\"T_cbee212a_f18e_11ec_8a70_7c8ae1581979row3_col7\" class=\"data row3 col7\" > Husband</td>\n",
       "                        <td id=\"T_cbee212a_f18e_11ec_8a70_7c8ae1581979row3_col8\" class=\"data row3 col8\" > Black</td>\n",
       "                        <td id=\"T_cbee212a_f18e_11ec_8a70_7c8ae1581979row3_col9\" class=\"data row3 col9\" > Male</td>\n",
       "                        <td id=\"T_cbee212a_f18e_11ec_8a70_7c8ae1581979row3_col10\" class=\"data row3 col10\" >0</td>\n",
       "                        <td id=\"T_cbee212a_f18e_11ec_8a70_7c8ae1581979row3_col11\" class=\"data row3 col11\" >0</td>\n",
       "                        <td id=\"T_cbee212a_f18e_11ec_8a70_7c8ae1581979row3_col12\" class=\"data row3 col12\" >40</td>\n",
       "                        <td id=\"T_cbee212a_f18e_11ec_8a70_7c8ae1581979row3_col13\" class=\"data row3 col13\" > United-States</td>\n",
       "                        <td id=\"T_cbee212a_f18e_11ec_8a70_7c8ae1581979row3_col14\" class=\"data row3 col14\" > <=50K</td>\n",
       "            </tr>\n",
       "            <tr>\n",
       "                        <th id=\"T_cbee212a_f18e_11ec_8a70_7c8ae1581979level0_row4\" class=\"row_heading level0 row4\" >4</th>\n",
       "                        <td id=\"T_cbee212a_f18e_11ec_8a70_7c8ae1581979row4_col0\" class=\"data row4 col0\" >28</td>\n",
       "                        <td id=\"T_cbee212a_f18e_11ec_8a70_7c8ae1581979row4_col1\" class=\"data row4 col1\" > Private</td>\n",
       "                        <td id=\"T_cbee212a_f18e_11ec_8a70_7c8ae1581979row4_col2\" class=\"data row4 col2\" >338409</td>\n",
       "                        <td id=\"T_cbee212a_f18e_11ec_8a70_7c8ae1581979row4_col3\" class=\"data row4 col3\" > Bachelors</td>\n",
       "                        <td id=\"T_cbee212a_f18e_11ec_8a70_7c8ae1581979row4_col4\" class=\"data row4 col4\" >13</td>\n",
       "                        <td id=\"T_cbee212a_f18e_11ec_8a70_7c8ae1581979row4_col5\" class=\"data row4 col5\" > Married-civ-spouse</td>\n",
       "                        <td id=\"T_cbee212a_f18e_11ec_8a70_7c8ae1581979row4_col6\" class=\"data row4 col6\" > Prof-specialty</td>\n",
       "                        <td id=\"T_cbee212a_f18e_11ec_8a70_7c8ae1581979row4_col7\" class=\"data row4 col7\" > Wife</td>\n",
       "                        <td id=\"T_cbee212a_f18e_11ec_8a70_7c8ae1581979row4_col8\" class=\"data row4 col8\" > Black</td>\n",
       "                        <td id=\"T_cbee212a_f18e_11ec_8a70_7c8ae1581979row4_col9\" class=\"data row4 col9\" > Female</td>\n",
       "                        <td id=\"T_cbee212a_f18e_11ec_8a70_7c8ae1581979row4_col10\" class=\"data row4 col10\" >0</td>\n",
       "                        <td id=\"T_cbee212a_f18e_11ec_8a70_7c8ae1581979row4_col11\" class=\"data row4 col11\" >0</td>\n",
       "                        <td id=\"T_cbee212a_f18e_11ec_8a70_7c8ae1581979row4_col12\" class=\"data row4 col12\" >40</td>\n",
       "                        <td id=\"T_cbee212a_f18e_11ec_8a70_7c8ae1581979row4_col13\" class=\"data row4 col13\" > Cuba</td>\n",
       "                        <td id=\"T_cbee212a_f18e_11ec_8a70_7c8ae1581979row4_col14\" class=\"data row4 col14\" > <=50K</td>\n",
       "            </tr>\n",
       "    </tbody></table>"
      ],
      "text/plain": [
       "<pandas.io.formats.style.Styler at 0x1dbbdceb250>"
      ]
     },
     "execution_count": 5,
     "metadata": {},
     "output_type": "execute_result"
    }
   ],
   "source": [
    "train_set.columns = col_labels\n",
    "train_set.head().style.background_gradient(cmap='cividis')"
   ]
  },
  {
   "cell_type": "code",
   "execution_count": 6,
   "metadata": {},
   "outputs": [
    {
     "data": {
      "text/html": [
       "<style  type=\"text/css\" >\n",
       "#T_cbf4446a_f18e_11ec_86b5_7c8ae1581979row0_col0{\n",
       "            background-color:  #47516c;\n",
       "            color:  #f1f1f1;\n",
       "        }#T_cbf4446a_f18e_11ec_86b5_7c8ae1581979row0_col2{\n",
       "            background-color:  #898578;\n",
       "            color:  #000000;\n",
       "        }#T_cbf4446a_f18e_11ec_86b5_7c8ae1581979row0_col4,#T_cbf4446a_f18e_11ec_86b5_7c8ae1581979row0_col10,#T_cbf4446a_f18e_11ec_86b5_7c8ae1581979row0_col11,#T_cbf4446a_f18e_11ec_86b5_7c8ae1581979row1_col2,#T_cbf4446a_f18e_11ec_86b5_7c8ae1581979row1_col10,#T_cbf4446a_f18e_11ec_86b5_7c8ae1581979row1_col11,#T_cbf4446a_f18e_11ec_86b5_7c8ae1581979row2_col10,#T_cbf4446a_f18e_11ec_86b5_7c8ae1581979row2_col11,#T_cbf4446a_f18e_11ec_86b5_7c8ae1581979row3_col11,#T_cbf4446a_f18e_11ec_86b5_7c8ae1581979row4_col0,#T_cbf4446a_f18e_11ec_86b5_7c8ae1581979row4_col10,#T_cbf4446a_f18e_11ec_86b5_7c8ae1581979row4_col11,#T_cbf4446a_f18e_11ec_86b5_7c8ae1581979row4_col12{\n",
       "            background-color:  #00224e;\n",
       "            color:  #f1f1f1;\n",
       "        }#T_cbf4446a_f18e_11ec_86b5_7c8ae1581979row0_col12,#T_cbf4446a_f18e_11ec_86b5_7c8ae1581979row2_col12,#T_cbf4446a_f18e_11ec_86b5_7c8ae1581979row3_col12{\n",
       "            background-color:  #7d7c78;\n",
       "            color:  #000000;\n",
       "        }#T_cbf4446a_f18e_11ec_86b5_7c8ae1581979row1_col0{\n",
       "            background-color:  #c0b16a;\n",
       "            color:  #000000;\n",
       "        }#T_cbf4446a_f18e_11ec_86b5_7c8ae1581979row1_col4{\n",
       "            background-color:  #666970;\n",
       "            color:  #000000;\n",
       "        }#T_cbf4446a_f18e_11ec_86b5_7c8ae1581979row1_col12,#T_cbf4446a_f18e_11ec_86b5_7c8ae1581979row2_col2,#T_cbf4446a_f18e_11ec_86b5_7c8ae1581979row2_col4,#T_cbf4446a_f18e_11ec_86b5_7c8ae1581979row3_col0,#T_cbf4446a_f18e_11ec_86b5_7c8ae1581979row3_col10{\n",
       "            background-color:  #fee838;\n",
       "            color:  #000000;\n",
       "        }#T_cbf4446a_f18e_11ec_86b5_7c8ae1581979row2_col0{\n",
       "            background-color:  #636670;\n",
       "            color:  #f1f1f1;\n",
       "        }#T_cbf4446a_f18e_11ec_86b5_7c8ae1581979row3_col2{\n",
       "            background-color:  #4c556c;\n",
       "            color:  #f1f1f1;\n",
       "        }#T_cbf4446a_f18e_11ec_86b5_7c8ae1581979row3_col4,#T_cbf4446a_f18e_11ec_86b5_7c8ae1581979row4_col4{\n",
       "            background-color:  #948e77;\n",
       "            color:  #000000;\n",
       "        }#T_cbf4446a_f18e_11ec_86b5_7c8ae1581979row4_col2{\n",
       "            background-color:  #002c66;\n",
       "            color:  #f1f1f1;\n",
       "        }</style><table id=\"T_cbf4446a_f18e_11ec_86b5_7c8ae1581979\" ><thead>    <tr>        <th class=\"blank level0\" ></th>        <th class=\"col_heading level0 col0\" >age</th>        <th class=\"col_heading level0 col1\" >workclass</th>        <th class=\"col_heading level0 col2\" >fnlwgt</th>        <th class=\"col_heading level0 col3\" >education</th>        <th class=\"col_heading level0 col4\" >education_num</th>        <th class=\"col_heading level0 col5\" >marital_status</th>        <th class=\"col_heading level0 col6\" >occupation</th>        <th class=\"col_heading level0 col7\" >relationship</th>        <th class=\"col_heading level0 col8\" >race</th>        <th class=\"col_heading level0 col9\" >sex</th>        <th class=\"col_heading level0 col10\" >capital_gain</th>        <th class=\"col_heading level0 col11\" >capital_loss</th>        <th class=\"col_heading level0 col12\" >hours_per_week</th>        <th class=\"col_heading level0 col13\" >native_country</th>        <th class=\"col_heading level0 col14\" >wage_class</th>    </tr></thead><tbody>\n",
       "                <tr>\n",
       "                        <th id=\"T_cbf4446a_f18e_11ec_86b5_7c8ae1581979level0_row0\" class=\"row_heading level0 row0\" >0</th>\n",
       "                        <td id=\"T_cbf4446a_f18e_11ec_86b5_7c8ae1581979row0_col0\" class=\"data row0 col0\" >25</td>\n",
       "                        <td id=\"T_cbf4446a_f18e_11ec_86b5_7c8ae1581979row0_col1\" class=\"data row0 col1\" > Private</td>\n",
       "                        <td id=\"T_cbf4446a_f18e_11ec_86b5_7c8ae1581979row0_col2\" class=\"data row0 col2\" >226802</td>\n",
       "                        <td id=\"T_cbf4446a_f18e_11ec_86b5_7c8ae1581979row0_col3\" class=\"data row0 col3\" > 11th</td>\n",
       "                        <td id=\"T_cbf4446a_f18e_11ec_86b5_7c8ae1581979row0_col4\" class=\"data row0 col4\" >7</td>\n",
       "                        <td id=\"T_cbf4446a_f18e_11ec_86b5_7c8ae1581979row0_col5\" class=\"data row0 col5\" > Never-married</td>\n",
       "                        <td id=\"T_cbf4446a_f18e_11ec_86b5_7c8ae1581979row0_col6\" class=\"data row0 col6\" > Machine-op-inspct</td>\n",
       "                        <td id=\"T_cbf4446a_f18e_11ec_86b5_7c8ae1581979row0_col7\" class=\"data row0 col7\" > Own-child</td>\n",
       "                        <td id=\"T_cbf4446a_f18e_11ec_86b5_7c8ae1581979row0_col8\" class=\"data row0 col8\" > Black</td>\n",
       "                        <td id=\"T_cbf4446a_f18e_11ec_86b5_7c8ae1581979row0_col9\" class=\"data row0 col9\" > Male</td>\n",
       "                        <td id=\"T_cbf4446a_f18e_11ec_86b5_7c8ae1581979row0_col10\" class=\"data row0 col10\" >0</td>\n",
       "                        <td id=\"T_cbf4446a_f18e_11ec_86b5_7c8ae1581979row0_col11\" class=\"data row0 col11\" >0</td>\n",
       "                        <td id=\"T_cbf4446a_f18e_11ec_86b5_7c8ae1581979row0_col12\" class=\"data row0 col12\" >40</td>\n",
       "                        <td id=\"T_cbf4446a_f18e_11ec_86b5_7c8ae1581979row0_col13\" class=\"data row0 col13\" > United-States</td>\n",
       "                        <td id=\"T_cbf4446a_f18e_11ec_86b5_7c8ae1581979row0_col14\" class=\"data row0 col14\" > <=50K.</td>\n",
       "            </tr>\n",
       "            <tr>\n",
       "                        <th id=\"T_cbf4446a_f18e_11ec_86b5_7c8ae1581979level0_row1\" class=\"row_heading level0 row1\" >1</th>\n",
       "                        <td id=\"T_cbf4446a_f18e_11ec_86b5_7c8ae1581979row1_col0\" class=\"data row1 col0\" >38</td>\n",
       "                        <td id=\"T_cbf4446a_f18e_11ec_86b5_7c8ae1581979row1_col1\" class=\"data row1 col1\" > Private</td>\n",
       "                        <td id=\"T_cbf4446a_f18e_11ec_86b5_7c8ae1581979row1_col2\" class=\"data row1 col2\" >89814</td>\n",
       "                        <td id=\"T_cbf4446a_f18e_11ec_86b5_7c8ae1581979row1_col3\" class=\"data row1 col3\" > HS-grad</td>\n",
       "                        <td id=\"T_cbf4446a_f18e_11ec_86b5_7c8ae1581979row1_col4\" class=\"data row1 col4\" >9</td>\n",
       "                        <td id=\"T_cbf4446a_f18e_11ec_86b5_7c8ae1581979row1_col5\" class=\"data row1 col5\" > Married-civ-spouse</td>\n",
       "                        <td id=\"T_cbf4446a_f18e_11ec_86b5_7c8ae1581979row1_col6\" class=\"data row1 col6\" > Farming-fishing</td>\n",
       "                        <td id=\"T_cbf4446a_f18e_11ec_86b5_7c8ae1581979row1_col7\" class=\"data row1 col7\" > Husband</td>\n",
       "                        <td id=\"T_cbf4446a_f18e_11ec_86b5_7c8ae1581979row1_col8\" class=\"data row1 col8\" > White</td>\n",
       "                        <td id=\"T_cbf4446a_f18e_11ec_86b5_7c8ae1581979row1_col9\" class=\"data row1 col9\" > Male</td>\n",
       "                        <td id=\"T_cbf4446a_f18e_11ec_86b5_7c8ae1581979row1_col10\" class=\"data row1 col10\" >0</td>\n",
       "                        <td id=\"T_cbf4446a_f18e_11ec_86b5_7c8ae1581979row1_col11\" class=\"data row1 col11\" >0</td>\n",
       "                        <td id=\"T_cbf4446a_f18e_11ec_86b5_7c8ae1581979row1_col12\" class=\"data row1 col12\" >50</td>\n",
       "                        <td id=\"T_cbf4446a_f18e_11ec_86b5_7c8ae1581979row1_col13\" class=\"data row1 col13\" > United-States</td>\n",
       "                        <td id=\"T_cbf4446a_f18e_11ec_86b5_7c8ae1581979row1_col14\" class=\"data row1 col14\" > <=50K.</td>\n",
       "            </tr>\n",
       "            <tr>\n",
       "                        <th id=\"T_cbf4446a_f18e_11ec_86b5_7c8ae1581979level0_row2\" class=\"row_heading level0 row2\" >2</th>\n",
       "                        <td id=\"T_cbf4446a_f18e_11ec_86b5_7c8ae1581979row2_col0\" class=\"data row2 col0\" >28</td>\n",
       "                        <td id=\"T_cbf4446a_f18e_11ec_86b5_7c8ae1581979row2_col1\" class=\"data row2 col1\" > Local-gov</td>\n",
       "                        <td id=\"T_cbf4446a_f18e_11ec_86b5_7c8ae1581979row2_col2\" class=\"data row2 col2\" >336951</td>\n",
       "                        <td id=\"T_cbf4446a_f18e_11ec_86b5_7c8ae1581979row2_col3\" class=\"data row2 col3\" > Assoc-acdm</td>\n",
       "                        <td id=\"T_cbf4446a_f18e_11ec_86b5_7c8ae1581979row2_col4\" class=\"data row2 col4\" >12</td>\n",
       "                        <td id=\"T_cbf4446a_f18e_11ec_86b5_7c8ae1581979row2_col5\" class=\"data row2 col5\" > Married-civ-spouse</td>\n",
       "                        <td id=\"T_cbf4446a_f18e_11ec_86b5_7c8ae1581979row2_col6\" class=\"data row2 col6\" > Protective-serv</td>\n",
       "                        <td id=\"T_cbf4446a_f18e_11ec_86b5_7c8ae1581979row2_col7\" class=\"data row2 col7\" > Husband</td>\n",
       "                        <td id=\"T_cbf4446a_f18e_11ec_86b5_7c8ae1581979row2_col8\" class=\"data row2 col8\" > White</td>\n",
       "                        <td id=\"T_cbf4446a_f18e_11ec_86b5_7c8ae1581979row2_col9\" class=\"data row2 col9\" > Male</td>\n",
       "                        <td id=\"T_cbf4446a_f18e_11ec_86b5_7c8ae1581979row2_col10\" class=\"data row2 col10\" >0</td>\n",
       "                        <td id=\"T_cbf4446a_f18e_11ec_86b5_7c8ae1581979row2_col11\" class=\"data row2 col11\" >0</td>\n",
       "                        <td id=\"T_cbf4446a_f18e_11ec_86b5_7c8ae1581979row2_col12\" class=\"data row2 col12\" >40</td>\n",
       "                        <td id=\"T_cbf4446a_f18e_11ec_86b5_7c8ae1581979row2_col13\" class=\"data row2 col13\" > United-States</td>\n",
       "                        <td id=\"T_cbf4446a_f18e_11ec_86b5_7c8ae1581979row2_col14\" class=\"data row2 col14\" > >50K.</td>\n",
       "            </tr>\n",
       "            <tr>\n",
       "                        <th id=\"T_cbf4446a_f18e_11ec_86b5_7c8ae1581979level0_row3\" class=\"row_heading level0 row3\" >3</th>\n",
       "                        <td id=\"T_cbf4446a_f18e_11ec_86b5_7c8ae1581979row3_col0\" class=\"data row3 col0\" >44</td>\n",
       "                        <td id=\"T_cbf4446a_f18e_11ec_86b5_7c8ae1581979row3_col1\" class=\"data row3 col1\" > Private</td>\n",
       "                        <td id=\"T_cbf4446a_f18e_11ec_86b5_7c8ae1581979row3_col2\" class=\"data row3 col2\" >160323</td>\n",
       "                        <td id=\"T_cbf4446a_f18e_11ec_86b5_7c8ae1581979row3_col3\" class=\"data row3 col3\" > Some-college</td>\n",
       "                        <td id=\"T_cbf4446a_f18e_11ec_86b5_7c8ae1581979row3_col4\" class=\"data row3 col4\" >10</td>\n",
       "                        <td id=\"T_cbf4446a_f18e_11ec_86b5_7c8ae1581979row3_col5\" class=\"data row3 col5\" > Married-civ-spouse</td>\n",
       "                        <td id=\"T_cbf4446a_f18e_11ec_86b5_7c8ae1581979row3_col6\" class=\"data row3 col6\" > Machine-op-inspct</td>\n",
       "                        <td id=\"T_cbf4446a_f18e_11ec_86b5_7c8ae1581979row3_col7\" class=\"data row3 col7\" > Husband</td>\n",
       "                        <td id=\"T_cbf4446a_f18e_11ec_86b5_7c8ae1581979row3_col8\" class=\"data row3 col8\" > Black</td>\n",
       "                        <td id=\"T_cbf4446a_f18e_11ec_86b5_7c8ae1581979row3_col9\" class=\"data row3 col9\" > Male</td>\n",
       "                        <td id=\"T_cbf4446a_f18e_11ec_86b5_7c8ae1581979row3_col10\" class=\"data row3 col10\" >7688</td>\n",
       "                        <td id=\"T_cbf4446a_f18e_11ec_86b5_7c8ae1581979row3_col11\" class=\"data row3 col11\" >0</td>\n",
       "                        <td id=\"T_cbf4446a_f18e_11ec_86b5_7c8ae1581979row3_col12\" class=\"data row3 col12\" >40</td>\n",
       "                        <td id=\"T_cbf4446a_f18e_11ec_86b5_7c8ae1581979row3_col13\" class=\"data row3 col13\" > United-States</td>\n",
       "                        <td id=\"T_cbf4446a_f18e_11ec_86b5_7c8ae1581979row3_col14\" class=\"data row3 col14\" > >50K.</td>\n",
       "            </tr>\n",
       "            <tr>\n",
       "                        <th id=\"T_cbf4446a_f18e_11ec_86b5_7c8ae1581979level0_row4\" class=\"row_heading level0 row4\" >4</th>\n",
       "                        <td id=\"T_cbf4446a_f18e_11ec_86b5_7c8ae1581979row4_col0\" class=\"data row4 col0\" >18</td>\n",
       "                        <td id=\"T_cbf4446a_f18e_11ec_86b5_7c8ae1581979row4_col1\" class=\"data row4 col1\" > ?</td>\n",
       "                        <td id=\"T_cbf4446a_f18e_11ec_86b5_7c8ae1581979row4_col2\" class=\"data row4 col2\" >103497</td>\n",
       "                        <td id=\"T_cbf4446a_f18e_11ec_86b5_7c8ae1581979row4_col3\" class=\"data row4 col3\" > Some-college</td>\n",
       "                        <td id=\"T_cbf4446a_f18e_11ec_86b5_7c8ae1581979row4_col4\" class=\"data row4 col4\" >10</td>\n",
       "                        <td id=\"T_cbf4446a_f18e_11ec_86b5_7c8ae1581979row4_col5\" class=\"data row4 col5\" > Never-married</td>\n",
       "                        <td id=\"T_cbf4446a_f18e_11ec_86b5_7c8ae1581979row4_col6\" class=\"data row4 col6\" > ?</td>\n",
       "                        <td id=\"T_cbf4446a_f18e_11ec_86b5_7c8ae1581979row4_col7\" class=\"data row4 col7\" > Own-child</td>\n",
       "                        <td id=\"T_cbf4446a_f18e_11ec_86b5_7c8ae1581979row4_col8\" class=\"data row4 col8\" > White</td>\n",
       "                        <td id=\"T_cbf4446a_f18e_11ec_86b5_7c8ae1581979row4_col9\" class=\"data row4 col9\" > Female</td>\n",
       "                        <td id=\"T_cbf4446a_f18e_11ec_86b5_7c8ae1581979row4_col10\" class=\"data row4 col10\" >0</td>\n",
       "                        <td id=\"T_cbf4446a_f18e_11ec_86b5_7c8ae1581979row4_col11\" class=\"data row4 col11\" >0</td>\n",
       "                        <td id=\"T_cbf4446a_f18e_11ec_86b5_7c8ae1581979row4_col12\" class=\"data row4 col12\" >30</td>\n",
       "                        <td id=\"T_cbf4446a_f18e_11ec_86b5_7c8ae1581979row4_col13\" class=\"data row4 col13\" > United-States</td>\n",
       "                        <td id=\"T_cbf4446a_f18e_11ec_86b5_7c8ae1581979row4_col14\" class=\"data row4 col14\" > <=50K.</td>\n",
       "            </tr>\n",
       "    </tbody></table>"
      ],
      "text/plain": [
       "<pandas.io.formats.style.Styler at 0x1dbbdcebb80>"
      ]
     },
     "execution_count": 6,
     "metadata": {},
     "output_type": "execute_result"
    }
   ],
   "source": [
    "test_set.columns = col_labels\n",
    "test_set.head().style.background_gradient(cmap='cividis')"
   ]
  },
  {
   "cell_type": "code",
   "execution_count": 7,
   "metadata": {},
   "outputs": [],
   "source": [
    "# Replace all ' ?' values with nan and drop these missing values\n",
    "new_train = train_set.replace(' ?',np.nan).dropna()\n",
    "new_test = test_set.replace(' ?',np.nan).dropna()"
   ]
  },
  {
   "cell_type": "code",
   "execution_count": 8,
   "metadata": {},
   "outputs": [
    {
     "name": "stdout",
     "output_type": "stream",
     "text": [
      "Shape of the Train data: (30162, 15)\n",
      "Shape of the Test Data (15060, 15)\n"
     ]
    }
   ],
   "source": [
    "print(\"Shape of the Train data:\",new_train.shape)\n",
    "print(\"Shape of the Test Data\",new_test.shape)"
   ]
  },
  {
   "cell_type": "code",
   "execution_count": 9,
   "metadata": {},
   "outputs": [
    {
     "name": "stdout",
     "output_type": "stream",
     "text": [
      "[' <=50K' ' >50K']\n",
      "[' <=50K.' ' >50K.']\n"
     ]
    }
   ],
   "source": [
    "print(new_train.wage_class.unique())\n",
    "print(new_test.wage_class.unique())"
   ]
  },
  {
   "cell_type": "markdown",
   "metadata": {},
   "source": [
    "- In wage_class column of new_test,there is . after 50K, we will handle these things"
   ]
  },
  {
   "cell_type": "code",
   "execution_count": 10,
   "metadata": {},
   "outputs": [],
   "source": [
    "new_test['wage_class'] = new_test.wage_class.replace({' <=50K.':' <=50K',' >50K.':' >50K'})"
   ]
  },
  {
   "cell_type": "code",
   "execution_count": 11,
   "metadata": {},
   "outputs": [
    {
     "name": "stdout",
     "output_type": "stream",
     "text": [
      "[' <=50K' ' >50K']\n",
      "[' <=50K' ' >50K']\n"
     ]
    }
   ],
   "source": [
    "print(new_train.wage_class.unique())\n",
    "print(new_test.wage_class.unique()) "
   ]
  },
  {
   "cell_type": "code",
   "execution_count": 12,
   "metadata": {},
   "outputs": [
    {
     "data": {
      "text/plain": [
       "(45222, 15)"
      ]
     },
     "execution_count": 12,
     "metadata": {},
     "output_type": "execute_result"
    }
   ],
   "source": [
    "# Join new_train and new_test datasets\n",
    "df = pd.concat((new_train,new_test),axis=0,ignore_index=True)\n",
    "df.shape"
   ]
  },
  {
   "cell_type": "code",
   "execution_count": 13,
   "metadata": {},
   "outputs": [
    {
     "data": {
      "text/html": [
       "<style  type=\"text/css\" >\n",
       "#T_cc157468_f18e_11ec_a176_7c8ae1581979row0_col0{\n",
       "            background-color:  #6f7073;\n",
       "            color:  #000000;\n",
       "        }#T_cc157468_f18e_11ec_a176_7c8ae1581979row0_col2,#T_cc157468_f18e_11ec_a176_7c8ae1581979row0_col11,#T_cc157468_f18e_11ec_a176_7c8ae1581979row0_col14,#T_cc157468_f18e_11ec_a176_7c8ae1581979row1_col10,#T_cc157468_f18e_11ec_a176_7c8ae1581979row1_col11,#T_cc157468_f18e_11ec_a176_7c8ae1581979row1_col12,#T_cc157468_f18e_11ec_a176_7c8ae1581979row1_col14,#T_cc157468_f18e_11ec_a176_7c8ae1581979row2_col10,#T_cc157468_f18e_11ec_a176_7c8ae1581979row2_col11,#T_cc157468_f18e_11ec_a176_7c8ae1581979row2_col14,#T_cc157468_f18e_11ec_a176_7c8ae1581979row3_col4,#T_cc157468_f18e_11ec_a176_7c8ae1581979row3_col10,#T_cc157468_f18e_11ec_a176_7c8ae1581979row3_col11,#T_cc157468_f18e_11ec_a176_7c8ae1581979row3_col14,#T_cc157468_f18e_11ec_a176_7c8ae1581979row4_col0,#T_cc157468_f18e_11ec_a176_7c8ae1581979row4_col10,#T_cc157468_f18e_11ec_a176_7c8ae1581979row4_col11,#T_cc157468_f18e_11ec_a176_7c8ae1581979row4_col14{\n",
       "            background-color:  #00224e;\n",
       "            color:  #f1f1f1;\n",
       "        }#T_cc157468_f18e_11ec_a176_7c8ae1581979row0_col4,#T_cc157468_f18e_11ec_a176_7c8ae1581979row0_col10,#T_cc157468_f18e_11ec_a176_7c8ae1581979row0_col12,#T_cc157468_f18e_11ec_a176_7c8ae1581979row1_col4,#T_cc157468_f18e_11ec_a176_7c8ae1581979row2_col12,#T_cc157468_f18e_11ec_a176_7c8ae1581979row3_col0,#T_cc157468_f18e_11ec_a176_7c8ae1581979row3_col12,#T_cc157468_f18e_11ec_a176_7c8ae1581979row4_col2,#T_cc157468_f18e_11ec_a176_7c8ae1581979row4_col4,#T_cc157468_f18e_11ec_a176_7c8ae1581979row4_col12{\n",
       "            background-color:  #fee838;\n",
       "            color:  #000000;\n",
       "        }#T_cc157468_f18e_11ec_a176_7c8ae1581979row1_col0{\n",
       "            background-color:  #dfca57;\n",
       "            color:  #000000;\n",
       "        }#T_cc157468_f18e_11ec_a176_7c8ae1581979row1_col2{\n",
       "            background-color:  #002656;\n",
       "            color:  #f1f1f1;\n",
       "        }#T_cc157468_f18e_11ec_a176_7c8ae1581979row2_col0{\n",
       "            background-color:  #666970;\n",
       "            color:  #000000;\n",
       "        }#T_cc157468_f18e_11ec_a176_7c8ae1581979row2_col2{\n",
       "            background-color:  #838179;\n",
       "            color:  #000000;\n",
       "        }#T_cc157468_f18e_11ec_a176_7c8ae1581979row2_col4{\n",
       "            background-color:  #575d6d;\n",
       "            color:  #f1f1f1;\n",
       "        }#T_cc157468_f18e_11ec_a176_7c8ae1581979row3_col2{\n",
       "            background-color:  #958f77;\n",
       "            color:  #000000;\n",
       "        }</style><table id=\"T_cc157468_f18e_11ec_a176_7c8ae1581979\" ><thead>    <tr>        <th class=\"blank level0\" ></th>        <th class=\"col_heading level0 col0\" >age</th>        <th class=\"col_heading level0 col1\" >workclass</th>        <th class=\"col_heading level0 col2\" >fnlwgt</th>        <th class=\"col_heading level0 col3\" >education</th>        <th class=\"col_heading level0 col4\" >education_num</th>        <th class=\"col_heading level0 col5\" >marital_status</th>        <th class=\"col_heading level0 col6\" >occupation</th>        <th class=\"col_heading level0 col7\" >relationship</th>        <th class=\"col_heading level0 col8\" >race</th>        <th class=\"col_heading level0 col9\" >sex</th>        <th class=\"col_heading level0 col10\" >capital_gain</th>        <th class=\"col_heading level0 col11\" >capital_loss</th>        <th class=\"col_heading level0 col12\" >hours_per_week</th>        <th class=\"col_heading level0 col13\" >native_country</th>        <th class=\"col_heading level0 col14\" >wage_class</th>    </tr></thead><tbody>\n",
       "                <tr>\n",
       "                        <th id=\"T_cc157468_f18e_11ec_a176_7c8ae1581979level0_row0\" class=\"row_heading level0 row0\" >0</th>\n",
       "                        <td id=\"T_cc157468_f18e_11ec_a176_7c8ae1581979row0_col0\" class=\"data row0 col0\" >39</td>\n",
       "                        <td id=\"T_cc157468_f18e_11ec_a176_7c8ae1581979row0_col1\" class=\"data row0 col1\" > State-gov</td>\n",
       "                        <td id=\"T_cc157468_f18e_11ec_a176_7c8ae1581979row0_col2\" class=\"data row0 col2\" >77516</td>\n",
       "                        <td id=\"T_cc157468_f18e_11ec_a176_7c8ae1581979row0_col3\" class=\"data row0 col3\" > Bachelors</td>\n",
       "                        <td id=\"T_cc157468_f18e_11ec_a176_7c8ae1581979row0_col4\" class=\"data row0 col4\" >13</td>\n",
       "                        <td id=\"T_cc157468_f18e_11ec_a176_7c8ae1581979row0_col5\" class=\"data row0 col5\" > Never-married</td>\n",
       "                        <td id=\"T_cc157468_f18e_11ec_a176_7c8ae1581979row0_col6\" class=\"data row0 col6\" > Adm-clerical</td>\n",
       "                        <td id=\"T_cc157468_f18e_11ec_a176_7c8ae1581979row0_col7\" class=\"data row0 col7\" > Not-in-family</td>\n",
       "                        <td id=\"T_cc157468_f18e_11ec_a176_7c8ae1581979row0_col8\" class=\"data row0 col8\" > White</td>\n",
       "                        <td id=\"T_cc157468_f18e_11ec_a176_7c8ae1581979row0_col9\" class=\"data row0 col9\" > Male</td>\n",
       "                        <td id=\"T_cc157468_f18e_11ec_a176_7c8ae1581979row0_col10\" class=\"data row0 col10\" >2174</td>\n",
       "                        <td id=\"T_cc157468_f18e_11ec_a176_7c8ae1581979row0_col11\" class=\"data row0 col11\" >0</td>\n",
       "                        <td id=\"T_cc157468_f18e_11ec_a176_7c8ae1581979row0_col12\" class=\"data row0 col12\" >40</td>\n",
       "                        <td id=\"T_cc157468_f18e_11ec_a176_7c8ae1581979row0_col13\" class=\"data row0 col13\" > United-States</td>\n",
       "                        <td id=\"T_cc157468_f18e_11ec_a176_7c8ae1581979row0_col14\" class=\"data row0 col14\" >0</td>\n",
       "            </tr>\n",
       "            <tr>\n",
       "                        <th id=\"T_cc157468_f18e_11ec_a176_7c8ae1581979level0_row1\" class=\"row_heading level0 row1\" >1</th>\n",
       "                        <td id=\"T_cc157468_f18e_11ec_a176_7c8ae1581979row1_col0\" class=\"data row1 col0\" >50</td>\n",
       "                        <td id=\"T_cc157468_f18e_11ec_a176_7c8ae1581979row1_col1\" class=\"data row1 col1\" > Self-emp-not-inc</td>\n",
       "                        <td id=\"T_cc157468_f18e_11ec_a176_7c8ae1581979row1_col2\" class=\"data row1 col2\" >83311</td>\n",
       "                        <td id=\"T_cc157468_f18e_11ec_a176_7c8ae1581979row1_col3\" class=\"data row1 col3\" > Bachelors</td>\n",
       "                        <td id=\"T_cc157468_f18e_11ec_a176_7c8ae1581979row1_col4\" class=\"data row1 col4\" >13</td>\n",
       "                        <td id=\"T_cc157468_f18e_11ec_a176_7c8ae1581979row1_col5\" class=\"data row1 col5\" > Married-civ-spouse</td>\n",
       "                        <td id=\"T_cc157468_f18e_11ec_a176_7c8ae1581979row1_col6\" class=\"data row1 col6\" > Exec-managerial</td>\n",
       "                        <td id=\"T_cc157468_f18e_11ec_a176_7c8ae1581979row1_col7\" class=\"data row1 col7\" > Husband</td>\n",
       "                        <td id=\"T_cc157468_f18e_11ec_a176_7c8ae1581979row1_col8\" class=\"data row1 col8\" > White</td>\n",
       "                        <td id=\"T_cc157468_f18e_11ec_a176_7c8ae1581979row1_col9\" class=\"data row1 col9\" > Male</td>\n",
       "                        <td id=\"T_cc157468_f18e_11ec_a176_7c8ae1581979row1_col10\" class=\"data row1 col10\" >0</td>\n",
       "                        <td id=\"T_cc157468_f18e_11ec_a176_7c8ae1581979row1_col11\" class=\"data row1 col11\" >0</td>\n",
       "                        <td id=\"T_cc157468_f18e_11ec_a176_7c8ae1581979row1_col12\" class=\"data row1 col12\" >13</td>\n",
       "                        <td id=\"T_cc157468_f18e_11ec_a176_7c8ae1581979row1_col13\" class=\"data row1 col13\" > United-States</td>\n",
       "                        <td id=\"T_cc157468_f18e_11ec_a176_7c8ae1581979row1_col14\" class=\"data row1 col14\" >0</td>\n",
       "            </tr>\n",
       "            <tr>\n",
       "                        <th id=\"T_cc157468_f18e_11ec_a176_7c8ae1581979level0_row2\" class=\"row_heading level0 row2\" >2</th>\n",
       "                        <td id=\"T_cc157468_f18e_11ec_a176_7c8ae1581979row2_col0\" class=\"data row2 col0\" >38</td>\n",
       "                        <td id=\"T_cc157468_f18e_11ec_a176_7c8ae1581979row2_col1\" class=\"data row2 col1\" > Private</td>\n",
       "                        <td id=\"T_cc157468_f18e_11ec_a176_7c8ae1581979row2_col2\" class=\"data row2 col2\" >215646</td>\n",
       "                        <td id=\"T_cc157468_f18e_11ec_a176_7c8ae1581979row2_col3\" class=\"data row2 col3\" > HS-grad</td>\n",
       "                        <td id=\"T_cc157468_f18e_11ec_a176_7c8ae1581979row2_col4\" class=\"data row2 col4\" >9</td>\n",
       "                        <td id=\"T_cc157468_f18e_11ec_a176_7c8ae1581979row2_col5\" class=\"data row2 col5\" > Divorced</td>\n",
       "                        <td id=\"T_cc157468_f18e_11ec_a176_7c8ae1581979row2_col6\" class=\"data row2 col6\" > Handlers-cleaners</td>\n",
       "                        <td id=\"T_cc157468_f18e_11ec_a176_7c8ae1581979row2_col7\" class=\"data row2 col7\" > Not-in-family</td>\n",
       "                        <td id=\"T_cc157468_f18e_11ec_a176_7c8ae1581979row2_col8\" class=\"data row2 col8\" > White</td>\n",
       "                        <td id=\"T_cc157468_f18e_11ec_a176_7c8ae1581979row2_col9\" class=\"data row2 col9\" > Male</td>\n",
       "                        <td id=\"T_cc157468_f18e_11ec_a176_7c8ae1581979row2_col10\" class=\"data row2 col10\" >0</td>\n",
       "                        <td id=\"T_cc157468_f18e_11ec_a176_7c8ae1581979row2_col11\" class=\"data row2 col11\" >0</td>\n",
       "                        <td id=\"T_cc157468_f18e_11ec_a176_7c8ae1581979row2_col12\" class=\"data row2 col12\" >40</td>\n",
       "                        <td id=\"T_cc157468_f18e_11ec_a176_7c8ae1581979row2_col13\" class=\"data row2 col13\" > United-States</td>\n",
       "                        <td id=\"T_cc157468_f18e_11ec_a176_7c8ae1581979row2_col14\" class=\"data row2 col14\" >0</td>\n",
       "            </tr>\n",
       "            <tr>\n",
       "                        <th id=\"T_cc157468_f18e_11ec_a176_7c8ae1581979level0_row3\" class=\"row_heading level0 row3\" >3</th>\n",
       "                        <td id=\"T_cc157468_f18e_11ec_a176_7c8ae1581979row3_col0\" class=\"data row3 col0\" >53</td>\n",
       "                        <td id=\"T_cc157468_f18e_11ec_a176_7c8ae1581979row3_col1\" class=\"data row3 col1\" > Private</td>\n",
       "                        <td id=\"T_cc157468_f18e_11ec_a176_7c8ae1581979row3_col2\" class=\"data row3 col2\" >234721</td>\n",
       "                        <td id=\"T_cc157468_f18e_11ec_a176_7c8ae1581979row3_col3\" class=\"data row3 col3\" > 11th</td>\n",
       "                        <td id=\"T_cc157468_f18e_11ec_a176_7c8ae1581979row3_col4\" class=\"data row3 col4\" >7</td>\n",
       "                        <td id=\"T_cc157468_f18e_11ec_a176_7c8ae1581979row3_col5\" class=\"data row3 col5\" > Married-civ-spouse</td>\n",
       "                        <td id=\"T_cc157468_f18e_11ec_a176_7c8ae1581979row3_col6\" class=\"data row3 col6\" > Handlers-cleaners</td>\n",
       "                        <td id=\"T_cc157468_f18e_11ec_a176_7c8ae1581979row3_col7\" class=\"data row3 col7\" > Husband</td>\n",
       "                        <td id=\"T_cc157468_f18e_11ec_a176_7c8ae1581979row3_col8\" class=\"data row3 col8\" > Black</td>\n",
       "                        <td id=\"T_cc157468_f18e_11ec_a176_7c8ae1581979row3_col9\" class=\"data row3 col9\" > Male</td>\n",
       "                        <td id=\"T_cc157468_f18e_11ec_a176_7c8ae1581979row3_col10\" class=\"data row3 col10\" >0</td>\n",
       "                        <td id=\"T_cc157468_f18e_11ec_a176_7c8ae1581979row3_col11\" class=\"data row3 col11\" >0</td>\n",
       "                        <td id=\"T_cc157468_f18e_11ec_a176_7c8ae1581979row3_col12\" class=\"data row3 col12\" >40</td>\n",
       "                        <td id=\"T_cc157468_f18e_11ec_a176_7c8ae1581979row3_col13\" class=\"data row3 col13\" > United-States</td>\n",
       "                        <td id=\"T_cc157468_f18e_11ec_a176_7c8ae1581979row3_col14\" class=\"data row3 col14\" >0</td>\n",
       "            </tr>\n",
       "            <tr>\n",
       "                        <th id=\"T_cc157468_f18e_11ec_a176_7c8ae1581979level0_row4\" class=\"row_heading level0 row4\" >4</th>\n",
       "                        <td id=\"T_cc157468_f18e_11ec_a176_7c8ae1581979row4_col0\" class=\"data row4 col0\" >28</td>\n",
       "                        <td id=\"T_cc157468_f18e_11ec_a176_7c8ae1581979row4_col1\" class=\"data row4 col1\" > Private</td>\n",
       "                        <td id=\"T_cc157468_f18e_11ec_a176_7c8ae1581979row4_col2\" class=\"data row4 col2\" >338409</td>\n",
       "                        <td id=\"T_cc157468_f18e_11ec_a176_7c8ae1581979row4_col3\" class=\"data row4 col3\" > Bachelors</td>\n",
       "                        <td id=\"T_cc157468_f18e_11ec_a176_7c8ae1581979row4_col4\" class=\"data row4 col4\" >13</td>\n",
       "                        <td id=\"T_cc157468_f18e_11ec_a176_7c8ae1581979row4_col5\" class=\"data row4 col5\" > Married-civ-spouse</td>\n",
       "                        <td id=\"T_cc157468_f18e_11ec_a176_7c8ae1581979row4_col6\" class=\"data row4 col6\" > Prof-specialty</td>\n",
       "                        <td id=\"T_cc157468_f18e_11ec_a176_7c8ae1581979row4_col7\" class=\"data row4 col7\" > Wife</td>\n",
       "                        <td id=\"T_cc157468_f18e_11ec_a176_7c8ae1581979row4_col8\" class=\"data row4 col8\" > Black</td>\n",
       "                        <td id=\"T_cc157468_f18e_11ec_a176_7c8ae1581979row4_col9\" class=\"data row4 col9\" > Female</td>\n",
       "                        <td id=\"T_cc157468_f18e_11ec_a176_7c8ae1581979row4_col10\" class=\"data row4 col10\" >0</td>\n",
       "                        <td id=\"T_cc157468_f18e_11ec_a176_7c8ae1581979row4_col11\" class=\"data row4 col11\" >0</td>\n",
       "                        <td id=\"T_cc157468_f18e_11ec_a176_7c8ae1581979row4_col12\" class=\"data row4 col12\" >40</td>\n",
       "                        <td id=\"T_cc157468_f18e_11ec_a176_7c8ae1581979row4_col13\" class=\"data row4 col13\" > Cuba</td>\n",
       "                        <td id=\"T_cc157468_f18e_11ec_a176_7c8ae1581979row4_col14\" class=\"data row4 col14\" >0</td>\n",
       "            </tr>\n",
       "    </tbody></table>"
      ],
      "text/plain": [
       "<pandas.io.formats.style.Styler at 0x1dbbdceba60>"
      ]
     },
     "execution_count": 13,
     "metadata": {},
     "output_type": "execute_result"
    }
   ],
   "source": [
    "df['wage_class']=df['wage_class'].map({' <=50K': 0, ' >50K': 1, ' <=50K.': 0, ' >50K.': 1})\n",
    "df.head().style.background_gradient(cmap='cividis')"
   ]
  },
  {
   "cell_type": "code",
   "execution_count": 14,
   "metadata": {},
   "outputs": [
    {
     "name": "stdout",
     "output_type": "stream",
     "text": [
      "<class 'pandas.core.frame.DataFrame'>\n",
      "RangeIndex: 45222 entries, 0 to 45221\n",
      "Data columns (total 15 columns):\n",
      " #   Column          Non-Null Count  Dtype \n",
      "---  ------          --------------  ----- \n",
      " 0   age             45222 non-null  int64 \n",
      " 1   workclass       45222 non-null  object\n",
      " 2   fnlwgt          45222 non-null  int64 \n",
      " 3   education       45222 non-null  object\n",
      " 4   education_num   45222 non-null  int64 \n",
      " 5   marital_status  45222 non-null  object\n",
      " 6   occupation      45222 non-null  object\n",
      " 7   relationship    45222 non-null  object\n",
      " 8   race            45222 non-null  object\n",
      " 9   sex             45222 non-null  object\n",
      " 10  capital_gain    45222 non-null  int64 \n",
      " 11  capital_loss    45222 non-null  int64 \n",
      " 12  hours_per_week  45222 non-null  int64 \n",
      " 13  native_country  45222 non-null  object\n",
      " 14  wage_class      45222 non-null  int64 \n",
      "dtypes: int64(7), object(8)\n",
      "memory usage: 5.2+ MB\n"
     ]
    }
   ],
   "source": [
    "df.info()"
   ]
  },
  {
   "cell_type": "markdown",
   "metadata": {},
   "source": [
    "### From the above observation, we can categorise our Categorical and numerical columns\n",
    "\n",
    "\n",
    "#### Categorical columns are-\n",
    "1. workclass\n",
    "2. education\n",
    "3. marital_status\n",
    "4. occupation\n",
    "5. relationship\n",
    "6. race\n",
    "7. sex\n",
    "8. native_country\n",
    "9. wage_class\n",
    "\n",
    "#### Numerical Columns - \n",
    "1. age\n",
    "2. fnlwgt\n",
    "3. education_num\n",
    "4. capital_gain\n",
    "5. capital_loss\n",
    "6. hours_per_week\n",
    "\n",
    "#### So, in conclusion, we have 14 independent features and 1 dependent feature\n",
    "8 categorical features , 6 numerical feature and 1 target feature (wage_class)"
   ]
  },
  {
   "cell_type": "code",
   "execution_count": 15,
   "metadata": {},
   "outputs": [
    {
     "data": {
      "text/plain": [
       "age               0\n",
       "workclass         0\n",
       "fnlwgt            0\n",
       "education         0\n",
       "education_num     0\n",
       "marital_status    0\n",
       "occupation        0\n",
       "relationship      0\n",
       "race              0\n",
       "sex               0\n",
       "capital_gain      0\n",
       "capital_loss      0\n",
       "hours_per_week    0\n",
       "native_country    0\n",
       "wage_class        0\n",
       "dtype: int64"
      ]
     },
     "execution_count": 15,
     "metadata": {},
     "output_type": "execute_result"
    }
   ],
   "source": [
    "# Check for null values\n",
    "df.isnull().sum()"
   ]
  },
  {
   "cell_type": "markdown",
   "metadata": {},
   "source": [
    "- No missing values , let's proceed"
   ]
  },
  {
   "cell_type": "code",
   "execution_count": 16,
   "metadata": {},
   "outputs": [
    {
     "data": {
      "text/html": [
       "<style  type=\"text/css\" >\n",
       "#T_cc29aa3a_f18e_11ec_877a_7c8ae1581979row0_col0,#T_cc29aa3a_f18e_11ec_877a_7c8ae1581979row0_col2,#T_cc29aa3a_f18e_11ec_877a_7c8ae1581979row0_col4,#T_cc29aa3a_f18e_11ec_877a_7c8ae1581979row0_col5,#T_cc29aa3a_f18e_11ec_877a_7c8ae1581979row0_col6,#T_cc29aa3a_f18e_11ec_877a_7c8ae1581979row7_col1,#T_cc29aa3a_f18e_11ec_877a_7c8ae1581979row7_col3{\n",
       "            background-color:  #fee838;\n",
       "            color:  #000000;\n",
       "        }#T_cc29aa3a_f18e_11ec_877a_7c8ae1581979row0_col1{\n",
       "            background-color:  #002656;\n",
       "            color:  #f1f1f1;\n",
       "        }#T_cc29aa3a_f18e_11ec_877a_7c8ae1581979row0_col3{\n",
       "            background-color:  #727274;\n",
       "            color:  #000000;\n",
       "        }#T_cc29aa3a_f18e_11ec_877a_7c8ae1581979row1_col0,#T_cc29aa3a_f18e_11ec_877a_7c8ae1581979row1_col2,#T_cc29aa3a_f18e_11ec_877a_7c8ae1581979row1_col4,#T_cc29aa3a_f18e_11ec_877a_7c8ae1581979row1_col5,#T_cc29aa3a_f18e_11ec_877a_7c8ae1581979row1_col6,#T_cc29aa3a_f18e_11ec_877a_7c8ae1581979row2_col0,#T_cc29aa3a_f18e_11ec_877a_7c8ae1581979row2_col2,#T_cc29aa3a_f18e_11ec_877a_7c8ae1581979row2_col5,#T_cc29aa3a_f18e_11ec_877a_7c8ae1581979row2_col6,#T_cc29aa3a_f18e_11ec_877a_7c8ae1581979row3_col0,#T_cc29aa3a_f18e_11ec_877a_7c8ae1581979row3_col1,#T_cc29aa3a_f18e_11ec_877a_7c8ae1581979row3_col2,#T_cc29aa3a_f18e_11ec_877a_7c8ae1581979row3_col3,#T_cc29aa3a_f18e_11ec_877a_7c8ae1581979row3_col4,#T_cc29aa3a_f18e_11ec_877a_7c8ae1581979row3_col5,#T_cc29aa3a_f18e_11ec_877a_7c8ae1581979row3_col6,#T_cc29aa3a_f18e_11ec_877a_7c8ae1581979row4_col0,#T_cc29aa3a_f18e_11ec_877a_7c8ae1581979row4_col2,#T_cc29aa3a_f18e_11ec_877a_7c8ae1581979row4_col3,#T_cc29aa3a_f18e_11ec_877a_7c8ae1581979row4_col4,#T_cc29aa3a_f18e_11ec_877a_7c8ae1581979row4_col5,#T_cc29aa3a_f18e_11ec_877a_7c8ae1581979row4_col6,#T_cc29aa3a_f18e_11ec_877a_7c8ae1581979row5_col0,#T_cc29aa3a_f18e_11ec_877a_7c8ae1581979row5_col2,#T_cc29aa3a_f18e_11ec_877a_7c8ae1581979row5_col3,#T_cc29aa3a_f18e_11ec_877a_7c8ae1581979row5_col4,#T_cc29aa3a_f18e_11ec_877a_7c8ae1581979row5_col5,#T_cc29aa3a_f18e_11ec_877a_7c8ae1581979row5_col6,#T_cc29aa3a_f18e_11ec_877a_7c8ae1581979row6_col0,#T_cc29aa3a_f18e_11ec_877a_7c8ae1581979row6_col2,#T_cc29aa3a_f18e_11ec_877a_7c8ae1581979row6_col3,#T_cc29aa3a_f18e_11ec_877a_7c8ae1581979row6_col4,#T_cc29aa3a_f18e_11ec_877a_7c8ae1581979row6_col5,#T_cc29aa3a_f18e_11ec_877a_7c8ae1581979row6_col6,#T_cc29aa3a_f18e_11ec_877a_7c8ae1581979row7_col0,#T_cc29aa3a_f18e_11ec_877a_7c8ae1581979row7_col2,#T_cc29aa3a_f18e_11ec_877a_7c8ae1581979row7_col5,#T_cc29aa3a_f18e_11ec_877a_7c8ae1581979row7_col6{\n",
       "            background-color:  #00224e;\n",
       "            color:  #f1f1f1;\n",
       "        }#T_cc29aa3a_f18e_11ec_877a_7c8ae1581979row1_col1{\n",
       "            background-color:  #163770;\n",
       "            color:  #f1f1f1;\n",
       "        }#T_cc29aa3a_f18e_11ec_877a_7c8ae1581979row1_col3,#T_cc29aa3a_f18e_11ec_877a_7c8ae1581979row2_col4{\n",
       "            background-color:  #002451;\n",
       "            color:  #f1f1f1;\n",
       "        }#T_cc29aa3a_f18e_11ec_877a_7c8ae1581979row2_col1{\n",
       "            background-color:  #002d68;\n",
       "            color:  #f1f1f1;\n",
       "        }#T_cc29aa3a_f18e_11ec_877a_7c8ae1581979row2_col3{\n",
       "            background-color:  #00306f;\n",
       "            color:  #f1f1f1;\n",
       "        }#T_cc29aa3a_f18e_11ec_877a_7c8ae1581979row4_col1{\n",
       "            background-color:  #002f6d;\n",
       "            color:  #f1f1f1;\n",
       "        }#T_cc29aa3a_f18e_11ec_877a_7c8ae1581979row5_col1{\n",
       "            background-color:  #123570;\n",
       "            color:  #f1f1f1;\n",
       "        }#T_cc29aa3a_f18e_11ec_877a_7c8ae1581979row6_col1{\n",
       "            background-color:  #243c6e;\n",
       "            color:  #f1f1f1;\n",
       "        }#T_cc29aa3a_f18e_11ec_877a_7c8ae1581979row7_col4{\n",
       "            background-color:  #053371;\n",
       "            color:  #f1f1f1;\n",
       "        }</style><table id=\"T_cc29aa3a_f18e_11ec_877a_7c8ae1581979\" ><thead>    <tr>        <th class=\"blank level0\" ></th>        <th class=\"col_heading level0 col0\" >age</th>        <th class=\"col_heading level0 col1\" >fnlwgt</th>        <th class=\"col_heading level0 col2\" >education_num</th>        <th class=\"col_heading level0 col3\" >capital_gain</th>        <th class=\"col_heading level0 col4\" >capital_loss</th>        <th class=\"col_heading level0 col5\" >hours_per_week</th>        <th class=\"col_heading level0 col6\" >wage_class</th>    </tr></thead><tbody>\n",
       "                <tr>\n",
       "                        <th id=\"T_cc29aa3a_f18e_11ec_877a_7c8ae1581979level0_row0\" class=\"row_heading level0 row0\" >count</th>\n",
       "                        <td id=\"T_cc29aa3a_f18e_11ec_877a_7c8ae1581979row0_col0\" class=\"data row0 col0\" >45222.000000</td>\n",
       "                        <td id=\"T_cc29aa3a_f18e_11ec_877a_7c8ae1581979row0_col1\" class=\"data row0 col1\" >45222.000000</td>\n",
       "                        <td id=\"T_cc29aa3a_f18e_11ec_877a_7c8ae1581979row0_col2\" class=\"data row0 col2\" >45222.000000</td>\n",
       "                        <td id=\"T_cc29aa3a_f18e_11ec_877a_7c8ae1581979row0_col3\" class=\"data row0 col3\" >45222.000000</td>\n",
       "                        <td id=\"T_cc29aa3a_f18e_11ec_877a_7c8ae1581979row0_col4\" class=\"data row0 col4\" >45222.000000</td>\n",
       "                        <td id=\"T_cc29aa3a_f18e_11ec_877a_7c8ae1581979row0_col5\" class=\"data row0 col5\" >45222.000000</td>\n",
       "                        <td id=\"T_cc29aa3a_f18e_11ec_877a_7c8ae1581979row0_col6\" class=\"data row0 col6\" >45222.000000</td>\n",
       "            </tr>\n",
       "            <tr>\n",
       "                        <th id=\"T_cc29aa3a_f18e_11ec_877a_7c8ae1581979level0_row1\" class=\"row_heading level0 row1\" >mean</th>\n",
       "                        <td id=\"T_cc29aa3a_f18e_11ec_877a_7c8ae1581979row1_col0\" class=\"data row1 col0\" >38.547941</td>\n",
       "                        <td id=\"T_cc29aa3a_f18e_11ec_877a_7c8ae1581979row1_col1\" class=\"data row1 col1\" >189734.734311</td>\n",
       "                        <td id=\"T_cc29aa3a_f18e_11ec_877a_7c8ae1581979row1_col2\" class=\"data row1 col2\" >10.118460</td>\n",
       "                        <td id=\"T_cc29aa3a_f18e_11ec_877a_7c8ae1581979row1_col3\" class=\"data row1 col3\" >1101.430344</td>\n",
       "                        <td id=\"T_cc29aa3a_f18e_11ec_877a_7c8ae1581979row1_col4\" class=\"data row1 col4\" >88.595418</td>\n",
       "                        <td id=\"T_cc29aa3a_f18e_11ec_877a_7c8ae1581979row1_col5\" class=\"data row1 col5\" >40.938017</td>\n",
       "                        <td id=\"T_cc29aa3a_f18e_11ec_877a_7c8ae1581979row1_col6\" class=\"data row1 col6\" >0.247844</td>\n",
       "            </tr>\n",
       "            <tr>\n",
       "                        <th id=\"T_cc29aa3a_f18e_11ec_877a_7c8ae1581979level0_row2\" class=\"row_heading level0 row2\" >std</th>\n",
       "                        <td id=\"T_cc29aa3a_f18e_11ec_877a_7c8ae1581979row2_col0\" class=\"data row2 col0\" >13.217870</td>\n",
       "                        <td id=\"T_cc29aa3a_f18e_11ec_877a_7c8ae1581979row2_col1\" class=\"data row2 col1\" >105639.195134</td>\n",
       "                        <td id=\"T_cc29aa3a_f18e_11ec_877a_7c8ae1581979row2_col2\" class=\"data row2 col2\" >2.552881</td>\n",
       "                        <td id=\"T_cc29aa3a_f18e_11ec_877a_7c8ae1581979row2_col3\" class=\"data row2 col3\" >7506.430084</td>\n",
       "                        <td id=\"T_cc29aa3a_f18e_11ec_877a_7c8ae1581979row2_col4\" class=\"data row2 col4\" >404.956092</td>\n",
       "                        <td id=\"T_cc29aa3a_f18e_11ec_877a_7c8ae1581979row2_col5\" class=\"data row2 col5\" >12.007508</td>\n",
       "                        <td id=\"T_cc29aa3a_f18e_11ec_877a_7c8ae1581979row2_col6\" class=\"data row2 col6\" >0.431766</td>\n",
       "            </tr>\n",
       "            <tr>\n",
       "                        <th id=\"T_cc29aa3a_f18e_11ec_877a_7c8ae1581979level0_row3\" class=\"row_heading level0 row3\" >min</th>\n",
       "                        <td id=\"T_cc29aa3a_f18e_11ec_877a_7c8ae1581979row3_col0\" class=\"data row3 col0\" >17.000000</td>\n",
       "                        <td id=\"T_cc29aa3a_f18e_11ec_877a_7c8ae1581979row3_col1\" class=\"data row3 col1\" >13492.000000</td>\n",
       "                        <td id=\"T_cc29aa3a_f18e_11ec_877a_7c8ae1581979row3_col2\" class=\"data row3 col2\" >1.000000</td>\n",
       "                        <td id=\"T_cc29aa3a_f18e_11ec_877a_7c8ae1581979row3_col3\" class=\"data row3 col3\" >0.000000</td>\n",
       "                        <td id=\"T_cc29aa3a_f18e_11ec_877a_7c8ae1581979row3_col4\" class=\"data row3 col4\" >0.000000</td>\n",
       "                        <td id=\"T_cc29aa3a_f18e_11ec_877a_7c8ae1581979row3_col5\" class=\"data row3 col5\" >1.000000</td>\n",
       "                        <td id=\"T_cc29aa3a_f18e_11ec_877a_7c8ae1581979row3_col6\" class=\"data row3 col6\" >0.000000</td>\n",
       "            </tr>\n",
       "            <tr>\n",
       "                        <th id=\"T_cc29aa3a_f18e_11ec_877a_7c8ae1581979level0_row4\" class=\"row_heading level0 row4\" >25%</th>\n",
       "                        <td id=\"T_cc29aa3a_f18e_11ec_877a_7c8ae1581979row4_col0\" class=\"data row4 col0\" >28.000000</td>\n",
       "                        <td id=\"T_cc29aa3a_f18e_11ec_877a_7c8ae1581979row4_col1\" class=\"data row4 col1\" >117388.250000</td>\n",
       "                        <td id=\"T_cc29aa3a_f18e_11ec_877a_7c8ae1581979row4_col2\" class=\"data row4 col2\" >9.000000</td>\n",
       "                        <td id=\"T_cc29aa3a_f18e_11ec_877a_7c8ae1581979row4_col3\" class=\"data row4 col3\" >0.000000</td>\n",
       "                        <td id=\"T_cc29aa3a_f18e_11ec_877a_7c8ae1581979row4_col4\" class=\"data row4 col4\" >0.000000</td>\n",
       "                        <td id=\"T_cc29aa3a_f18e_11ec_877a_7c8ae1581979row4_col5\" class=\"data row4 col5\" >40.000000</td>\n",
       "                        <td id=\"T_cc29aa3a_f18e_11ec_877a_7c8ae1581979row4_col6\" class=\"data row4 col6\" >0.000000</td>\n",
       "            </tr>\n",
       "            <tr>\n",
       "                        <th id=\"T_cc29aa3a_f18e_11ec_877a_7c8ae1581979level0_row5\" class=\"row_heading level0 row5\" >50%</th>\n",
       "                        <td id=\"T_cc29aa3a_f18e_11ec_877a_7c8ae1581979row5_col0\" class=\"data row5 col0\" >37.000000</td>\n",
       "                        <td id=\"T_cc29aa3a_f18e_11ec_877a_7c8ae1581979row5_col1\" class=\"data row5 col1\" >178316.000000</td>\n",
       "                        <td id=\"T_cc29aa3a_f18e_11ec_877a_7c8ae1581979row5_col2\" class=\"data row5 col2\" >10.000000</td>\n",
       "                        <td id=\"T_cc29aa3a_f18e_11ec_877a_7c8ae1581979row5_col3\" class=\"data row5 col3\" >0.000000</td>\n",
       "                        <td id=\"T_cc29aa3a_f18e_11ec_877a_7c8ae1581979row5_col4\" class=\"data row5 col4\" >0.000000</td>\n",
       "                        <td id=\"T_cc29aa3a_f18e_11ec_877a_7c8ae1581979row5_col5\" class=\"data row5 col5\" >40.000000</td>\n",
       "                        <td id=\"T_cc29aa3a_f18e_11ec_877a_7c8ae1581979row5_col6\" class=\"data row5 col6\" >0.000000</td>\n",
       "            </tr>\n",
       "            <tr>\n",
       "                        <th id=\"T_cc29aa3a_f18e_11ec_877a_7c8ae1581979level0_row6\" class=\"row_heading level0 row6\" >75%</th>\n",
       "                        <td id=\"T_cc29aa3a_f18e_11ec_877a_7c8ae1581979row6_col0\" class=\"data row6 col0\" >47.000000</td>\n",
       "                        <td id=\"T_cc29aa3a_f18e_11ec_877a_7c8ae1581979row6_col1\" class=\"data row6 col1\" >237926.000000</td>\n",
       "                        <td id=\"T_cc29aa3a_f18e_11ec_877a_7c8ae1581979row6_col2\" class=\"data row6 col2\" >13.000000</td>\n",
       "                        <td id=\"T_cc29aa3a_f18e_11ec_877a_7c8ae1581979row6_col3\" class=\"data row6 col3\" >0.000000</td>\n",
       "                        <td id=\"T_cc29aa3a_f18e_11ec_877a_7c8ae1581979row6_col4\" class=\"data row6 col4\" >0.000000</td>\n",
       "                        <td id=\"T_cc29aa3a_f18e_11ec_877a_7c8ae1581979row6_col5\" class=\"data row6 col5\" >45.000000</td>\n",
       "                        <td id=\"T_cc29aa3a_f18e_11ec_877a_7c8ae1581979row6_col6\" class=\"data row6 col6\" >0.000000</td>\n",
       "            </tr>\n",
       "            <tr>\n",
       "                        <th id=\"T_cc29aa3a_f18e_11ec_877a_7c8ae1581979level0_row7\" class=\"row_heading level0 row7\" >max</th>\n",
       "                        <td id=\"T_cc29aa3a_f18e_11ec_877a_7c8ae1581979row7_col0\" class=\"data row7 col0\" >90.000000</td>\n",
       "                        <td id=\"T_cc29aa3a_f18e_11ec_877a_7c8ae1581979row7_col1\" class=\"data row7 col1\" >1490400.000000</td>\n",
       "                        <td id=\"T_cc29aa3a_f18e_11ec_877a_7c8ae1581979row7_col2\" class=\"data row7 col2\" >16.000000</td>\n",
       "                        <td id=\"T_cc29aa3a_f18e_11ec_877a_7c8ae1581979row7_col3\" class=\"data row7 col3\" >99999.000000</td>\n",
       "                        <td id=\"T_cc29aa3a_f18e_11ec_877a_7c8ae1581979row7_col4\" class=\"data row7 col4\" >4356.000000</td>\n",
       "                        <td id=\"T_cc29aa3a_f18e_11ec_877a_7c8ae1581979row7_col5\" class=\"data row7 col5\" >99.000000</td>\n",
       "                        <td id=\"T_cc29aa3a_f18e_11ec_877a_7c8ae1581979row7_col6\" class=\"data row7 col6\" >1.000000</td>\n",
       "            </tr>\n",
       "    </tbody></table>"
      ],
      "text/plain": [
       "<pandas.io.formats.style.Styler at 0x1dbbdcebe20>"
      ]
     },
     "execution_count": 16,
     "metadata": {},
     "output_type": "execute_result"
    }
   ],
   "source": [
    "df.describe().style.background_gradient(cmap='cividis')"
   ]
  },
  {
   "cell_type": "code",
   "execution_count": 17,
   "metadata": {},
   "outputs": [
    {
     "data": {
      "text/html": [
       "<div>\n",
       "<style scoped>\n",
       "    .dataframe tbody tr th:only-of-type {\n",
       "        vertical-align: middle;\n",
       "    }\n",
       "\n",
       "    .dataframe tbody tr th {\n",
       "        vertical-align: top;\n",
       "    }\n",
       "\n",
       "    .dataframe thead th {\n",
       "        text-align: right;\n",
       "    }\n",
       "</style>\n",
       "<table border=\"1\" class=\"dataframe\">\n",
       "  <thead>\n",
       "    <tr style=\"text-align: right;\">\n",
       "      <th></th>\n",
       "      <th>workclass</th>\n",
       "      <th>education</th>\n",
       "      <th>marital_status</th>\n",
       "      <th>occupation</th>\n",
       "      <th>relationship</th>\n",
       "      <th>race</th>\n",
       "      <th>sex</th>\n",
       "      <th>native_country</th>\n",
       "    </tr>\n",
       "  </thead>\n",
       "  <tbody>\n",
       "    <tr>\n",
       "      <th>count</th>\n",
       "      <td>45222</td>\n",
       "      <td>45222</td>\n",
       "      <td>45222</td>\n",
       "      <td>45222</td>\n",
       "      <td>45222</td>\n",
       "      <td>45222</td>\n",
       "      <td>45222</td>\n",
       "      <td>45222</td>\n",
       "    </tr>\n",
       "    <tr>\n",
       "      <th>unique</th>\n",
       "      <td>7</td>\n",
       "      <td>16</td>\n",
       "      <td>7</td>\n",
       "      <td>14</td>\n",
       "      <td>6</td>\n",
       "      <td>5</td>\n",
       "      <td>2</td>\n",
       "      <td>41</td>\n",
       "    </tr>\n",
       "    <tr>\n",
       "      <th>top</th>\n",
       "      <td>Private</td>\n",
       "      <td>HS-grad</td>\n",
       "      <td>Married-civ-spouse</td>\n",
       "      <td>Craft-repair</td>\n",
       "      <td>Husband</td>\n",
       "      <td>White</td>\n",
       "      <td>Male</td>\n",
       "      <td>United-States</td>\n",
       "    </tr>\n",
       "    <tr>\n",
       "      <th>freq</th>\n",
       "      <td>33307</td>\n",
       "      <td>14783</td>\n",
       "      <td>21055</td>\n",
       "      <td>6020</td>\n",
       "      <td>18666</td>\n",
       "      <td>38903</td>\n",
       "      <td>30527</td>\n",
       "      <td>41292</td>\n",
       "    </tr>\n",
       "  </tbody>\n",
       "</table>\n",
       "</div>"
      ],
      "text/plain": [
       "       workclass education       marital_status     occupation relationship  \\\n",
       "count      45222     45222                45222          45222        45222   \n",
       "unique         7        16                    7             14            6   \n",
       "top      Private   HS-grad   Married-civ-spouse   Craft-repair      Husband   \n",
       "freq       33307     14783                21055           6020        18666   \n",
       "\n",
       "          race    sex  native_country  \n",
       "count    45222  45222           45222  \n",
       "unique       5      2              41  \n",
       "top      White   Male   United-States  \n",
       "freq     38903  30527           41292  "
      ]
     },
     "execution_count": 17,
     "metadata": {},
     "output_type": "execute_result"
    }
   ],
   "source": [
    "df.describe(include=[\"O\"]) \n"
   ]
  },
  {
   "cell_type": "markdown",
   "metadata": {},
   "source": [
    "## EDA"
   ]
  },
  {
   "cell_type": "markdown",
   "metadata": {},
   "source": [
    "#### Count Plot of Categorical features - "
   ]
  },
  {
   "cell_type": "code",
   "execution_count": 18,
   "metadata": {},
   "outputs": [
    {
     "name": "stdout",
     "output_type": "stream",
     "text": [
      "WORKCLASS\n",
      "                   counts  Percentge\n",
      " Private            33307  73.652205\n",
      " Self-emp-not-inc    3796   8.394144\n",
      " Local-gov           3100   6.855071\n",
      " State-gov           1946   4.303215\n",
      " Self-emp-inc        1646   3.639821\n",
      " Federal-gov         1406   3.109106\n",
      " Without-pay           21   0.046438\n"
     ]
    },
    {
     "data": {
      "image/png": "[encoded data removed]",
      "text/plain": [
       "<Figure size 720x360 with 1 Axes>"
      ]
     },
     "metadata": {
      "needs_background": "light"
     },
     "output_type": "display_data"
    },
    {
     "name": "stdout",
     "output_type": "stream",
     "text": [
      "EDUCATION\n",
      "               counts  Percentge\n",
      " HS-grad        14783  32.689841\n",
      " Some-college    9899  21.889788\n",
      " Bachelors       7570  16.739640\n",
      " Masters         2514   5.559241\n",
      " Assoc-voc       1959   4.331962\n",
      " 11th            1619   3.580116\n",
      " Assoc-acdm      1507   3.332449\n",
      " 10th            1223   2.704436\n",
      " 7th-8th          823   1.819911\n",
      " Prof-school      785   1.735881\n",
      " 9th              676   1.494848\n",
      " 12th             577   1.275928\n",
      " Doctorate        544   1.202954\n",
      " 5th-6th          449   0.992880\n",
      " 1st-4th          222   0.490912\n",
      " Preschool         72   0.159215\n"
     ]
    },
    {
     "data": {
      "image/png": "[encoded data removed]",
      "text/plain": [
       "<Figure size 720x360 with 1 Axes>"
      ]
     },
     "metadata": {
      "needs_background": "light"
     },
     "output_type": "display_data"
    },
    {
     "name": "stdout",
     "output_type": "stream",
     "text": [
      "MARITAL_STATUS\n",
      "                        counts  Percentge\n",
      " Married-civ-spouse      21055  46.559197\n",
      " Never-married           14598  32.280748\n",
      " Divorced                 6297  13.924638\n",
      " Separated                1411   3.120163\n",
      " Widowed                  1277   2.823847\n",
      " Married-spouse-absent     552   1.220645\n",
      " Married-AF-spouse          32   0.070762\n"
     ]
    },
    {
     "data": {
      "image/png": "[encoded data removed]",
      "text/plain": [
       "<Figure size 720x360 with 1 Axes>"
      ]
     },
     "metadata": {
      "needs_background": "light"
     },
     "output_type": "display_data"
    },
    {
     "name": "stdout",
     "output_type": "stream",
     "text": [
      "OCCUPATION\n",
      "                    counts  Percentge\n",
      " Craft-repair         6020  13.312105\n",
      " Prof-specialty       6008  13.285569\n",
      " Exec-managerial      5984  13.232497\n",
      " Adm-clerical         5540  12.250674\n",
      " Sales                5408  11.958781\n",
      " Other-service        4808  10.631993\n",
      " Machine-op-inspct    2970   6.567600\n",
      " Transport-moving     2316   5.121401\n",
      " Handlers-cleaners    2046   4.524347\n",
      " Farming-fishing      1480   3.272743\n",
      " Tech-support         1420   3.140065\n",
      " Protective-serv       976   2.158242\n",
      " Priv-house-serv       232   0.513025\n",
      " Armed-Forces           14   0.030958\n"
     ]
    },
    {
     "data": {
      "image/png": "[encoded data removed]",
      "text/plain": [
       "<Figure size 720x360 with 1 Axes>"
      ]
     },
     "metadata": {
      "needs_background": "light"
     },
     "output_type": "display_data"
    },
    {
     "name": "stdout",
     "output_type": "stream",
     "text": [
      "RELATIONSHIP\n",
      "                 counts  Percentge\n",
      " Husband          18666  41.276370\n",
      " Not-in-family    11702  25.876786\n",
      " Own-child         6626  14.652160\n",
      " Unmarried         4788  10.587767\n",
      " Wife              2091   4.623856\n",
      " Other-relative    1349   2.983061\n"
     ]
    },
    {
     "data": {
      "image/png": "[encoded data removed]",
      "text/plain": [
       "<Figure size 720x360 with 1 Axes>"
      ]
     },
     "metadata": {
      "needs_background": "light"
     },
     "output_type": "display_data"
    },
    {
     "name": "stdout",
     "output_type": "stream",
     "text": [
      "RACE\n",
      "                     counts  Percentge\n",
      " White                38903  86.026713\n",
      " Black                 4228   9.349432\n",
      " Asian-Pac-Islander    1303   2.881341\n",
      " Amer-Indian-Eskimo     435   0.961921\n",
      " Other                  353   0.780594\n"
     ]
    },
    {
     "data": {
      "image/png": "[encoded data removed]",
      "text/plain": [
       "<Figure size 720x360 with 1 Axes>"
      ]
     },
     "metadata": {
      "needs_background": "light"
     },
     "output_type": "display_data"
    },
    {
     "name": "stdout",
     "output_type": "stream",
     "text": [
      "SEX\n",
      "         counts  Percentge\n",
      " Male     30527  67.504754\n",
      " Female   14695  32.495246\n"
     ]
    },
    {
     "data": {
      "image/png": "[encoded data removed]",
      "text/plain": [
       "<Figure size 720x360 with 1 Axes>"
      ]
     },
     "metadata": {
      "needs_background": "light"
     },
     "output_type": "display_data"
    },
    {
     "name": "stdout",
     "output_type": "stream",
     "text": [
      "NATIVE_COUNTRY\n",
      "                             counts  Percentge\n",
      " United-States                41292  91.309540\n",
      " Mexico                         903   1.996816\n",
      " Philippines                    283   0.625802\n",
      " Germany                        193   0.426783\n",
      " Puerto-Rico                    175   0.386980\n",
      " Canada                         163   0.360444\n",
      " El-Salvador                    147   0.325063\n",
      " India                          147   0.325063\n",
      " Cuba                           133   0.294105\n",
      " England                        119   0.263146\n",
      " China                          113   0.249878\n",
      " Jamaica                        103   0.227765\n",
      " South                          101   0.223343\n",
      " Italy                          100   0.221131\n",
      " Dominican-Republic              97   0.214497\n",
      " Japan                           89   0.196807\n",
      " Guatemala                       86   0.190173\n",
      " Vietnam                         83   0.183539\n",
      " Columbia                        82   0.181328\n",
      " Poland                          81   0.179116\n",
      " Haiti                           69   0.152581\n",
      " Portugal                        62   0.137101\n",
      " Iran                            56   0.123834\n",
      " Taiwan                          55   0.121622\n",
      " Greece                          49   0.108354\n",
      " Nicaragua                       48   0.106143\n",
      " Peru                            45   0.099509\n",
      " Ecuador                         43   0.095086\n",
      " France                          36   0.079607\n",
      " Ireland                         36   0.079607\n",
      " Thailand                        29   0.064128\n",
      " Hong                            28   0.061917\n",
      " Cambodia                        26   0.057494\n",
      " Trinadad&Tobago                 26   0.057494\n",
      " Yugoslavia                      23   0.050860\n",
      " Outlying-US(Guam-USVI-etc)      22   0.048649\n",
      " Laos                            21   0.046438\n",
      " Scotland                        20   0.044226\n",
      " Honduras                        19   0.042015\n",
      " Hungary                         18   0.039804\n",
      " Holand-Netherlands               1   0.002211\n"
     ]
    },
    {
     "data": {
      "image/png": "[encoded data removed]",
      "text/plain": [
       "<Figure size 720x360 with 1 Axes>"
      ]
     },
     "metadata": {
      "needs_background": "light"
     },
     "output_type": "display_data"
    },
    {
     "name": "stdout",
     "output_type": "stream",
     "text": [
      "WAGE_CLASS\n",
      "   counts  Percentge\n",
      "0   34014  75.215603\n",
      "1   11208  24.784397\n"
     ]
    },
    {
     "data": {
      "image/png": "[encoded data removed]",
      "text/plain": [
       "<Figure size 720x360 with 1 Axes>"
      ]
     },
     "metadata": {
      "needs_background": "light"
     },
     "output_type": "display_data"
    }
   ],
   "source": [
    "Categorical_Features = ['workclass', 'education','marital_status','occupation','relationship',\n",
    "                        'race','sex','native_country','wage_class']\n",
    "\n",
    "for col in Categorical_Features:\n",
    "        x = pd.DataFrame({\"counts\":df[col].value_counts(),\"Percentge\": df[col].value_counts(normalize= True)*100},index=df[col].value_counts().index)\n",
    "        print(col.upper()) # print column name})\n",
    "        print(x) # print dataframe\n",
    "        plt.figure(figsize=(10,5))\n",
    "        sns.countplot(df[col],palette=\"cividis\")\n",
    "        plt.xticks(rotation=90)\n",
    "        plt.show()"
   ]
  },
  {
   "cell_type": "markdown",
   "metadata": {},
   "source": [
    "### Few observations-\n",
    "Workclass : Percentage of private category employees was the highest - 73 %, Without-pay was the lowest 0.04 % (very negligible from the graph)\n",
    "\n",
    "Education: HS-grad had highest number - 32% foloowed by people having some college degree - 21 % and preschool being the lowest\n",
    "\n",
    "Marital_status: Maximum people had been married to civil spouses -46%, Never Married are 32 %, married to Airforce spouse are the lowest - merely 0.07%\n",
    "\n",
    "Occupation : There was very close proximity between the Craft -repair (13.31%) and Prof-Speciality (13.28%) . The lowest people were working in the Armed Forces (0.03 %)\n",
    "\n",
    "Relationship : Husbands earned more - 41%, People who do not stay with the family earn around 25% and wife category earned to the second last 4 %\n",
    "\n",
    "Race: If we look at the native country statistics, we observe that majority of the people were from US, so in Race category white people were more( 86%) , followed by Black, Asian, American- Indian and others.This dataset is totally biased towards the \"white\" race.\n",
    "\n",
    "Sex :, Males were 67% and female count was 32 %\n",
    "\n",
    "native_country: Maximum people were from US (91% ) followed by Mexico (1.9 %)\n",
    "\n",
    "Wage_class: People who have <=50K salary are 75% and >=50K are 24%\n",
    "\n",
    " "
   ]
  },
  {
   "cell_type": "markdown",
   "metadata": {},
   "source": [
    "#### Distribution of Numerical Features - "
   ]
  },
  {
   "cell_type": "code",
   "execution_count": 19,
   "metadata": {},
   "outputs": [
    {
     "data": {
      "image/png": "[encoded data removed]",
      "text/plain": [
       "<Figure size 720x360 with 1 Axes>"
      ]
     },
     "metadata": {
      "needs_background": "light"
     },
     "output_type": "display_data"
    },
    {
     "data": {
      "image/png": "[encoded data removed]",
      "text/plain": [
       "<Figure size 720x360 with 1 Axes>"
      ]
     },
     "metadata": {
      "needs_background": "light"
     },
     "output_type": "display_data"
    },
    {
     "data": {
      "image/png": "[encoded data removed]",
      "text/plain": [
       "<Figure size 720x360 with 1 Axes>"
      ]
     },
     "metadata": {
      "needs_background": "light"
     },
     "output_type": "display_data"
    },
    {
     "data": {
      "image/png": "[encoded data removed]",
      "text/plain": [
       "<Figure size 720x360 with 1 Axes>"
      ]
     },
     "metadata": {
      "needs_background": "light"
     },
     "output_type": "display_data"
    },
    {
     "data": {
      "image/png": "[encoded data removed]",
      "text/plain": [
       "<Figure size 720x360 with 1 Axes>"
      ]
     },
     "metadata": {
      "needs_background": "light"
     },
     "output_type": "display_data"
    },
    {
     "data": {
      "image/png": "[encoded data removed]",
      "text/plain": [
       "<Figure size 720x360 with 1 Axes>"
      ]
     },
     "metadata": {
      "needs_background": "light"
     },
     "output_type": "display_data"
    }
   ],
   "source": [
    "Numerical_Features = ['age', 'fnlwgt','education_num','capital_gain','capital_loss','hours_per_week', ]\n",
    "\n",
    "for col in Numerical_Features:\n",
    "\n",
    "        plt.figure(figsize=(10,5))\n",
    "        sns.distplot(df[col],hist=True,color='gold')\n",
    "        plt.xticks(rotation=90)\n",
    "        plt.show()\n",
    "        "
   ]
  },
  {
   "cell_type": "markdown",
   "metadata": {},
   "source": [
    "#### Observations on Numerical Features : \n",
    "\n",
    "1. Age: Minimum age is around 17 and maximum age is 90 years. People who were in the age-range 20 to 40 worked more, after 40 there was significant drop in the work. People below 20 and above 80 earned <50K. People who were 36 yrs old are 2.83 %.\n",
    "\n",
    "2. FNLWGT : 21 people had highest number i.e.(0.04%),The distribution of finalweight seems to be rightly skewed since mean(189664.1) is greater than median(178144.5).We will drop this column later\n",
    "\n",
    "3. Capital Gain - This histogram shows that most of the \"capital-gain\" values are centered on 0 and few on 10k and 99k.\n",
    "capital-gain is concentrated on the one particular value and other are spread with large standard deviation(7452.01).\n",
    "capital-gain shows that either a person has no gain or has gain of very large amount(10k or 99k).\n",
    "\n",
    "4. Capital Loss- This histogram shows that most of the \"capital-loss\" values are centered on 0 and only few are non zero(2282).This attribute is similar to the capital-gain i.e. most of the values are centered on 0(nearly 43000 of them)\n",
    "\n",
    "5. Hours per Week - Most people worked for 40 hrs in a week (47%), followed by 50 (9%) and 45 (5.75%)"
   ]
  },
  {
   "cell_type": "markdown",
   "metadata": {},
   "source": [
    "### Relationship between Capital Gain and Capital Loss"
   ]
  },
  {
   "cell_type": "code",
   "execution_count": 20,
   "metadata": {},
   "outputs": [
    {
     "data": {
      "image/png": "[encoded data removed]",
      "text/plain": [
       "<Figure size 360x360 with 1 Axes>"
      ]
     },
     "metadata": {
      "needs_background": "light"
     },
     "output_type": "display_data"
    }
   ],
   "source": [
    "sns.relplot('capital_gain','capital_loss', data= df,color='navy')\n",
    "plt.xlabel(\"capital_gain\")\n",
    "plt.ylabel(\"capital_loss\")\n",
    "plt.show()"
   ]
  },
  {
   "cell_type": "markdown",
   "metadata": {},
   "source": [
    "#### Possibilities for capital gain and capital loss\n",
    "\n",
    "- Both capital gain and capital loss can be zero\n",
    "- If capital.gain is zero there is possibility of capital loss being high or above zero.\n",
    "- If capital loss is zero there is possibility of capital.gain being high or above zero.\n",
    "- With the help of this, we can do one modification later(i.e. capital-change = capital-gain - capital-loss])"
   ]
  },
  {
   "cell_type": "markdown",
   "metadata": {},
   "source": [
    "### Categorize countries based on the continents"
   ]
  },
  {
   "cell_type": "code",
   "execution_count": 21,
   "metadata": {},
   "outputs": [
    {
     "data": {
      "text/plain": [
       "array([' United-States', ' Cuba', ' Jamaica', ' India', ' Mexico',\n",
       "       ' Puerto-Rico', ' Honduras', ' England', ' Canada', ' Germany',\n",
       "       ' Iran', ' Philippines', ' Poland', ' Columbia', ' Cambodia',\n",
       "       ' Thailand', ' Ecuador', ' Laos', ' Taiwan', ' Haiti', ' Portugal',\n",
       "       ' Dominican-Republic', ' El-Salvador', ' France', ' Guatemala',\n",
       "       ' Italy', ' China', ' South', ' Japan', ' Yugoslavia', ' Peru',\n",
       "       ' Outlying-US(Guam-USVI-etc)', ' Scotland', ' Trinadad&Tobago',\n",
       "       ' Greece', ' Nicaragua', ' Vietnam', ' Hong', ' Ireland',\n",
       "       ' Hungary', ' Holand-Netherlands'], dtype=object)"
      ]
     },
     "execution_count": 21,
     "metadata": {},
     "output_type": "execute_result"
    }
   ],
   "source": [
    "df['native_country'].unique()"
   ]
  },
  {
   "cell_type": "code",
   "execution_count": 22,
   "metadata": {},
   "outputs": [],
   "source": [
    "def native_cont(country):\n",
    "    if country in [' United-States',' Canada']:\n",
    "        return 'North_America'\n",
    "    elif country in [' Puerto-Rico',' El-Salvador',' Cuba',' Jamaica',' Dominican-Republic',' Guatemala',' Haiti',' Nicaragua',' Trinadad&Tobago',' Honduras']:\n",
    "        return 'Central_America' \n",
    "    elif country in [' Mexico',' Columbia',' Vietnam',' Peru',' Ecuador',' South',' Outlying-US(Guam-USVI-etc)']:\n",
    "        return 'South_America'\n",
    "    elif country in [' Germany',' England',' Italy',' Poland',' Portugal',' Greece',' Yugoslavia',' France',' Ireland',' Scotland',' Hungary',' Holand-Netherlands']:\n",
    "        return 'EU'\n",
    "    elif country in [' India',' Iran',' China',' Japan',' Thailand',' Hong',' Cambodia',' Laos',' Philippines',' Taiwan']:\n",
    "        return 'Asian'\n",
    "    else:\n",
    "        return country"
   ]
  },
  {
   "cell_type": "code",
   "execution_count": 23,
   "metadata": {},
   "outputs": [
    {
     "data": {
      "text/html": [
       "<div>\n",
       "<style scoped>\n",
       "    .dataframe tbody tr th:only-of-type {\n",
       "        vertical-align: middle;\n",
       "    }\n",
       "\n",
       "    .dataframe tbody tr th {\n",
       "        vertical-align: top;\n",
       "    }\n",
       "\n",
       "    .dataframe thead th {\n",
       "        text-align: right;\n",
       "    }\n",
       "</style>\n",
       "<table border=\"1\" class=\"dataframe\">\n",
       "  <thead>\n",
       "    <tr style=\"text-align: right;\">\n",
       "      <th></th>\n",
       "      <th>age</th>\n",
       "      <th>workclass</th>\n",
       "      <th>fnlwgt</th>\n",
       "      <th>education</th>\n",
       "      <th>education_num</th>\n",
       "      <th>marital_status</th>\n",
       "      <th>occupation</th>\n",
       "      <th>relationship</th>\n",
       "      <th>race</th>\n",
       "      <th>sex</th>\n",
       "      <th>capital_gain</th>\n",
       "      <th>capital_loss</th>\n",
       "      <th>hours_per_week</th>\n",
       "      <th>native_country</th>\n",
       "      <th>wage_class</th>\n",
       "    </tr>\n",
       "  </thead>\n",
       "  <tbody>\n",
       "    <tr>\n",
       "      <th>0</th>\n",
       "      <td>39</td>\n",
       "      <td>State-gov</td>\n",
       "      <td>77516</td>\n",
       "      <td>Bachelors</td>\n",
       "      <td>13</td>\n",
       "      <td>Never-married</td>\n",
       "      <td>Adm-clerical</td>\n",
       "      <td>Not-in-family</td>\n",
       "      <td>White</td>\n",
       "      <td>Male</td>\n",
       "      <td>2174</td>\n",
       "      <td>0</td>\n",
       "      <td>40</td>\n",
       "      <td>North_America</td>\n",
       "      <td>0</td>\n",
       "    </tr>\n",
       "    <tr>\n",
       "      <th>1</th>\n",
       "      <td>50</td>\n",
       "      <td>Self-emp-not-inc</td>\n",
       "      <td>83311</td>\n",
       "      <td>Bachelors</td>\n",
       "      <td>13</td>\n",
       "      <td>Married-civ-spouse</td>\n",
       "      <td>Exec-managerial</td>\n",
       "      <td>Husband</td>\n",
       "      <td>White</td>\n",
       "      <td>Male</td>\n",
       "      <td>0</td>\n",
       "      <td>0</td>\n",
       "      <td>13</td>\n",
       "      <td>North_America</td>\n",
       "      <td>0</td>\n",
       "    </tr>\n",
       "    <tr>\n",
       "      <th>2</th>\n",
       "      <td>38</td>\n",
       "      <td>Private</td>\n",
       "      <td>215646</td>\n",
       "      <td>HS-grad</td>\n",
       "      <td>9</td>\n",
       "      <td>Divorced</td>\n",
       "      <td>Handlers-cleaners</td>\n",
       "      <td>Not-in-family</td>\n",
       "      <td>White</td>\n",
       "      <td>Male</td>\n",
       "      <td>0</td>\n",
       "      <td>0</td>\n",
       "      <td>40</td>\n",
       "      <td>North_America</td>\n",
       "      <td>0</td>\n",
       "    </tr>\n",
       "  </tbody>\n",
       "</table>\n",
       "</div>"
      ],
      "text/plain": [
       "   age          workclass  fnlwgt   education  education_num  \\\n",
       "0   39          State-gov   77516   Bachelors             13   \n",
       "1   50   Self-emp-not-inc   83311   Bachelors             13   \n",
       "2   38            Private  215646     HS-grad              9   \n",
       "\n",
       "        marital_status          occupation    relationship    race    sex  \\\n",
       "0        Never-married        Adm-clerical   Not-in-family   White   Male   \n",
       "1   Married-civ-spouse     Exec-managerial         Husband   White   Male   \n",
       "2             Divorced   Handlers-cleaners   Not-in-family   White   Male   \n",
       "\n",
       "   capital_gain  capital_loss  hours_per_week native_country  wage_class  \n",
       "0          2174             0              40  North_America           0  \n",
       "1             0             0              13  North_America           0  \n",
       "2             0             0              40  North_America           0  "
      ]
     },
     "execution_count": 23,
     "metadata": {},
     "output_type": "execute_result"
    }
   ],
   "source": [
    "df['native_country'] = df['native_country'].apply(native_cont)\n",
    "df.head(3)"
   ]
  },
  {
   "cell_type": "code",
   "execution_count": 24,
   "metadata": {},
   "outputs": [
    {
     "data": {
      "image/png": "[encoded data removed]",
      "text/plain": [
       "<Figure size 576x432 with 1 Axes>"
      ]
     },
     "metadata": {
      "needs_background": "light"
     },
     "output_type": "display_data"
    }
   ],
   "source": [
    "plt.figure(figsize=(8,6))\n",
    "sns.barplot(x='native_country',y='wage_class',data=df,color='gold')\n",
    "plt.xticks(rotation=90)\n",
    "plt.xlabel('Native Contries')\n",
    "plt.ylabel('Wage Class')\n",
    "plt.title('Wage Class Vs Native Continents')\n",
    "plt.show()"
   ]
  },
  {
   "cell_type": "markdown",
   "metadata": {},
   "source": [
    "### Label Encoding"
   ]
  },
  {
   "cell_type": "code",
   "execution_count": 25,
   "metadata": {},
   "outputs": [],
   "source": [
    "for column in df:\n",
    "    enc=LabelEncoder()\n",
    "    if df.dtypes[column]==np.object:\n",
    "         df[column]=enc.fit_transform(df[column])"
   ]
  },
  {
   "cell_type": "code",
   "execution_count": 26,
   "metadata": {},
   "outputs": [
    {
     "data": {
      "text/html": [
       "<style  type=\"text/css\" >\n",
       "#T_d33877d4_f18e_11ec_a37f_7c8ae1581979row0_col0{\n",
       "            background-color:  #6f7073;\n",
       "            color:  #000000;\n",
       "        }#T_d33877d4_f18e_11ec_a37f_7c8ae1581979row0_col1,#T_d33877d4_f18e_11ec_a37f_7c8ae1581979row0_col4,#T_d33877d4_f18e_11ec_a37f_7c8ae1581979row0_col5,#T_d33877d4_f18e_11ec_a37f_7c8ae1581979row0_col8,#T_d33877d4_f18e_11ec_a37f_7c8ae1581979row0_col9,#T_d33877d4_f18e_11ec_a37f_7c8ae1581979row0_col10,#T_d33877d4_f18e_11ec_a37f_7c8ae1581979row0_col12,#T_d33877d4_f18e_11ec_a37f_7c8ae1581979row0_col13,#T_d33877d4_f18e_11ec_a37f_7c8ae1581979row1_col4,#T_d33877d4_f18e_11ec_a37f_7c8ae1581979row1_col8,#T_d33877d4_f18e_11ec_a37f_7c8ae1581979row1_col9,#T_d33877d4_f18e_11ec_a37f_7c8ae1581979row1_col13,#T_d33877d4_f18e_11ec_a37f_7c8ae1581979row2_col3,#T_d33877d4_f18e_11ec_a37f_7c8ae1581979row2_col8,#T_d33877d4_f18e_11ec_a37f_7c8ae1581979row2_col9,#T_d33877d4_f18e_11ec_a37f_7c8ae1581979row2_col12,#T_d33877d4_f18e_11ec_a37f_7c8ae1581979row2_col13,#T_d33877d4_f18e_11ec_a37f_7c8ae1581979row3_col0,#T_d33877d4_f18e_11ec_a37f_7c8ae1581979row3_col9,#T_d33877d4_f18e_11ec_a37f_7c8ae1581979row3_col12,#T_d33877d4_f18e_11ec_a37f_7c8ae1581979row3_col13,#T_d33877d4_f18e_11ec_a37f_7c8ae1581979row4_col2,#T_d33877d4_f18e_11ec_a37f_7c8ae1581979row4_col4,#T_d33877d4_f18e_11ec_a37f_7c8ae1581979row4_col6,#T_d33877d4_f18e_11ec_a37f_7c8ae1581979row4_col7,#T_d33877d4_f18e_11ec_a37f_7c8ae1581979row4_col12{\n",
       "            background-color:  #fee838;\n",
       "            color:  #000000;\n",
       "        }#T_d33877d4_f18e_11ec_a37f_7c8ae1581979row0_col2,#T_d33877d4_f18e_11ec_a37f_7c8ae1581979row0_col6,#T_d33877d4_f18e_11ec_a37f_7c8ae1581979row0_col11,#T_d33877d4_f18e_11ec_a37f_7c8ae1581979row0_col14,#T_d33877d4_f18e_11ec_a37f_7c8ae1581979row1_col7,#T_d33877d4_f18e_11ec_a37f_7c8ae1581979row1_col10,#T_d33877d4_f18e_11ec_a37f_7c8ae1581979row1_col11,#T_d33877d4_f18e_11ec_a37f_7c8ae1581979row1_col12,#T_d33877d4_f18e_11ec_a37f_7c8ae1581979row1_col14,#T_d33877d4_f18e_11ec_a37f_7c8ae1581979row2_col1,#T_d33877d4_f18e_11ec_a37f_7c8ae1581979row2_col5,#T_d33877d4_f18e_11ec_a37f_7c8ae1581979row2_col10,#T_d33877d4_f18e_11ec_a37f_7c8ae1581979row2_col11,#T_d33877d4_f18e_11ec_a37f_7c8ae1581979row2_col14,#T_d33877d4_f18e_11ec_a37f_7c8ae1581979row3_col1,#T_d33877d4_f18e_11ec_a37f_7c8ae1581979row3_col3,#T_d33877d4_f18e_11ec_a37f_7c8ae1581979row3_col4,#T_d33877d4_f18e_11ec_a37f_7c8ae1581979row3_col7,#T_d33877d4_f18e_11ec_a37f_7c8ae1581979row3_col8,#T_d33877d4_f18e_11ec_a37f_7c8ae1581979row3_col10,#T_d33877d4_f18e_11ec_a37f_7c8ae1581979row3_col11,#T_d33877d4_f18e_11ec_a37f_7c8ae1581979row3_col14,#T_d33877d4_f18e_11ec_a37f_7c8ae1581979row4_col0,#T_d33877d4_f18e_11ec_a37f_7c8ae1581979row4_col1,#T_d33877d4_f18e_11ec_a37f_7c8ae1581979row4_col8,#T_d33877d4_f18e_11ec_a37f_7c8ae1581979row4_col9,#T_d33877d4_f18e_11ec_a37f_7c8ae1581979row4_col10,#T_d33877d4_f18e_11ec_a37f_7c8ae1581979row4_col11,#T_d33877d4_f18e_11ec_a37f_7c8ae1581979row4_col13,#T_d33877d4_f18e_11ec_a37f_7c8ae1581979row4_col14{\n",
       "            background-color:  #00224e;\n",
       "            color:  #f1f1f1;\n",
       "        }#T_d33877d4_f18e_11ec_a37f_7c8ae1581979row0_col3,#T_d33877d4_f18e_11ec_a37f_7c8ae1581979row1_col3,#T_d33877d4_f18e_11ec_a37f_7c8ae1581979row4_col3{\n",
       "            background-color:  #c8b866;\n",
       "            color:  #000000;\n",
       "        }#T_d33877d4_f18e_11ec_a37f_7c8ae1581979row0_col7,#T_d33877d4_f18e_11ec_a37f_7c8ae1581979row2_col7{\n",
       "            background-color:  #35456c;\n",
       "            color:  #f1f1f1;\n",
       "        }#T_d33877d4_f18e_11ec_a37f_7c8ae1581979row1_col0{\n",
       "            background-color:  #dfca57;\n",
       "            color:  #000000;\n",
       "        }#T_d33877d4_f18e_11ec_a37f_7c8ae1581979row1_col1{\n",
       "            background-color:  #a59c74;\n",
       "            color:  #000000;\n",
       "        }#T_d33877d4_f18e_11ec_a37f_7c8ae1581979row1_col2{\n",
       "            background-color:  #002656;\n",
       "            color:  #f1f1f1;\n",
       "        }#T_d33877d4_f18e_11ec_a37f_7c8ae1581979row1_col5,#T_d33877d4_f18e_11ec_a37f_7c8ae1581979row3_col5,#T_d33877d4_f18e_11ec_a37f_7c8ae1581979row4_col5{\n",
       "            background-color:  #7d7c78;\n",
       "            color:  #000000;\n",
       "        }#T_d33877d4_f18e_11ec_a37f_7c8ae1581979row1_col6,#T_d33877d4_f18e_11ec_a37f_7c8ae1581979row2_col4{\n",
       "            background-color:  #575d6d;\n",
       "            color:  #f1f1f1;\n",
       "        }#T_d33877d4_f18e_11ec_a37f_7c8ae1581979row2_col0{\n",
       "            background-color:  #666970;\n",
       "            color:  #000000;\n",
       "        }#T_d33877d4_f18e_11ec_a37f_7c8ae1581979row2_col2{\n",
       "            background-color:  #838179;\n",
       "            color:  #000000;\n",
       "        }#T_d33877d4_f18e_11ec_a37f_7c8ae1581979row2_col6,#T_d33877d4_f18e_11ec_a37f_7c8ae1581979row3_col6{\n",
       "            background-color:  #8a8678;\n",
       "            color:  #000000;\n",
       "        }#T_d33877d4_f18e_11ec_a37f_7c8ae1581979row3_col2{\n",
       "            background-color:  #958f77;\n",
       "            color:  #000000;\n",
       "        }</style><table id=\"T_d33877d4_f18e_11ec_a37f_7c8ae1581979\" ><thead>    <tr>        <th class=\"blank level0\" ></th>        <th class=\"col_heading level0 col0\" >age</th>        <th class=\"col_heading level0 col1\" >workclass</th>        <th class=\"col_heading level0 col2\" >fnlwgt</th>        <th class=\"col_heading level0 col3\" >education</th>        <th class=\"col_heading level0 col4\" >education_num</th>        <th class=\"col_heading level0 col5\" >marital_status</th>        <th class=\"col_heading level0 col6\" >occupation</th>        <th class=\"col_heading level0 col7\" >relationship</th>        <th class=\"col_heading level0 col8\" >race</th>        <th class=\"col_heading level0 col9\" >sex</th>        <th class=\"col_heading level0 col10\" >capital_gain</th>        <th class=\"col_heading level0 col11\" >capital_loss</th>        <th class=\"col_heading level0 col12\" >hours_per_week</th>        <th class=\"col_heading level0 col13\" >native_country</th>        <th class=\"col_heading level0 col14\" >wage_class</th>    </tr></thead><tbody>\n",
       "                <tr>\n",
       "                        <th id=\"T_d33877d4_f18e_11ec_a37f_7c8ae1581979level0_row0\" class=\"row_heading level0 row0\" >0</th>\n",
       "                        <td id=\"T_d33877d4_f18e_11ec_a37f_7c8ae1581979row0_col0\" class=\"data row0 col0\" >39</td>\n",
       "                        <td id=\"T_d33877d4_f18e_11ec_a37f_7c8ae1581979row0_col1\" class=\"data row0 col1\" >5</td>\n",
       "                        <td id=\"T_d33877d4_f18e_11ec_a37f_7c8ae1581979row0_col2\" class=\"data row0 col2\" >77516</td>\n",
       "                        <td id=\"T_d33877d4_f18e_11ec_a37f_7c8ae1581979row0_col3\" class=\"data row0 col3\" >9</td>\n",
       "                        <td id=\"T_d33877d4_f18e_11ec_a37f_7c8ae1581979row0_col4\" class=\"data row0 col4\" >13</td>\n",
       "                        <td id=\"T_d33877d4_f18e_11ec_a37f_7c8ae1581979row0_col5\" class=\"data row0 col5\" >4</td>\n",
       "                        <td id=\"T_d33877d4_f18e_11ec_a37f_7c8ae1581979row0_col6\" class=\"data row0 col6\" >0</td>\n",
       "                        <td id=\"T_d33877d4_f18e_11ec_a37f_7c8ae1581979row0_col7\" class=\"data row0 col7\" >1</td>\n",
       "                        <td id=\"T_d33877d4_f18e_11ec_a37f_7c8ae1581979row0_col8\" class=\"data row0 col8\" >4</td>\n",
       "                        <td id=\"T_d33877d4_f18e_11ec_a37f_7c8ae1581979row0_col9\" class=\"data row0 col9\" >1</td>\n",
       "                        <td id=\"T_d33877d4_f18e_11ec_a37f_7c8ae1581979row0_col10\" class=\"data row0 col10\" >2174</td>\n",
       "                        <td id=\"T_d33877d4_f18e_11ec_a37f_7c8ae1581979row0_col11\" class=\"data row0 col11\" >0</td>\n",
       "                        <td id=\"T_d33877d4_f18e_11ec_a37f_7c8ae1581979row0_col12\" class=\"data row0 col12\" >40</td>\n",
       "                        <td id=\"T_d33877d4_f18e_11ec_a37f_7c8ae1581979row0_col13\" class=\"data row0 col13\" >3</td>\n",
       "                        <td id=\"T_d33877d4_f18e_11ec_a37f_7c8ae1581979row0_col14\" class=\"data row0 col14\" >0</td>\n",
       "            </tr>\n",
       "            <tr>\n",
       "                        <th id=\"T_d33877d4_f18e_11ec_a37f_7c8ae1581979level0_row1\" class=\"row_heading level0 row1\" >1</th>\n",
       "                        <td id=\"T_d33877d4_f18e_11ec_a37f_7c8ae1581979row1_col0\" class=\"data row1 col0\" >50</td>\n",
       "                        <td id=\"T_d33877d4_f18e_11ec_a37f_7c8ae1581979row1_col1\" class=\"data row1 col1\" >4</td>\n",
       "                        <td id=\"T_d33877d4_f18e_11ec_a37f_7c8ae1581979row1_col2\" class=\"data row1 col2\" >83311</td>\n",
       "                        <td id=\"T_d33877d4_f18e_11ec_a37f_7c8ae1581979row1_col3\" class=\"data row1 col3\" >9</td>\n",
       "                        <td id=\"T_d33877d4_f18e_11ec_a37f_7c8ae1581979row1_col4\" class=\"data row1 col4\" >13</td>\n",
       "                        <td id=\"T_d33877d4_f18e_11ec_a37f_7c8ae1581979row1_col5\" class=\"data row1 col5\" >2</td>\n",
       "                        <td id=\"T_d33877d4_f18e_11ec_a37f_7c8ae1581979row1_col6\" class=\"data row1 col6\" >3</td>\n",
       "                        <td id=\"T_d33877d4_f18e_11ec_a37f_7c8ae1581979row1_col7\" class=\"data row1 col7\" >0</td>\n",
       "                        <td id=\"T_d33877d4_f18e_11ec_a37f_7c8ae1581979row1_col8\" class=\"data row1 col8\" >4</td>\n",
       "                        <td id=\"T_d33877d4_f18e_11ec_a37f_7c8ae1581979row1_col9\" class=\"data row1 col9\" >1</td>\n",
       "                        <td id=\"T_d33877d4_f18e_11ec_a37f_7c8ae1581979row1_col10\" class=\"data row1 col10\" >0</td>\n",
       "                        <td id=\"T_d33877d4_f18e_11ec_a37f_7c8ae1581979row1_col11\" class=\"data row1 col11\" >0</td>\n",
       "                        <td id=\"T_d33877d4_f18e_11ec_a37f_7c8ae1581979row1_col12\" class=\"data row1 col12\" >13</td>\n",
       "                        <td id=\"T_d33877d4_f18e_11ec_a37f_7c8ae1581979row1_col13\" class=\"data row1 col13\" >3</td>\n",
       "                        <td id=\"T_d33877d4_f18e_11ec_a37f_7c8ae1581979row1_col14\" class=\"data row1 col14\" >0</td>\n",
       "            </tr>\n",
       "            <tr>\n",
       "                        <th id=\"T_d33877d4_f18e_11ec_a37f_7c8ae1581979level0_row2\" class=\"row_heading level0 row2\" >2</th>\n",
       "                        <td id=\"T_d33877d4_f18e_11ec_a37f_7c8ae1581979row2_col0\" class=\"data row2 col0\" >38</td>\n",
       "                        <td id=\"T_d33877d4_f18e_11ec_a37f_7c8ae1581979row2_col1\" class=\"data row2 col1\" >2</td>\n",
       "                        <td id=\"T_d33877d4_f18e_11ec_a37f_7c8ae1581979row2_col2\" class=\"data row2 col2\" >215646</td>\n",
       "                        <td id=\"T_d33877d4_f18e_11ec_a37f_7c8ae1581979row2_col3\" class=\"data row2 col3\" >11</td>\n",
       "                        <td id=\"T_d33877d4_f18e_11ec_a37f_7c8ae1581979row2_col4\" class=\"data row2 col4\" >9</td>\n",
       "                        <td id=\"T_d33877d4_f18e_11ec_a37f_7c8ae1581979row2_col5\" class=\"data row2 col5\" >0</td>\n",
       "                        <td id=\"T_d33877d4_f18e_11ec_a37f_7c8ae1581979row2_col6\" class=\"data row2 col6\" >5</td>\n",
       "                        <td id=\"T_d33877d4_f18e_11ec_a37f_7c8ae1581979row2_col7\" class=\"data row2 col7\" >1</td>\n",
       "                        <td id=\"T_d33877d4_f18e_11ec_a37f_7c8ae1581979row2_col8\" class=\"data row2 col8\" >4</td>\n",
       "                        <td id=\"T_d33877d4_f18e_11ec_a37f_7c8ae1581979row2_col9\" class=\"data row2 col9\" >1</td>\n",
       "                        <td id=\"T_d33877d4_f18e_11ec_a37f_7c8ae1581979row2_col10\" class=\"data row2 col10\" >0</td>\n",
       "                        <td id=\"T_d33877d4_f18e_11ec_a37f_7c8ae1581979row2_col11\" class=\"data row2 col11\" >0</td>\n",
       "                        <td id=\"T_d33877d4_f18e_11ec_a37f_7c8ae1581979row2_col12\" class=\"data row2 col12\" >40</td>\n",
       "                        <td id=\"T_d33877d4_f18e_11ec_a37f_7c8ae1581979row2_col13\" class=\"data row2 col13\" >3</td>\n",
       "                        <td id=\"T_d33877d4_f18e_11ec_a37f_7c8ae1581979row2_col14\" class=\"data row2 col14\" >0</td>\n",
       "            </tr>\n",
       "            <tr>\n",
       "                        <th id=\"T_d33877d4_f18e_11ec_a37f_7c8ae1581979level0_row3\" class=\"row_heading level0 row3\" >3</th>\n",
       "                        <td id=\"T_d33877d4_f18e_11ec_a37f_7c8ae1581979row3_col0\" class=\"data row3 col0\" >53</td>\n",
       "                        <td id=\"T_d33877d4_f18e_11ec_a37f_7c8ae1581979row3_col1\" class=\"data row3 col1\" >2</td>\n",
       "                        <td id=\"T_d33877d4_f18e_11ec_a37f_7c8ae1581979row3_col2\" class=\"data row3 col2\" >234721</td>\n",
       "                        <td id=\"T_d33877d4_f18e_11ec_a37f_7c8ae1581979row3_col3\" class=\"data row3 col3\" >1</td>\n",
       "                        <td id=\"T_d33877d4_f18e_11ec_a37f_7c8ae1581979row3_col4\" class=\"data row3 col4\" >7</td>\n",
       "                        <td id=\"T_d33877d4_f18e_11ec_a37f_7c8ae1581979row3_col5\" class=\"data row3 col5\" >2</td>\n",
       "                        <td id=\"T_d33877d4_f18e_11ec_a37f_7c8ae1581979row3_col6\" class=\"data row3 col6\" >5</td>\n",
       "                        <td id=\"T_d33877d4_f18e_11ec_a37f_7c8ae1581979row3_col7\" class=\"data row3 col7\" >0</td>\n",
       "                        <td id=\"T_d33877d4_f18e_11ec_a37f_7c8ae1581979row3_col8\" class=\"data row3 col8\" >2</td>\n",
       "                        <td id=\"T_d33877d4_f18e_11ec_a37f_7c8ae1581979row3_col9\" class=\"data row3 col9\" >1</td>\n",
       "                        <td id=\"T_d33877d4_f18e_11ec_a37f_7c8ae1581979row3_col10\" class=\"data row3 col10\" >0</td>\n",
       "                        <td id=\"T_d33877d4_f18e_11ec_a37f_7c8ae1581979row3_col11\" class=\"data row3 col11\" >0</td>\n",
       "                        <td id=\"T_d33877d4_f18e_11ec_a37f_7c8ae1581979row3_col12\" class=\"data row3 col12\" >40</td>\n",
       "                        <td id=\"T_d33877d4_f18e_11ec_a37f_7c8ae1581979row3_col13\" class=\"data row3 col13\" >3</td>\n",
       "                        <td id=\"T_d33877d4_f18e_11ec_a37f_7c8ae1581979row3_col14\" class=\"data row3 col14\" >0</td>\n",
       "            </tr>\n",
       "            <tr>\n",
       "                        <th id=\"T_d33877d4_f18e_11ec_a37f_7c8ae1581979level0_row4\" class=\"row_heading level0 row4\" >4</th>\n",
       "                        <td id=\"T_d33877d4_f18e_11ec_a37f_7c8ae1581979row4_col0\" class=\"data row4 col0\" >28</td>\n",
       "                        <td id=\"T_d33877d4_f18e_11ec_a37f_7c8ae1581979row4_col1\" class=\"data row4 col1\" >2</td>\n",
       "                        <td id=\"T_d33877d4_f18e_11ec_a37f_7c8ae1581979row4_col2\" class=\"data row4 col2\" >338409</td>\n",
       "                        <td id=\"T_d33877d4_f18e_11ec_a37f_7c8ae1581979row4_col3\" class=\"data row4 col3\" >9</td>\n",
       "                        <td id=\"T_d33877d4_f18e_11ec_a37f_7c8ae1581979row4_col4\" class=\"data row4 col4\" >13</td>\n",
       "                        <td id=\"T_d33877d4_f18e_11ec_a37f_7c8ae1581979row4_col5\" class=\"data row4 col5\" >2</td>\n",
       "                        <td id=\"T_d33877d4_f18e_11ec_a37f_7c8ae1581979row4_col6\" class=\"data row4 col6\" >9</td>\n",
       "                        <td id=\"T_d33877d4_f18e_11ec_a37f_7c8ae1581979row4_col7\" class=\"data row4 col7\" >5</td>\n",
       "                        <td id=\"T_d33877d4_f18e_11ec_a37f_7c8ae1581979row4_col8\" class=\"data row4 col8\" >2</td>\n",
       "                        <td id=\"T_d33877d4_f18e_11ec_a37f_7c8ae1581979row4_col9\" class=\"data row4 col9\" >0</td>\n",
       "                        <td id=\"T_d33877d4_f18e_11ec_a37f_7c8ae1581979row4_col10\" class=\"data row4 col10\" >0</td>\n",
       "                        <td id=\"T_d33877d4_f18e_11ec_a37f_7c8ae1581979row4_col11\" class=\"data row4 col11\" >0</td>\n",
       "                        <td id=\"T_d33877d4_f18e_11ec_a37f_7c8ae1581979row4_col12\" class=\"data row4 col12\" >40</td>\n",
       "                        <td id=\"T_d33877d4_f18e_11ec_a37f_7c8ae1581979row4_col13\" class=\"data row4 col13\" >1</td>\n",
       "                        <td id=\"T_d33877d4_f18e_11ec_a37f_7c8ae1581979row4_col14\" class=\"data row4 col14\" >0</td>\n",
       "            </tr>\n",
       "    </tbody></table>"
      ],
      "text/plain": [
       "<pandas.io.formats.style.Styler at 0x1dbbef81730>"
      ]
     },
     "execution_count": 26,
     "metadata": {},
     "output_type": "execute_result"
    }
   ],
   "source": [
    "df.head().style.background_gradient(cmap='cividis')"
   ]
  },
  {
   "cell_type": "code",
   "execution_count": 27,
   "metadata": {},
   "outputs": [
    {
     "data": {
      "image/png": "[encoded data removed]",
      "text/plain": [
       "<Figure size 1008x720 with 2 Axes>"
      ]
     },
     "metadata": {
      "needs_background": "light"
     },
     "output_type": "display_data"
    }
   ],
   "source": [
    "plt.figure(figsize=(14,10))\n",
    "sns.heatmap(df.corr(),cmap=\"cividis\",annot=True,fmt='.2f')\n",
    "plt.show()"
   ]
  },
  {
   "cell_type": "markdown",
   "metadata": {},
   "source": [
    "- From the above heatmap, education and education_num are correlated,so we will drop the education column.\n",
    "- We will drop relationship column and keep marital status\n",
    "- Furthermore,\"fnlwgt\" is not useful to us as it refers to only the sampling in the census conducted and has no practical effect on the label.\n",
    "- Also we drop the \"native.country\" as more are from single country(USA) which can cause bias. "
   ]
  },
  {
   "cell_type": "code",
   "execution_count": 28,
   "metadata": {},
   "outputs": [],
   "source": [
    "df=df.drop(['education','relationship','occupation','fnlwgt','native_country'],axis=1)"
   ]
  },
  {
   "cell_type": "code",
   "execution_count": 29,
   "metadata": {},
   "outputs": [
    {
     "data": {
      "text/html": [
       "<style  type=\"text/css\" >\n",
       "#T_d5d54533_f18e_11ec_bf48_7c8ae1581979row0_col0{\n",
       "            background-color:  #6f7073;\n",
       "            color:  #000000;\n",
       "        }#T_d5d54533_f18e_11ec_bf48_7c8ae1581979row0_col1,#T_d5d54533_f18e_11ec_bf48_7c8ae1581979row0_col2,#T_d5d54533_f18e_11ec_bf48_7c8ae1581979row0_col3,#T_d5d54533_f18e_11ec_bf48_7c8ae1581979row0_col4,#T_d5d54533_f18e_11ec_bf48_7c8ae1581979row0_col5,#T_d5d54533_f18e_11ec_bf48_7c8ae1581979row0_col6,#T_d5d54533_f18e_11ec_bf48_7c8ae1581979row0_col8,#T_d5d54533_f18e_11ec_bf48_7c8ae1581979row1_col2,#T_d5d54533_f18e_11ec_bf48_7c8ae1581979row1_col4,#T_d5d54533_f18e_11ec_bf48_7c8ae1581979row1_col5,#T_d5d54533_f18e_11ec_bf48_7c8ae1581979row2_col4,#T_d5d54533_f18e_11ec_bf48_7c8ae1581979row2_col5,#T_d5d54533_f18e_11ec_bf48_7c8ae1581979row2_col8,#T_d5d54533_f18e_11ec_bf48_7c8ae1581979row3_col0,#T_d5d54533_f18e_11ec_bf48_7c8ae1581979row3_col5,#T_d5d54533_f18e_11ec_bf48_7c8ae1581979row3_col8,#T_d5d54533_f18e_11ec_bf48_7c8ae1581979row4_col2,#T_d5d54533_f18e_11ec_bf48_7c8ae1581979row4_col8{\n",
       "            background-color:  #fee838;\n",
       "            color:  #000000;\n",
       "        }#T_d5d54533_f18e_11ec_bf48_7c8ae1581979row0_col7,#T_d5d54533_f18e_11ec_bf48_7c8ae1581979row0_col9,#T_d5d54533_f18e_11ec_bf48_7c8ae1581979row1_col6,#T_d5d54533_f18e_11ec_bf48_7c8ae1581979row1_col7,#T_d5d54533_f18e_11ec_bf48_7c8ae1581979row1_col8,#T_d5d54533_f18e_11ec_bf48_7c8ae1581979row1_col9,#T_d5d54533_f18e_11ec_bf48_7c8ae1581979row2_col1,#T_d5d54533_f18e_11ec_bf48_7c8ae1581979row2_col3,#T_d5d54533_f18e_11ec_bf48_7c8ae1581979row2_col6,#T_d5d54533_f18e_11ec_bf48_7c8ae1581979row2_col7,#T_d5d54533_f18e_11ec_bf48_7c8ae1581979row2_col9,#T_d5d54533_f18e_11ec_bf48_7c8ae1581979row3_col1,#T_d5d54533_f18e_11ec_bf48_7c8ae1581979row3_col2,#T_d5d54533_f18e_11ec_bf48_7c8ae1581979row3_col4,#T_d5d54533_f18e_11ec_bf48_7c8ae1581979row3_col6,#T_d5d54533_f18e_11ec_bf48_7c8ae1581979row3_col7,#T_d5d54533_f18e_11ec_bf48_7c8ae1581979row3_col9,#T_d5d54533_f18e_11ec_bf48_7c8ae1581979row4_col0,#T_d5d54533_f18e_11ec_bf48_7c8ae1581979row4_col1,#T_d5d54533_f18e_11ec_bf48_7c8ae1581979row4_col4,#T_d5d54533_f18e_11ec_bf48_7c8ae1581979row4_col5,#T_d5d54533_f18e_11ec_bf48_7c8ae1581979row4_col6,#T_d5d54533_f18e_11ec_bf48_7c8ae1581979row4_col7,#T_d5d54533_f18e_11ec_bf48_7c8ae1581979row4_col9{\n",
       "            background-color:  #00224e;\n",
       "            color:  #f1f1f1;\n",
       "        }#T_d5d54533_f18e_11ec_bf48_7c8ae1581979row1_col0{\n",
       "            background-color:  #dfca57;\n",
       "            color:  #000000;\n",
       "        }#T_d5d54533_f18e_11ec_bf48_7c8ae1581979row1_col1{\n",
       "            background-color:  #a59c74;\n",
       "            color:  #000000;\n",
       "        }#T_d5d54533_f18e_11ec_bf48_7c8ae1581979row1_col3,#T_d5d54533_f18e_11ec_bf48_7c8ae1581979row3_col3,#T_d5d54533_f18e_11ec_bf48_7c8ae1581979row4_col3{\n",
       "            background-color:  #7d7c78;\n",
       "            color:  #000000;\n",
       "        }#T_d5d54533_f18e_11ec_bf48_7c8ae1581979row2_col0{\n",
       "            background-color:  #666970;\n",
       "            color:  #000000;\n",
       "        }#T_d5d54533_f18e_11ec_bf48_7c8ae1581979row2_col2{\n",
       "            background-color:  #575d6d;\n",
       "            color:  #f1f1f1;\n",
       "        }</style><table id=\"T_d5d54533_f18e_11ec_bf48_7c8ae1581979\" ><thead>    <tr>        <th class=\"blank level0\" ></th>        <th class=\"col_heading level0 col0\" >age</th>        <th class=\"col_heading level0 col1\" >workclass</th>        <th class=\"col_heading level0 col2\" >education_num</th>        <th class=\"col_heading level0 col3\" >marital_status</th>        <th class=\"col_heading level0 col4\" >race</th>        <th class=\"col_heading level0 col5\" >sex</th>        <th class=\"col_heading level0 col6\" >capital_gain</th>        <th class=\"col_heading level0 col7\" >capital_loss</th>        <th class=\"col_heading level0 col8\" >hours_per_week</th>        <th class=\"col_heading level0 col9\" >wage_class</th>    </tr></thead><tbody>\n",
       "                <tr>\n",
       "                        <th id=\"T_d5d54533_f18e_11ec_bf48_7c8ae1581979level0_row0\" class=\"row_heading level0 row0\" >0</th>\n",
       "                        <td id=\"T_d5d54533_f18e_11ec_bf48_7c8ae1581979row0_col0\" class=\"data row0 col0\" >39</td>\n",
       "                        <td id=\"T_d5d54533_f18e_11ec_bf48_7c8ae1581979row0_col1\" class=\"data row0 col1\" >5</td>\n",
       "                        <td id=\"T_d5d54533_f18e_11ec_bf48_7c8ae1581979row0_col2\" class=\"data row0 col2\" >13</td>\n",
       "                        <td id=\"T_d5d54533_f18e_11ec_bf48_7c8ae1581979row0_col3\" class=\"data row0 col3\" >4</td>\n",
       "                        <td id=\"T_d5d54533_f18e_11ec_bf48_7c8ae1581979row0_col4\" class=\"data row0 col4\" >4</td>\n",
       "                        <td id=\"T_d5d54533_f18e_11ec_bf48_7c8ae1581979row0_col5\" class=\"data row0 col5\" >1</td>\n",
       "                        <td id=\"T_d5d54533_f18e_11ec_bf48_7c8ae1581979row0_col6\" class=\"data row0 col6\" >2174</td>\n",
       "                        <td id=\"T_d5d54533_f18e_11ec_bf48_7c8ae1581979row0_col7\" class=\"data row0 col7\" >0</td>\n",
       "                        <td id=\"T_d5d54533_f18e_11ec_bf48_7c8ae1581979row0_col8\" class=\"data row0 col8\" >40</td>\n",
       "                        <td id=\"T_d5d54533_f18e_11ec_bf48_7c8ae1581979row0_col9\" class=\"data row0 col9\" >0</td>\n",
       "            </tr>\n",
       "            <tr>\n",
       "                        <th id=\"T_d5d54533_f18e_11ec_bf48_7c8ae1581979level0_row1\" class=\"row_heading level0 row1\" >1</th>\n",
       "                        <td id=\"T_d5d54533_f18e_11ec_bf48_7c8ae1581979row1_col0\" class=\"data row1 col0\" >50</td>\n",
       "                        <td id=\"T_d5d54533_f18e_11ec_bf48_7c8ae1581979row1_col1\" class=\"data row1 col1\" >4</td>\n",
       "                        <td id=\"T_d5d54533_f18e_11ec_bf48_7c8ae1581979row1_col2\" class=\"data row1 col2\" >13</td>\n",
       "                        <td id=\"T_d5d54533_f18e_11ec_bf48_7c8ae1581979row1_col3\" class=\"data row1 col3\" >2</td>\n",
       "                        <td id=\"T_d5d54533_f18e_11ec_bf48_7c8ae1581979row1_col4\" class=\"data row1 col4\" >4</td>\n",
       "                        <td id=\"T_d5d54533_f18e_11ec_bf48_7c8ae1581979row1_col5\" class=\"data row1 col5\" >1</td>\n",
       "                        <td id=\"T_d5d54533_f18e_11ec_bf48_7c8ae1581979row1_col6\" class=\"data row1 col6\" >0</td>\n",
       "                        <td id=\"T_d5d54533_f18e_11ec_bf48_7c8ae1581979row1_col7\" class=\"data row1 col7\" >0</td>\n",
       "                        <td id=\"T_d5d54533_f18e_11ec_bf48_7c8ae1581979row1_col8\" class=\"data row1 col8\" >13</td>\n",
       "                        <td id=\"T_d5d54533_f18e_11ec_bf48_7c8ae1581979row1_col9\" class=\"data row1 col9\" >0</td>\n",
       "            </tr>\n",
       "            <tr>\n",
       "                        <th id=\"T_d5d54533_f18e_11ec_bf48_7c8ae1581979level0_row2\" class=\"row_heading level0 row2\" >2</th>\n",
       "                        <td id=\"T_d5d54533_f18e_11ec_bf48_7c8ae1581979row2_col0\" class=\"data row2 col0\" >38</td>\n",
       "                        <td id=\"T_d5d54533_f18e_11ec_bf48_7c8ae1581979row2_col1\" class=\"data row2 col1\" >2</td>\n",
       "                        <td id=\"T_d5d54533_f18e_11ec_bf48_7c8ae1581979row2_col2\" class=\"data row2 col2\" >9</td>\n",
       "                        <td id=\"T_d5d54533_f18e_11ec_bf48_7c8ae1581979row2_col3\" class=\"data row2 col3\" >0</td>\n",
       "                        <td id=\"T_d5d54533_f18e_11ec_bf48_7c8ae1581979row2_col4\" class=\"data row2 col4\" >4</td>\n",
       "                        <td id=\"T_d5d54533_f18e_11ec_bf48_7c8ae1581979row2_col5\" class=\"data row2 col5\" >1</td>\n",
       "                        <td id=\"T_d5d54533_f18e_11ec_bf48_7c8ae1581979row2_col6\" class=\"data row2 col6\" >0</td>\n",
       "                        <td id=\"T_d5d54533_f18e_11ec_bf48_7c8ae1581979row2_col7\" class=\"data row2 col7\" >0</td>\n",
       "                        <td id=\"T_d5d54533_f18e_11ec_bf48_7c8ae1581979row2_col8\" class=\"data row2 col8\" >40</td>\n",
       "                        <td id=\"T_d5d54533_f18e_11ec_bf48_7c8ae1581979row2_col9\" class=\"data row2 col9\" >0</td>\n",
       "            </tr>\n",
       "            <tr>\n",
       "                        <th id=\"T_d5d54533_f18e_11ec_bf48_7c8ae1581979level0_row3\" class=\"row_heading level0 row3\" >3</th>\n",
       "                        <td id=\"T_d5d54533_f18e_11ec_bf48_7c8ae1581979row3_col0\" class=\"data row3 col0\" >53</td>\n",
       "                        <td id=\"T_d5d54533_f18e_11ec_bf48_7c8ae1581979row3_col1\" class=\"data row3 col1\" >2</td>\n",
       "                        <td id=\"T_d5d54533_f18e_11ec_bf48_7c8ae1581979row3_col2\" class=\"data row3 col2\" >7</td>\n",
       "                        <td id=\"T_d5d54533_f18e_11ec_bf48_7c8ae1581979row3_col3\" class=\"data row3 col3\" >2</td>\n",
       "                        <td id=\"T_d5d54533_f18e_11ec_bf48_7c8ae1581979row3_col4\" class=\"data row3 col4\" >2</td>\n",
       "                        <td id=\"T_d5d54533_f18e_11ec_bf48_7c8ae1581979row3_col5\" class=\"data row3 col5\" >1</td>\n",
       "                        <td id=\"T_d5d54533_f18e_11ec_bf48_7c8ae1581979row3_col6\" class=\"data row3 col6\" >0</td>\n",
       "                        <td id=\"T_d5d54533_f18e_11ec_bf48_7c8ae1581979row3_col7\" class=\"data row3 col7\" >0</td>\n",
       "                        <td id=\"T_d5d54533_f18e_11ec_bf48_7c8ae1581979row3_col8\" class=\"data row3 col8\" >40</td>\n",
       "                        <td id=\"T_d5d54533_f18e_11ec_bf48_7c8ae1581979row3_col9\" class=\"data row3 col9\" >0</td>\n",
       "            </tr>\n",
       "            <tr>\n",
       "                        <th id=\"T_d5d54533_f18e_11ec_bf48_7c8ae1581979level0_row4\" class=\"row_heading level0 row4\" >4</th>\n",
       "                        <td id=\"T_d5d54533_f18e_11ec_bf48_7c8ae1581979row4_col0\" class=\"data row4 col0\" >28</td>\n",
       "                        <td id=\"T_d5d54533_f18e_11ec_bf48_7c8ae1581979row4_col1\" class=\"data row4 col1\" >2</td>\n",
       "                        <td id=\"T_d5d54533_f18e_11ec_bf48_7c8ae1581979row4_col2\" class=\"data row4 col2\" >13</td>\n",
       "                        <td id=\"T_d5d54533_f18e_11ec_bf48_7c8ae1581979row4_col3\" class=\"data row4 col3\" >2</td>\n",
       "                        <td id=\"T_d5d54533_f18e_11ec_bf48_7c8ae1581979row4_col4\" class=\"data row4 col4\" >2</td>\n",
       "                        <td id=\"T_d5d54533_f18e_11ec_bf48_7c8ae1581979row4_col5\" class=\"data row4 col5\" >0</td>\n",
       "                        <td id=\"T_d5d54533_f18e_11ec_bf48_7c8ae1581979row4_col6\" class=\"data row4 col6\" >0</td>\n",
       "                        <td id=\"T_d5d54533_f18e_11ec_bf48_7c8ae1581979row4_col7\" class=\"data row4 col7\" >0</td>\n",
       "                        <td id=\"T_d5d54533_f18e_11ec_bf48_7c8ae1581979row4_col8\" class=\"data row4 col8\" >40</td>\n",
       "                        <td id=\"T_d5d54533_f18e_11ec_bf48_7c8ae1581979row4_col9\" class=\"data row4 col9\" >0</td>\n",
       "            </tr>\n",
       "    </tbody></table>"
      ],
      "text/plain": [
       "<pandas.io.formats.style.Styler at 0x1dbbeb59c70>"
      ]
     },
     "execution_count": 29,
     "metadata": {},
     "output_type": "execute_result"
    }
   ],
   "source": [
    "df.head().style.background_gradient(cmap='cividis')"
   ]
  },
  {
   "cell_type": "code",
   "execution_count": 30,
   "metadata": {},
   "outputs": [],
   "source": [
    "# Create a copy of the dataframe\n",
    "new_df = df.copy()"
   ]
  },
  {
   "cell_type": "code",
   "execution_count": 31,
   "metadata": {},
   "outputs": [],
   "source": [
    "X =  new_df.drop('wage_class',axis=1)\n",
    "y =  new_df['wage_class']"
   ]
  },
  {
   "cell_type": "code",
   "execution_count": 32,
   "metadata": {},
   "outputs": [],
   "source": [
    "# Feature scaling\n",
    "from sklearn.preprocessing import StandardScaler\n",
    "scaler=StandardScaler()\n",
    "scaled_data=scaler.fit_transform(X)"
   ]
  },
  {
   "cell_type": "code",
   "execution_count": 33,
   "metadata": {},
   "outputs": [],
   "source": [
    "#Split the data into train and test split\n",
    "from sklearn.model_selection import train_test_split\n",
    "X_train,X_test,y_train,y_test=train_test_split(scaled_data,y,test_size=0.3,random_state=42)"
   ]
  },
  {
   "cell_type": "code",
   "execution_count": 34,
   "metadata": {},
   "outputs": [
    {
     "name": "stdout",
     "output_type": "stream",
     "text": [
      "(31655, 9)\n",
      "(13567, 9)\n",
      "(31655,)\n",
      "(13567,)\n"
     ]
    }
   ],
   "source": [
    "print(X_train.shape)\n",
    "print(X_test.shape)\n",
    "print(y_train.shape)\n",
    "print(y_test.shape)"
   ]
  },
  {
   "cell_type": "markdown",
   "metadata": {},
   "source": [
    "### Apply Classification Algorithms -\n",
    "### 1. Logistic Regression"
   ]
  },
  {
   "cell_type": "code",
   "execution_count": 35,
   "metadata": {},
   "outputs": [
    {
     "data": {
      "text/plain": [
       "0.8208889216481168"
      ]
     },
     "execution_count": 35,
     "metadata": {},
     "output_type": "execute_result"
    }
   ],
   "source": [
    "from sklearn.linear_model import LogisticRegression\n",
    "lr = LogisticRegression()\n",
    "lr.fit(X_train,y_train) \n",
    "y_pred = lr.predict(X_test)\n",
    "accuracy_score(y_test,y_pred)"
   ]
  },
  {
   "cell_type": "code",
   "execution_count": 36,
   "metadata": {},
   "outputs": [
    {
     "name": "stdout",
     "output_type": "stream",
     "text": [
      "Fitting 5 folds for each of 14 candidates, totalling 70 fits\n"
     ]
    },
    {
     "data": {
      "text/plain": [
       "GridSearchCV(cv=5, estimator=LogisticRegression(), n_jobs=-1,\n",
       "             param_grid={'C': array([1.00000000e-05, 4.64158883e-04, 2.15443469e-02, 1.00000000e+00,\n",
       "       4.64158883e+01, 2.15443469e+03, 1.00000000e+05]),\n",
       "                         'penalty': ['l1', 'l2']},\n",
       "             verbose=3)"
      ]
     },
     "execution_count": 36,
     "metadata": {},
     "output_type": "execute_result"
    }
   ],
   "source": [
    "from sklearn.model_selection import GridSearchCV\n",
    "\n",
    "grid={\"C\":np.logspace(-5,5,7), \"penalty\":[\"l1\",\"l2\"]} # l1 for Ridge and l2 for lasso\n",
    "gscv = GridSearchCV(lr,param_grid=grid,cv=5,verbose=3,n_jobs=-1)\n",
    "gscv.fit(X_train,y_train)"
   ]
  },
  {
   "cell_type": "code",
   "execution_count": 37,
   "metadata": {},
   "outputs": [
    {
     "data": {
      "text/plain": [
       "{'C': 1.0, 'penalty': 'l2'}"
      ]
     },
     "execution_count": 37,
     "metadata": {},
     "output_type": "execute_result"
    }
   ],
   "source": [
    "# Get the best params from GridSearchCV\n",
    "gscv.best_params_"
   ]
  },
  {
   "cell_type": "code",
   "execution_count": 38,
   "metadata": {},
   "outputs": [
    {
     "data": {
      "text/plain": [
       "LogisticRegression(random_state=0)"
      ]
     },
     "execution_count": 38,
     "metadata": {},
     "output_type": "execute_result"
    }
   ],
   "source": [
    "# Retrain the Logistic Regression Model\n",
    "lr_tuned = LogisticRegression(C=1.0,penalty='l2',random_state=0)\n",
    "lr_tuned.fit(X_train,y_train) "
   ]
  },
  {
   "cell_type": "code",
   "execution_count": 39,
   "metadata": {},
   "outputs": [],
   "source": [
    "Log_Reg =lr_tuned.score(X_test,y_test)\n",
    "lr_y_pred = lr_tuned.predict(X_test)"
   ]
  },
  {
   "cell_type": "markdown",
   "metadata": {},
   "source": [
    "### Logistic Regression Model Evaluation - "
   ]
  },
  {
   "cell_type": "code",
   "execution_count": 40,
   "metadata": {},
   "outputs": [
    {
     "name": "stdout",
     "output_type": "stream",
     "text": [
      "Accuracy_Score:0.8208889216481168\n",
      "**************************************************\n",
      "Classification_Report:              precision    recall  f1-score   support\n",
      "\n",
      "           0       0.84      0.94      0.89     10193\n",
      "           1       0.72      0.45      0.56      3374\n",
      "\n",
      "    accuracy                           0.82     13567\n",
      "   macro avg       0.78      0.70      0.72     13567\n",
      "weighted avg       0.81      0.82      0.81     13567\n",
      "\n",
      "**************************************************\n",
      "Confusion_Matrix:\n",
      " [[9602  591]\n",
      " [1839 1535]]\n"
     ]
    }
   ],
   "source": [
    "from sklearn.metrics import accuracy_score,classification_report,confusion_matrix,auc\n",
    "print(f\"Accuracy_Score:{accuracy_score(y_test,lr_y_pred)}\")\n",
    "print('*'*50)\n",
    "print(f\"Classification_Report:{classification_report(y_test,lr_y_pred)}\")\n",
    "print('*'*50)\n",
    "print(f\"Confusion_Matrix:\\n {confusion_matrix(y_test,lr_y_pred)}\")\n",
    " "
   ]
  },
  {
   "cell_type": "markdown",
   "metadata": {},
   "source": [
    "### 2. Decision Tree"
   ]
  },
  {
   "cell_type": "code",
   "execution_count": 41,
   "metadata": {},
   "outputs": [
    {
     "data": {
      "text/plain": [
       "DecisionTreeClassifier()"
      ]
     },
     "execution_count": 41,
     "metadata": {},
     "output_type": "execute_result"
    }
   ],
   "source": [
    "from sklearn.tree import DecisionTreeClassifier\n",
    "DT = DecisionTreeClassifier()\n",
    "DT.fit(X_train,y_train)"
   ]
  },
  {
   "cell_type": "code",
   "execution_count": 42,
   "metadata": {},
   "outputs": [],
   "source": [
    "grid_param = {\n",
    "    'criterion': ['gini', 'entropy'],\n",
    "    'max_depth' : range(2,20,2),\n",
    "    'min_samples_leaf' : range(1,10,1),\n",
    "    'min_samples_split': range(2,10,1),\n",
    "    'splitter' : ['best', 'random']\n",
    "    \n",
    "}"
   ]
  },
  {
   "cell_type": "code",
   "execution_count": 43,
   "metadata": {},
   "outputs": [
    {
     "name": "stdout",
     "output_type": "stream",
     "text": [
      "Fitting 5 folds for each of 2592 candidates, totalling 12960 fits\n"
     ]
    },
    {
     "data": {
      "text/plain": [
       "GridSearchCV(cv=5, estimator=DecisionTreeClassifier(), n_jobs=-1,\n",
       "             param_grid={'criterion': ['gini', 'entropy'],\n",
       "                         'max_depth': range(2, 20, 2),\n",
       "                         'min_samples_leaf': range(1, 10),\n",
       "                         'min_samples_split': range(2, 10),\n",
       "                         'splitter': ['best', 'random']},\n",
       "             verbose=3)"
      ]
     },
     "execution_count": 43,
     "metadata": {},
     "output_type": "execute_result"
    }
   ],
   "source": [
    "GSCV_DT = GridSearchCV(DT,param_grid=grid_param,cv=5,verbose=3,n_jobs=-1)\n",
    "GSCV_DT.fit(X_train,y_train)"
   ]
  },
  {
   "cell_type": "code",
   "execution_count": 44,
   "metadata": {},
   "outputs": [
    {
     "data": {
      "text/plain": [
       "{'criterion': 'gini',\n",
       " 'max_depth': 12,\n",
       " 'min_samples_leaf': 9,\n",
       " 'min_samples_split': 4,\n",
       " 'splitter': 'best'}"
      ]
     },
     "execution_count": 44,
     "metadata": {},
     "output_type": "execute_result"
    }
   ],
   "source": [
    "GSCV_DT.best_params_"
   ]
  },
  {
   "cell_type": "code",
   "execution_count": 45,
   "metadata": {},
   "outputs": [],
   "source": [
    "DT_tuned = DecisionTreeClassifier(criterion='gini',max_depth=12,min_samples_leaf=9,min_samples_split=4,splitter='best')"
   ]
  },
  {
   "cell_type": "code",
   "execution_count": 46,
   "metadata": {},
   "outputs": [
    {
     "data": {
      "text/plain": [
       "DecisionTreeClassifier(max_depth=12, min_samples_leaf=9, min_samples_split=4)"
      ]
     },
     "execution_count": 46,
     "metadata": {},
     "output_type": "execute_result"
    }
   ],
   "source": [
    "DT_tuned.fit(X_train,y_train)"
   ]
  },
  {
   "cell_type": "code",
   "execution_count": 47,
   "metadata": {},
   "outputs": [],
   "source": [
    "DT_Accuracy = DT_tuned.score(X_test,y_test)"
   ]
  },
  {
   "cell_type": "code",
   "execution_count": 48,
   "metadata": {},
   "outputs": [],
   "source": [
    "DT_Predict = DT_tuned.predict(X_test)"
   ]
  },
  {
   "cell_type": "code",
   "execution_count": 49,
   "metadata": {},
   "outputs": [
    {
     "name": "stdout",
     "output_type": "stream",
     "text": [
      "Accuracy_Score:0.853320557234466\n",
      "**************************************************\n",
      "Classification_Report:              precision    recall  f1-score   support\n",
      "\n",
      "           0       0.89      0.92      0.90     10193\n",
      "           1       0.73      0.66      0.69      3374\n",
      "\n",
      "    accuracy                           0.85     13567\n",
      "   macro avg       0.81      0.79      0.80     13567\n",
      "weighted avg       0.85      0.85      0.85     13567\n",
      "\n",
      "**************************************************\n",
      "Confusion_Matrix:\n",
      " [[9357  836]\n",
      " [1154 2220]]\n"
     ]
    }
   ],
   "source": [
    "print(f\"Accuracy_Score:{accuracy_score(y_test,DT_Predict)}\")\n",
    "print('*'*50)\n",
    "print(f\"Classification_Report:{classification_report(y_test,DT_Predict)}\")\n",
    "print('*'*50)\n",
    "print(f\"Confusion_Matrix:\\n {confusion_matrix(y_test,DT_Predict)}\")"
   ]
  },
  {
   "cell_type": "markdown",
   "metadata": {},
   "source": [
    "### 3. Random Forest Classifier"
   ]
  },
  {
   "cell_type": "code",
   "execution_count": 50,
   "metadata": {},
   "outputs": [
    {
     "data": {
      "text/plain": [
       "RandomForestClassifier()"
      ]
     },
     "execution_count": 50,
     "metadata": {},
     "output_type": "execute_result"
    }
   ],
   "source": [
    "from sklearn.ensemble import RandomForestClassifier\n",
    "RF = RandomForestClassifier()\n",
    "RF.fit(X_train,y_train)"
   ]
  },
  {
   "cell_type": "code",
   "execution_count": 51,
   "metadata": {},
   "outputs": [],
   "source": [
    "grid_params = {\"n_estimators\" : [10,15,25,30],\n",
    "              \"max_depth\" : range(1,10,2),\n",
    "              \"min_samples_leaf\" : range(1,10,1),\n",
    "              \"min_samples_split\" : range(2,10,1),\n",
    "              \"max_features\" : ['auto','log2']\n",
    "              }"
   ]
  },
  {
   "cell_type": "code",
   "execution_count": 52,
   "metadata": {},
   "outputs": [
    {
     "name": "stdout",
     "output_type": "stream",
     "text": [
      "Fitting 5 folds for each of 2880 candidates, totalling 14400 fits\n"
     ]
    },
    {
     "data": {
      "text/plain": [
       "GridSearchCV(cv=5, estimator=RandomForestClassifier(), n_jobs=-1,\n",
       "             param_grid={'max_depth': range(1, 10, 2),\n",
       "                         'max_features': ['auto', 'log2'],\n",
       "                         'min_samples_leaf': range(1, 10),\n",
       "                         'min_samples_split': range(2, 10),\n",
       "                         'n_estimators': [10, 15, 25, 30]},\n",
       "             verbose=3)"
      ]
     },
     "execution_count": 52,
     "metadata": {},
     "output_type": "execute_result"
    }
   ],
   "source": [
    "GSCV_RF = GridSearchCV(RF,param_grid=grid_params,cv=5,n_jobs=-1,verbose=3)\n",
    "GSCV_RF.fit(X_train,y_train)"
   ]
  },
  {
   "cell_type": "code",
   "execution_count": 53,
   "metadata": {},
   "outputs": [
    {
     "data": {
      "text/plain": [
       "{'max_depth': 9,\n",
       " 'max_features': 'auto',\n",
       " 'min_samples_leaf': 2,\n",
       " 'min_samples_split': 6,\n",
       " 'n_estimators': 30}"
      ]
     },
     "execution_count": 53,
     "metadata": {},
     "output_type": "execute_result"
    }
   ],
   "source": [
    "GSCV_RF.best_params_"
   ]
  },
  {
   "cell_type": "code",
   "execution_count": 54,
   "metadata": {},
   "outputs": [],
   "source": [
    "RF_tuned = RandomForestClassifier(max_depth=9,max_features='auto',min_samples_leaf=2,min_samples_split=5,n_estimators=25)"
   ]
  },
  {
   "cell_type": "code",
   "execution_count": 55,
   "metadata": {},
   "outputs": [
    {
     "data": {
      "text/plain": [
       "RandomForestClassifier(max_depth=9, min_samples_leaf=2, min_samples_split=5,\n",
       "                       n_estimators=25)"
      ]
     },
     "execution_count": 55,
     "metadata": {},
     "output_type": "execute_result"
    }
   ],
   "source": [
    "RF_tuned.fit(X_train,y_train)"
   ]
  },
  {
   "cell_type": "code",
   "execution_count": 56,
   "metadata": {},
   "outputs": [],
   "source": [
    "RF_Accuracy = RF_tuned.score(X_test,y_test)"
   ]
  },
  {
   "cell_type": "code",
   "execution_count": 57,
   "metadata": {},
   "outputs": [],
   "source": [
    "RF_Predict = RF_tuned.predict(X_test)"
   ]
  },
  {
   "cell_type": "markdown",
   "metadata": {},
   "source": [
    "### Random Forest Classifier Model Evaluation- "
   ]
  },
  {
   "cell_type": "code",
   "execution_count": 58,
   "metadata": {},
   "outputs": [
    {
     "name": "stdout",
     "output_type": "stream",
     "text": [
      "Accuracy_Score:0.8569322621065821\n",
      "**************************************************\n",
      "Classification_Report:              precision    recall  f1-score   support\n",
      "\n",
      "           0       0.87      0.96      0.91     10193\n",
      "           1       0.81      0.55      0.66      3374\n",
      "\n",
      "    accuracy                           0.86     13567\n",
      "   macro avg       0.84      0.76      0.78     13567\n",
      "weighted avg       0.85      0.86      0.85     13567\n",
      "\n",
      "**************************************************\n",
      "Confusion_Matrix: \n",
      " [[9758  435]\n",
      " [1506 1868]]\n"
     ]
    }
   ],
   "source": [
    "print(f\"Accuracy_Score:{accuracy_score(y_test,RF_Predict)}\")\n",
    "print('*'*50)\n",
    "print(f\"Classification_Report:{classification_report(y_test,RF_Predict)}\")\n",
    "print('*'*50)\n",
    "print(f\"Confusion_Matrix: \\n {confusion_matrix(y_test,RF_Predict)}\")"
   ]
  },
  {
   "cell_type": "markdown",
   "metadata": {},
   "source": [
    "### 4.KNN Classifier"
   ]
  },
  {
   "cell_type": "code",
   "execution_count": 59,
   "metadata": {},
   "outputs": [
    {
     "data": {
      "text/plain": [
       "KNeighborsClassifier()"
      ]
     },
     "execution_count": 59,
     "metadata": {},
     "output_type": "execute_result"
    }
   ],
   "source": [
    "from sklearn.neighbors import KNeighborsClassifier\n",
    "KNN = KNeighborsClassifier()\n",
    "KNN.fit(X_train,y_train)"
   ]
  },
  {
   "cell_type": "code",
   "execution_count": 60,
   "metadata": {},
   "outputs": [],
   "source": [
    "param_grid = { 'algorithm' : ['ball_tree', 'kd_tree', 'brute'],\n",
    "               'leaf_size' : [18,25,27,30],\n",
    "               'n_neighbors' : [3,7,9,11]\n",
    "              }"
   ]
  },
  {
   "cell_type": "code",
   "execution_count": 61,
   "metadata": {},
   "outputs": [
    {
     "name": "stdout",
     "output_type": "stream",
     "text": [
      "Fitting 5 folds for each of 48 candidates, totalling 240 fits\n",
      "[CV 1/5] END algorithm=ball_tree, leaf_size=18, n_neighbors=3;, score=0.821 total time=   4.7s\n",
      "[CV 2/5] END algorithm=ball_tree, leaf_size=18, n_neighbors=3;, score=0.813 total time=   5.1s\n",
      "[CV 3/5] END algorithm=ball_tree, leaf_size=18, n_neighbors=3;, score=0.823 total time=   4.7s\n",
      "[CV 4/5] END algorithm=ball_tree, leaf_size=18, n_neighbors=3;, score=0.827 total time=   4.6s\n",
      "[CV 5/5] END algorithm=ball_tree, leaf_size=18, n_neighbors=3;, score=0.824 total time=   4.4s\n",
      "[CV 1/5] END algorithm=ball_tree, leaf_size=18, n_neighbors=7;, score=0.827 total time=   4.6s\n",
      "[CV 2/5] END algorithm=ball_tree, leaf_size=18, n_neighbors=7;, score=0.827 total time=   4.7s\n",
      "[CV 3/5] END algorithm=ball_tree, leaf_size=18, n_neighbors=7;, score=0.830 total time=   5.4s\n",
      "[CV 4/5] END algorithm=ball_tree, leaf_size=18, n_neighbors=7;, score=0.837 total time=   5.0s\n",
      "[CV 5/5] END algorithm=ball_tree, leaf_size=18, n_neighbors=7;, score=0.830 total time=   5.0s\n",
      "[CV 1/5] END algorithm=ball_tree, leaf_size=18, n_neighbors=9;, score=0.828 total time=   5.0s\n",
      "[CV 2/5] END algorithm=ball_tree, leaf_size=18, n_neighbors=9;, score=0.829 total time=   4.8s\n",
      "[CV 3/5] END algorithm=ball_tree, leaf_size=18, n_neighbors=9;, score=0.834 total time=   5.0s\n",
      "[CV 4/5] END algorithm=ball_tree, leaf_size=18, n_neighbors=9;, score=0.839 total time=   5.4s\n",
      "[CV 5/5] END algorithm=ball_tree, leaf_size=18, n_neighbors=9;, score=0.833 total time=   5.2s\n",
      "[CV 1/5] END algorithm=ball_tree, leaf_size=18, n_neighbors=11;, score=0.827 total time=   4.9s\n",
      "[CV 2/5] END algorithm=ball_tree, leaf_size=18, n_neighbors=11;, score=0.832 total time=   4.9s\n",
      "[CV 3/5] END algorithm=ball_tree, leaf_size=18, n_neighbors=11;, score=0.834 total time=   4.9s\n",
      "[CV 4/5] END algorithm=ball_tree, leaf_size=18, n_neighbors=11;, score=0.840 total time=   4.8s\n",
      "[CV 5/5] END algorithm=ball_tree, leaf_size=18, n_neighbors=11;, score=0.835 total time=   4.8s\n",
      "[CV 1/5] END algorithm=ball_tree, leaf_size=25, n_neighbors=3;, score=0.821 total time=   4.9s\n",
      "[CV 2/5] END algorithm=ball_tree, leaf_size=25, n_neighbors=3;, score=0.813 total time=   5.2s\n",
      "[CV 3/5] END algorithm=ball_tree, leaf_size=25, n_neighbors=3;, score=0.823 total time=   4.7s\n",
      "[CV 4/5] END algorithm=ball_tree, leaf_size=25, n_neighbors=3;, score=0.826 total time=   5.5s\n",
      "[CV 5/5] END algorithm=ball_tree, leaf_size=25, n_neighbors=3;, score=0.824 total time=   4.8s\n",
      "[CV 1/5] END algorithm=ball_tree, leaf_size=25, n_neighbors=7;, score=0.827 total time=   4.9s\n",
      "[CV 2/5] END algorithm=ball_tree, leaf_size=25, n_neighbors=7;, score=0.827 total time=   4.9s\n",
      "[CV 3/5] END algorithm=ball_tree, leaf_size=25, n_neighbors=7;, score=0.830 total time=   4.8s\n",
      "[CV 4/5] END algorithm=ball_tree, leaf_size=25, n_neighbors=7;, score=0.835 total time=   4.7s\n",
      "[CV 5/5] END algorithm=ball_tree, leaf_size=25, n_neighbors=7;, score=0.830 total time=   4.8s\n",
      "[CV 1/5] END algorithm=ball_tree, leaf_size=25, n_neighbors=9;, score=0.830 total time=   4.9s\n",
      "[CV 2/5] END algorithm=ball_tree, leaf_size=25, n_neighbors=9;, score=0.831 total time=   5.2s\n",
      "[CV 3/5] END algorithm=ball_tree, leaf_size=25, n_neighbors=9;, score=0.833 total time=   4.9s\n",
      "[CV 4/5] END algorithm=ball_tree, leaf_size=25, n_neighbors=9;, score=0.838 total time=   4.9s\n",
      "[CV 5/5] END algorithm=ball_tree, leaf_size=25, n_neighbors=9;, score=0.834 total time=   4.8s\n",
      "[CV 1/5] END algorithm=ball_tree, leaf_size=25, n_neighbors=11;, score=0.828 total time=   4.9s\n",
      "[CV 2/5] END algorithm=ball_tree, leaf_size=25, n_neighbors=11;, score=0.832 total time=   5.0s\n",
      "[CV 3/5] END algorithm=ball_tree, leaf_size=25, n_neighbors=11;, score=0.834 total time=   4.8s\n",
      "[CV 4/5] END algorithm=ball_tree, leaf_size=25, n_neighbors=11;, score=0.841 total time=   5.2s\n",
      "[CV 5/5] END algorithm=ball_tree, leaf_size=25, n_neighbors=11;, score=0.835 total time=   5.0s\n",
      "[CV 1/5] END algorithm=ball_tree, leaf_size=27, n_neighbors=3;, score=0.821 total time=   4.7s\n",
      "[CV 2/5] END algorithm=ball_tree, leaf_size=27, n_neighbors=3;, score=0.813 total time=   4.8s\n",
      "[CV 3/5] END algorithm=ball_tree, leaf_size=27, n_neighbors=3;, score=0.823 total time=   5.2s\n",
      "[CV 4/5] END algorithm=ball_tree, leaf_size=27, n_neighbors=3;, score=0.826 total time=   4.9s\n",
      "[CV 5/5] END algorithm=ball_tree, leaf_size=27, n_neighbors=3;, score=0.824 total time=   4.9s\n",
      "[CV 1/5] END algorithm=ball_tree, leaf_size=27, n_neighbors=7;, score=0.827 total time=   4.8s\n",
      "[CV 2/5] END algorithm=ball_tree, leaf_size=27, n_neighbors=7;, score=0.827 total time=   4.9s\n",
      "[CV 3/5] END algorithm=ball_tree, leaf_size=27, n_neighbors=7;, score=0.830 total time=   4.9s\n",
      "[CV 4/5] END algorithm=ball_tree, leaf_size=27, n_neighbors=7;, score=0.835 total time=   5.0s\n",
      "[CV 5/5] END algorithm=ball_tree, leaf_size=27, n_neighbors=7;, score=0.830 total time=   4.9s\n",
      "[CV 1/5] END algorithm=ball_tree, leaf_size=27, n_neighbors=9;, score=0.830 total time=   4.9s\n",
      "[CV 2/5] END algorithm=ball_tree, leaf_size=27, n_neighbors=9;, score=0.831 total time=   4.8s\n",
      "[CV 3/5] END algorithm=ball_tree, leaf_size=27, n_neighbors=9;, score=0.833 total time=   4.9s\n",
      "[CV 4/5] END algorithm=ball_tree, leaf_size=27, n_neighbors=9;, score=0.838 total time=   5.0s\n",
      "[CV 5/5] END algorithm=ball_tree, leaf_size=27, n_neighbors=9;, score=0.834 total time=   4.9s\n",
      "[CV 1/5] END algorithm=ball_tree, leaf_size=27, n_neighbors=11;, score=0.828 total time=   4.9s\n",
      "[CV 2/5] END algorithm=ball_tree, leaf_size=27, n_neighbors=11;, score=0.832 total time=   5.1s\n",
      "[CV 3/5] END algorithm=ball_tree, leaf_size=27, n_neighbors=11;, score=0.834 total time=   5.3s\n",
      "[CV 4/5] END algorithm=ball_tree, leaf_size=27, n_neighbors=11;, score=0.841 total time=   5.2s\n",
      "[CV 5/5] END algorithm=ball_tree, leaf_size=27, n_neighbors=11;, score=0.835 total time=   5.2s\n",
      "[CV 1/5] END algorithm=ball_tree, leaf_size=30, n_neighbors=3;, score=0.821 total time=   4.7s\n",
      "[CV 2/5] END algorithm=ball_tree, leaf_size=30, n_neighbors=3;, score=0.813 total time=   4.8s\n",
      "[CV 3/5] END algorithm=ball_tree, leaf_size=30, n_neighbors=3;, score=0.823 total time=   4.7s\n",
      "[CV 4/5] END algorithm=ball_tree, leaf_size=30, n_neighbors=3;, score=0.826 total time=   4.7s\n",
      "[CV 5/5] END algorithm=ball_tree, leaf_size=30, n_neighbors=3;, score=0.824 total time=   4.7s\n",
      "[CV 1/5] END algorithm=ball_tree, leaf_size=30, n_neighbors=7;, score=0.827 total time=   4.9s\n",
      "[CV 2/5] END algorithm=ball_tree, leaf_size=30, n_neighbors=7;, score=0.827 total time=   4.8s\n",
      "[CV 3/5] END algorithm=ball_tree, leaf_size=30, n_neighbors=7;, score=0.830 total time=   5.3s\n",
      "[CV 4/5] END algorithm=ball_tree, leaf_size=30, n_neighbors=7;, score=0.835 total time=   5.0s\n",
      "[CV 5/5] END algorithm=ball_tree, leaf_size=30, n_neighbors=7;, score=0.830 total time=   4.9s\n",
      "[CV 1/5] END algorithm=ball_tree, leaf_size=30, n_neighbors=9;, score=0.830 total time=   5.0s\n",
      "[CV 2/5] END algorithm=ball_tree, leaf_size=30, n_neighbors=9;, score=0.831 total time=   5.0s\n",
      "[CV 3/5] END algorithm=ball_tree, leaf_size=30, n_neighbors=9;, score=0.833 total time=   4.9s\n",
      "[CV 4/5] END algorithm=ball_tree, leaf_size=30, n_neighbors=9;, score=0.838 total time=   4.9s\n",
      "[CV 5/5] END algorithm=ball_tree, leaf_size=30, n_neighbors=9;, score=0.834 total time=   5.9s\n",
      "[CV 1/5] END algorithm=ball_tree, leaf_size=30, n_neighbors=11;, score=0.828 total time=   4.9s\n",
      "[CV 2/5] END algorithm=ball_tree, leaf_size=30, n_neighbors=11;, score=0.832 total time=   5.0s\n",
      "[CV 3/5] END algorithm=ball_tree, leaf_size=30, n_neighbors=11;, score=0.834 total time=   5.1s\n",
      "[CV 4/5] END algorithm=ball_tree, leaf_size=30, n_neighbors=11;, score=0.841 total time=   5.5s\n",
      "[CV 5/5] END algorithm=ball_tree, leaf_size=30, n_neighbors=11;, score=0.835 total time=   5.2s\n",
      "[CV 1/5] END algorithm=kd_tree, leaf_size=18, n_neighbors=3;, score=0.820 total time=   1.9s\n",
      "[CV 2/5] END algorithm=kd_tree, leaf_size=18, n_neighbors=3;, score=0.812 total time=   1.9s\n",
      "[CV 3/5] END algorithm=kd_tree, leaf_size=18, n_neighbors=3;, score=0.823 total time=   1.9s\n",
      "[CV 4/5] END algorithm=kd_tree, leaf_size=18, n_neighbors=3;, score=0.827 total time=   1.9s\n",
      "[CV 5/5] END algorithm=kd_tree, leaf_size=18, n_neighbors=3;, score=0.824 total time=   1.8s\n",
      "[CV 1/5] END algorithm=kd_tree, leaf_size=18, n_neighbors=7;, score=0.827 total time=   2.2s\n"
     ]
    },
    {
     "name": "stdout",
     "output_type": "stream",
     "text": [
      "[CV 2/5] END algorithm=kd_tree, leaf_size=18, n_neighbors=7;, score=0.828 total time=   2.1s\n",
      "[CV 3/5] END algorithm=kd_tree, leaf_size=18, n_neighbors=7;, score=0.830 total time=   2.3s\n",
      "[CV 4/5] END algorithm=kd_tree, leaf_size=18, n_neighbors=7;, score=0.837 total time=   2.4s\n",
      "[CV 5/5] END algorithm=kd_tree, leaf_size=18, n_neighbors=7;, score=0.830 total time=   2.2s\n",
      "[CV 1/5] END algorithm=kd_tree, leaf_size=18, n_neighbors=9;, score=0.829 total time=   2.3s\n",
      "[CV 2/5] END algorithm=kd_tree, leaf_size=18, n_neighbors=9;, score=0.831 total time=   2.3s\n",
      "[CV 3/5] END algorithm=kd_tree, leaf_size=18, n_neighbors=9;, score=0.833 total time=   2.3s\n",
      "[CV 4/5] END algorithm=kd_tree, leaf_size=18, n_neighbors=9;, score=0.839 total time=   2.3s\n",
      "[CV 5/5] END algorithm=kd_tree, leaf_size=18, n_neighbors=9;, score=0.832 total time=   2.3s\n",
      "[CV 1/5] END algorithm=kd_tree, leaf_size=18, n_neighbors=11;, score=0.828 total time=   2.3s\n",
      "[CV 2/5] END algorithm=kd_tree, leaf_size=18, n_neighbors=11;, score=0.833 total time=   2.3s\n",
      "[CV 3/5] END algorithm=kd_tree, leaf_size=18, n_neighbors=11;, score=0.834 total time=   2.3s\n",
      "[CV 4/5] END algorithm=kd_tree, leaf_size=18, n_neighbors=11;, score=0.840 total time=   2.4s\n",
      "[CV 5/5] END algorithm=kd_tree, leaf_size=18, n_neighbors=11;, score=0.835 total time=   2.3s\n",
      "[CV 1/5] END algorithm=kd_tree, leaf_size=25, n_neighbors=3;, score=0.819 total time=   1.8s\n",
      "[CV 2/5] END algorithm=kd_tree, leaf_size=25, n_neighbors=3;, score=0.812 total time=   1.8s\n",
      "[CV 3/5] END algorithm=kd_tree, leaf_size=25, n_neighbors=3;, score=0.822 total time=   1.8s\n",
      "[CV 4/5] END algorithm=kd_tree, leaf_size=25, n_neighbors=3;, score=0.827 total time=   1.8s\n",
      "[CV 5/5] END algorithm=kd_tree, leaf_size=25, n_neighbors=3;, score=0.824 total time=   1.8s\n",
      "[CV 1/5] END algorithm=kd_tree, leaf_size=25, n_neighbors=7;, score=0.826 total time=   2.1s\n",
      "[CV 2/5] END algorithm=kd_tree, leaf_size=25, n_neighbors=7;, score=0.827 total time=   2.1s\n",
      "[CV 3/5] END algorithm=kd_tree, leaf_size=25, n_neighbors=7;, score=0.830 total time=   2.0s\n",
      "[CV 4/5] END algorithm=kd_tree, leaf_size=25, n_neighbors=7;, score=0.836 total time=   2.1s\n",
      "[CV 5/5] END algorithm=kd_tree, leaf_size=25, n_neighbors=7;, score=0.829 total time=   2.1s\n",
      "[CV 1/5] END algorithm=kd_tree, leaf_size=25, n_neighbors=9;, score=0.830 total time=   2.2s\n",
      "[CV 2/5] END algorithm=kd_tree, leaf_size=25, n_neighbors=9;, score=0.831 total time=   2.1s\n",
      "[CV 3/5] END algorithm=kd_tree, leaf_size=25, n_neighbors=9;, score=0.833 total time=   2.1s\n",
      "[CV 4/5] END algorithm=kd_tree, leaf_size=25, n_neighbors=9;, score=0.840 total time=   2.1s\n",
      "[CV 5/5] END algorithm=kd_tree, leaf_size=25, n_neighbors=9;, score=0.832 total time=   2.1s\n",
      "[CV 1/5] END algorithm=kd_tree, leaf_size=25, n_neighbors=11;, score=0.828 total time=   2.2s\n",
      "[CV 2/5] END algorithm=kd_tree, leaf_size=25, n_neighbors=11;, score=0.831 total time=   2.2s\n",
      "[CV 3/5] END algorithm=kd_tree, leaf_size=25, n_neighbors=11;, score=0.834 total time=   2.2s\n",
      "[CV 4/5] END algorithm=kd_tree, leaf_size=25, n_neighbors=11;, score=0.841 total time=   2.3s\n",
      "[CV 5/5] END algorithm=kd_tree, leaf_size=25, n_neighbors=11;, score=0.836 total time=   2.2s\n",
      "[CV 1/5] END algorithm=kd_tree, leaf_size=27, n_neighbors=3;, score=0.819 total time=   1.9s\n",
      "[CV 2/5] END algorithm=kd_tree, leaf_size=27, n_neighbors=3;, score=0.812 total time=   1.8s\n",
      "[CV 3/5] END algorithm=kd_tree, leaf_size=27, n_neighbors=3;, score=0.822 total time=   1.8s\n",
      "[CV 4/5] END algorithm=kd_tree, leaf_size=27, n_neighbors=3;, score=0.827 total time=   1.9s\n",
      "[CV 5/5] END algorithm=kd_tree, leaf_size=27, n_neighbors=3;, score=0.824 total time=   1.8s\n",
      "[CV 1/5] END algorithm=kd_tree, leaf_size=27, n_neighbors=7;, score=0.826 total time=   2.1s\n",
      "[CV 2/5] END algorithm=kd_tree, leaf_size=27, n_neighbors=7;, score=0.827 total time=   2.2s\n",
      "[CV 3/5] END algorithm=kd_tree, leaf_size=27, n_neighbors=7;, score=0.830 total time=   2.3s\n",
      "[CV 4/5] END algorithm=kd_tree, leaf_size=27, n_neighbors=7;, score=0.836 total time=   2.2s\n",
      "[CV 5/5] END algorithm=kd_tree, leaf_size=27, n_neighbors=7;, score=0.829 total time=   2.2s\n",
      "[CV 1/5] END algorithm=kd_tree, leaf_size=27, n_neighbors=9;, score=0.830 total time=   2.2s\n",
      "[CV 2/5] END algorithm=kd_tree, leaf_size=27, n_neighbors=9;, score=0.831 total time=   2.2s\n",
      "[CV 3/5] END algorithm=kd_tree, leaf_size=27, n_neighbors=9;, score=0.833 total time=   2.3s\n",
      "[CV 4/5] END algorithm=kd_tree, leaf_size=27, n_neighbors=9;, score=0.840 total time=   2.2s\n",
      "[CV 5/5] END algorithm=kd_tree, leaf_size=27, n_neighbors=9;, score=0.832 total time=   2.1s\n",
      "[CV 1/5] END algorithm=kd_tree, leaf_size=27, n_neighbors=11;, score=0.828 total time=   2.5s\n",
      "[CV 2/5] END algorithm=kd_tree, leaf_size=27, n_neighbors=11;, score=0.831 total time=   2.4s\n",
      "[CV 3/5] END algorithm=kd_tree, leaf_size=27, n_neighbors=11;, score=0.834 total time=   2.2s\n",
      "[CV 4/5] END algorithm=kd_tree, leaf_size=27, n_neighbors=11;, score=0.841 total time=   2.2s\n",
      "[CV 5/5] END algorithm=kd_tree, leaf_size=27, n_neighbors=11;, score=0.836 total time=   2.3s\n",
      "[CV 1/5] END algorithm=kd_tree, leaf_size=30, n_neighbors=3;, score=0.819 total time=   1.9s\n",
      "[CV 2/5] END algorithm=kd_tree, leaf_size=30, n_neighbors=3;, score=0.812 total time=   1.9s\n",
      "[CV 3/5] END algorithm=kd_tree, leaf_size=30, n_neighbors=3;, score=0.822 total time=   1.9s\n",
      "[CV 4/5] END algorithm=kd_tree, leaf_size=30, n_neighbors=3;, score=0.827 total time=   2.0s\n",
      "[CV 5/5] END algorithm=kd_tree, leaf_size=30, n_neighbors=3;, score=0.824 total time=   1.8s\n",
      "[CV 1/5] END algorithm=kd_tree, leaf_size=30, n_neighbors=7;, score=0.826 total time=   2.1s\n",
      "[CV 2/5] END algorithm=kd_tree, leaf_size=30, n_neighbors=7;, score=0.827 total time=   2.1s\n",
      "[CV 3/5] END algorithm=kd_tree, leaf_size=30, n_neighbors=7;, score=0.830 total time=   2.1s\n",
      "[CV 4/5] END algorithm=kd_tree, leaf_size=30, n_neighbors=7;, score=0.836 total time=   2.1s\n",
      "[CV 5/5] END algorithm=kd_tree, leaf_size=30, n_neighbors=7;, score=0.829 total time=   2.0s\n",
      "[CV 1/5] END algorithm=kd_tree, leaf_size=30, n_neighbors=9;, score=0.830 total time=   2.2s\n",
      "[CV 2/5] END algorithm=kd_tree, leaf_size=30, n_neighbors=9;, score=0.831 total time=   2.2s\n",
      "[CV 3/5] END algorithm=kd_tree, leaf_size=30, n_neighbors=9;, score=0.833 total time=   2.1s\n",
      "[CV 4/5] END algorithm=kd_tree, leaf_size=30, n_neighbors=9;, score=0.840 total time=   2.2s\n",
      "[CV 5/5] END algorithm=kd_tree, leaf_size=30, n_neighbors=9;, score=0.832 total time=   2.3s\n",
      "[CV 1/5] END algorithm=kd_tree, leaf_size=30, n_neighbors=11;, score=0.828 total time=   2.3s\n",
      "[CV 2/5] END algorithm=kd_tree, leaf_size=30, n_neighbors=11;, score=0.831 total time=   2.2s\n",
      "[CV 3/5] END algorithm=kd_tree, leaf_size=30, n_neighbors=11;, score=0.834 total time=   2.2s\n",
      "[CV 4/5] END algorithm=kd_tree, leaf_size=30, n_neighbors=11;, score=0.841 total time=   2.3s\n",
      "[CV 5/5] END algorithm=kd_tree, leaf_size=30, n_neighbors=11;, score=0.836 total time=   2.2s\n",
      "[CV 1/5] END algorithm=brute, leaf_size=18, n_neighbors=3;, score=0.821 total time=   4.1s\n",
      "[CV 2/5] END algorithm=brute, leaf_size=18, n_neighbors=3;, score=0.815 total time=   4.1s\n",
      "[CV 3/5] END algorithm=brute, leaf_size=18, n_neighbors=3;, score=0.822 total time=   3.9s\n",
      "[CV 4/5] END algorithm=brute, leaf_size=18, n_neighbors=3;, score=0.826 total time=   4.1s\n",
      "[CV 5/5] END algorithm=brute, leaf_size=18, n_neighbors=3;, score=0.826 total time=   4.2s\n",
      "[CV 1/5] END algorithm=brute, leaf_size=18, n_neighbors=7;, score=0.829 total time=   6.4s\n",
      "[CV 2/5] END algorithm=brute, leaf_size=18, n_neighbors=7;, score=0.827 total time=   5.8s\n",
      "[CV 3/5] END algorithm=brute, leaf_size=18, n_neighbors=7;, score=0.829 total time=   6.4s\n",
      "[CV 4/5] END algorithm=brute, leaf_size=18, n_neighbors=7;, score=0.839 total time=   6.1s\n",
      "[CV 5/5] END algorithm=brute, leaf_size=18, n_neighbors=7;, score=0.828 total time=   6.6s\n",
      "[CV 1/5] END algorithm=brute, leaf_size=18, n_neighbors=9;, score=0.828 total time=   6.4s\n",
      "[CV 2/5] END algorithm=brute, leaf_size=18, n_neighbors=9;, score=0.830 total time=   5.8s\n",
      "[CV 3/5] END algorithm=brute, leaf_size=18, n_neighbors=9;, score=0.834 total time=   6.2s\n",
      "[CV 4/5] END algorithm=brute, leaf_size=18, n_neighbors=9;, score=0.843 total time=   6.0s\n",
      "[CV 5/5] END algorithm=brute, leaf_size=18, n_neighbors=9;, score=0.834 total time=   6.2s\n"
     ]
    },
    {
     "name": "stdout",
     "output_type": "stream",
     "text": [
      "[CV 1/5] END algorithm=brute, leaf_size=18, n_neighbors=11;, score=0.830 total time=   6.6s\n",
      "[CV 2/5] END algorithm=brute, leaf_size=18, n_neighbors=11;, score=0.832 total time=   6.3s\n",
      "[CV 3/5] END algorithm=brute, leaf_size=18, n_neighbors=11;, score=0.834 total time=   6.2s\n",
      "[CV 4/5] END algorithm=brute, leaf_size=18, n_neighbors=11;, score=0.841 total time=   6.1s\n",
      "[CV 5/5] END algorithm=brute, leaf_size=18, n_neighbors=11;, score=0.837 total time=   6.5s\n",
      "[CV 1/5] END algorithm=brute, leaf_size=25, n_neighbors=3;, score=0.821 total time=   4.2s\n",
      "[CV 2/5] END algorithm=brute, leaf_size=25, n_neighbors=3;, score=0.815 total time=   4.0s\n",
      "[CV 3/5] END algorithm=brute, leaf_size=25, n_neighbors=3;, score=0.822 total time=   4.1s\n",
      "[CV 4/5] END algorithm=brute, leaf_size=25, n_neighbors=3;, score=0.826 total time=   4.2s\n",
      "[CV 5/5] END algorithm=brute, leaf_size=25, n_neighbors=3;, score=0.826 total time=   3.9s\n",
      "[CV 1/5] END algorithm=brute, leaf_size=25, n_neighbors=7;, score=0.829 total time=   6.6s\n",
      "[CV 2/5] END algorithm=brute, leaf_size=25, n_neighbors=7;, score=0.827 total time=   5.7s\n",
      "[CV 3/5] END algorithm=brute, leaf_size=25, n_neighbors=7;, score=0.829 total time=   6.1s\n",
      "[CV 4/5] END algorithm=brute, leaf_size=25, n_neighbors=7;, score=0.839 total time=   6.0s\n",
      "[CV 5/5] END algorithm=brute, leaf_size=25, n_neighbors=7;, score=0.828 total time=   6.4s\n",
      "[CV 1/5] END algorithm=brute, leaf_size=25, n_neighbors=9;, score=0.828 total time=   6.4s\n",
      "[CV 2/5] END algorithm=brute, leaf_size=25, n_neighbors=9;, score=0.830 total time=   5.8s\n",
      "[CV 3/5] END algorithm=brute, leaf_size=25, n_neighbors=9;, score=0.834 total time=   6.2s\n",
      "[CV 4/5] END algorithm=brute, leaf_size=25, n_neighbors=9;, score=0.843 total time=   6.2s\n",
      "[CV 5/5] END algorithm=brute, leaf_size=25, n_neighbors=9;, score=0.834 total time=   6.3s\n",
      "[CV 1/5] END algorithm=brute, leaf_size=25, n_neighbors=11;, score=0.830 total time=   6.2s\n",
      "[CV 2/5] END algorithm=brute, leaf_size=25, n_neighbors=11;, score=0.832 total time=   5.9s\n",
      "[CV 3/5] END algorithm=brute, leaf_size=25, n_neighbors=11;, score=0.834 total time=   6.3s\n",
      "[CV 4/5] END algorithm=brute, leaf_size=25, n_neighbors=11;, score=0.841 total time=   6.1s\n",
      "[CV 5/5] END algorithm=brute, leaf_size=25, n_neighbors=11;, score=0.837 total time=   6.3s\n",
      "[CV 1/5] END algorithm=brute, leaf_size=27, n_neighbors=3;, score=0.821 total time=   3.9s\n",
      "[CV 2/5] END algorithm=brute, leaf_size=27, n_neighbors=3;, score=0.815 total time=   3.9s\n",
      "[CV 3/5] END algorithm=brute, leaf_size=27, n_neighbors=3;, score=0.822 total time=   4.1s\n",
      "[CV 4/5] END algorithm=brute, leaf_size=27, n_neighbors=3;, score=0.826 total time=   3.9s\n",
      "[CV 5/5] END algorithm=brute, leaf_size=27, n_neighbors=3;, score=0.826 total time=   3.9s\n",
      "[CV 1/5] END algorithm=brute, leaf_size=27, n_neighbors=7;, score=0.829 total time=   6.9s\n",
      "[CV 2/5] END algorithm=brute, leaf_size=27, n_neighbors=7;, score=0.827 total time=   6.4s\n",
      "[CV 3/5] END algorithm=brute, leaf_size=27, n_neighbors=7;, score=0.829 total time=   6.1s\n",
      "[CV 4/5] END algorithm=brute, leaf_size=27, n_neighbors=7;, score=0.839 total time=   6.0s\n",
      "[CV 5/5] END algorithm=brute, leaf_size=27, n_neighbors=7;, score=0.828 total time=   6.0s\n",
      "[CV 1/5] END algorithm=brute, leaf_size=27, n_neighbors=9;, score=0.828 total time=   6.4s\n",
      "[CV 2/5] END algorithm=brute, leaf_size=27, n_neighbors=9;, score=0.830 total time=   5.7s\n",
      "[CV 3/5] END algorithm=brute, leaf_size=27, n_neighbors=9;, score=0.834 total time=   6.1s\n",
      "[CV 4/5] END algorithm=brute, leaf_size=27, n_neighbors=9;, score=0.843 total time=   6.0s\n",
      "[CV 5/5] END algorithm=brute, leaf_size=27, n_neighbors=9;, score=0.834 total time=   6.3s\n",
      "[CV 1/5] END algorithm=brute, leaf_size=27, n_neighbors=11;, score=0.830 total time=   6.2s\n",
      "[CV 2/5] END algorithm=brute, leaf_size=27, n_neighbors=11;, score=0.832 total time=   5.8s\n",
      "[CV 3/5] END algorithm=brute, leaf_size=27, n_neighbors=11;, score=0.834 total time=   6.2s\n",
      "[CV 4/5] END algorithm=brute, leaf_size=27, n_neighbors=11;, score=0.841 total time=   6.1s\n",
      "[CV 5/5] END algorithm=brute, leaf_size=27, n_neighbors=11;, score=0.837 total time=   6.1s\n",
      "[CV 1/5] END algorithm=brute, leaf_size=30, n_neighbors=3;, score=0.821 total time=   3.8s\n",
      "[CV 2/5] END algorithm=brute, leaf_size=30, n_neighbors=3;, score=0.815 total time=   3.9s\n",
      "[CV 3/5] END algorithm=brute, leaf_size=30, n_neighbors=3;, score=0.822 total time=   3.8s\n",
      "[CV 4/5] END algorithm=brute, leaf_size=30, n_neighbors=3;, score=0.826 total time=   4.0s\n",
      "[CV 5/5] END algorithm=brute, leaf_size=30, n_neighbors=3;, score=0.826 total time=   4.2s\n",
      "[CV 1/5] END algorithm=brute, leaf_size=30, n_neighbors=7;, score=0.829 total time=   6.6s\n",
      "[CV 2/5] END algorithm=brute, leaf_size=30, n_neighbors=7;, score=0.827 total time=   6.4s\n",
      "[CV 3/5] END algorithm=brute, leaf_size=30, n_neighbors=7;, score=0.829 total time=   6.5s\n",
      "[CV 4/5] END algorithm=brute, leaf_size=30, n_neighbors=7;, score=0.839 total time=   6.5s\n",
      "[CV 5/5] END algorithm=brute, leaf_size=30, n_neighbors=7;, score=0.828 total time=   6.3s\n",
      "[CV 1/5] END algorithm=brute, leaf_size=30, n_neighbors=9;, score=0.828 total time=   6.2s\n",
      "[CV 2/5] END algorithm=brute, leaf_size=30, n_neighbors=9;, score=0.830 total time=   5.7s\n",
      "[CV 3/5] END algorithm=brute, leaf_size=30, n_neighbors=9;, score=0.834 total time=   6.4s\n",
      "[CV 4/5] END algorithm=brute, leaf_size=30, n_neighbors=9;, score=0.843 total time=   6.0s\n",
      "[CV 5/5] END algorithm=brute, leaf_size=30, n_neighbors=9;, score=0.834 total time=   6.1s\n",
      "[CV 1/5] END algorithm=brute, leaf_size=30, n_neighbors=11;, score=0.830 total time=   6.6s\n",
      "[CV 2/5] END algorithm=brute, leaf_size=30, n_neighbors=11;, score=0.832 total time=   5.8s\n",
      "[CV 3/5] END algorithm=brute, leaf_size=30, n_neighbors=11;, score=0.834 total time=   5.8s\n",
      "[CV 4/5] END algorithm=brute, leaf_size=30, n_neighbors=11;, score=0.841 total time=   6.0s\n",
      "[CV 5/5] END algorithm=brute, leaf_size=30, n_neighbors=11;, score=0.837 total time=   6.0s\n"
     ]
    },
    {
     "data": {
      "text/plain": [
       "GridSearchCV(estimator=KNeighborsClassifier(),\n",
       "             param_grid={'algorithm': ['ball_tree', 'kd_tree', 'brute'],\n",
       "                         'leaf_size': [18, 25, 27, 30],\n",
       "                         'n_neighbors': [3, 7, 9, 11]},\n",
       "             verbose=3)"
      ]
     },
     "execution_count": 61,
     "metadata": {},
     "output_type": "execute_result"
    }
   ],
   "source": [
    "GSCV_KNN = GridSearchCV(KNN,param_grid=param_grid,verbose=3)\n",
    "GSCV_KNN.fit(X_train,y_train)"
   ]
  },
  {
   "cell_type": "code",
   "execution_count": 62,
   "metadata": {},
   "outputs": [
    {
     "data": {
      "text/plain": [
       "{'algorithm': 'brute', 'leaf_size': 18, 'n_neighbors': 11}"
      ]
     },
     "execution_count": 62,
     "metadata": {},
     "output_type": "execute_result"
    }
   ],
   "source": [
    "GSCV_KNN.best_params_"
   ]
  },
  {
   "cell_type": "code",
   "execution_count": 63,
   "metadata": {},
   "outputs": [
    {
     "data": {
      "text/plain": [
       "KNeighborsClassifier(algorithm='brute', leaf_size=18, n_neighbors=11)"
      ]
     },
     "execution_count": 63,
     "metadata": {},
     "output_type": "execute_result"
    }
   ],
   "source": [
    "KNN_tuned = KNeighborsClassifier(algorithm='brute',leaf_size=18,n_neighbors=11)\n",
    "KNN_tuned.fit(X_train,y_train)"
   ]
  },
  {
   "cell_type": "code",
   "execution_count": 64,
   "metadata": {},
   "outputs": [],
   "source": [
    "KNN_Accuracy = KNN_tuned.score(X_test,y_test)"
   ]
  },
  {
   "cell_type": "code",
   "execution_count": 65,
   "metadata": {},
   "outputs": [],
   "source": [
    "KNN_Predict = KNN_tuned.predict(X_test)"
   ]
  },
  {
   "cell_type": "markdown",
   "metadata": {},
   "source": [
    "### KNN Classifier Model Evaluation"
   ]
  },
  {
   "cell_type": "code",
   "execution_count": 66,
   "metadata": {},
   "outputs": [
    {
     "name": "stdout",
     "output_type": "stream",
     "text": [
      "Accuracy_Score:0.8344512419842264\n",
      "**************************************************\n",
      "Classification_Report:              precision    recall  f1-score   support\n",
      "\n",
      "           0       0.87      0.92      0.89     10193\n",
      "           1       0.70      0.59      0.64      3374\n",
      "\n",
      "    accuracy                           0.83     13567\n",
      "   macro avg       0.78      0.75      0.77     13567\n",
      "weighted avg       0.83      0.83      0.83     13567\n",
      "\n",
      "**************************************************\n",
      "Confusion_Matrix:\n",
      " [[9330  863]\n",
      " [1383 1991]]\n"
     ]
    }
   ],
   "source": [
    "print(f\"Accuracy_Score:{accuracy_score(y_test,KNN_Predict)}\")\n",
    "print('*'*50)\n",
    "print(f\"Classification_Report:{classification_report(y_test,KNN_Predict)}\")\n",
    "print('*'*50)\n",
    "print(f\"Confusion_Matrix:\\n {confusion_matrix(y_test,KNN_Predict)}\")"
   ]
  },
  {
   "cell_type": "markdown",
   "metadata": {},
   "source": [
    "### 5. XGBoost Classifier"
   ]
  },
  {
   "cell_type": "code",
   "execution_count": 67,
   "metadata": {},
   "outputs": [
    {
     "data": {
      "text/plain": [
       "XGBClassifier(base_score=0.5, booster='gbtree', colsample_bylevel=1,\n",
       "              colsample_bynode=1, colsample_bytree=1, eval_metric='logloss',\n",
       "              gamma=0, gpu_id=-1, importance_type='gain',\n",
       "              interaction_constraints='', learning_rate=0.300000012,\n",
       "              max_delta_step=0, max_depth=6, min_child_weight=1, missing=nan,\n",
       "              monotone_constraints='()', n_estimators=100, n_jobs=8,\n",
       "              num_parallel_tree=1, random_state=0, reg_alpha=0, reg_lambda=1,\n",
       "              scale_pos_weight=1, subsample=1, tree_method='exact',\n",
       "              validate_parameters=1, verbosity=None)"
      ]
     },
     "execution_count": 67,
     "metadata": {},
     "output_type": "execute_result"
    }
   ],
   "source": [
    "from xgboost import XGBClassifier\n",
    "XGB = XGBClassifier(objective='binary:logistic',eval_metric= \"logloss\")\n",
    "XGB.fit(X_train,y_train)"
   ]
  },
  {
   "cell_type": "code",
   "execution_count": 68,
   "metadata": {},
   "outputs": [],
   "source": [
    "param_grid={\n",
    "    'learning_rate':[1,0.5,0.1,0.01,0.001],\n",
    "    'max_depth': [3,5,7,9,11,15],\n",
    "    'n_estimators':[10,50,100,200,300]   \n",
    "}"
   ]
  },
  {
   "cell_type": "code",
   "execution_count": 69,
   "metadata": {},
   "outputs": [
    {
     "name": "stdout",
     "output_type": "stream",
     "text": [
      "Fitting 5 folds for each of 150 candidates, totalling 750 fits\n",
      "[CV 1/5] END learning_rate=1, max_depth=3, n_estimators=10;, score=0.859 total time=   0.0s\n",
      "[CV 2/5] END learning_rate=1, max_depth=3, n_estimators=10;, score=0.852 total time=   0.0s\n",
      "[CV 3/5] END learning_rate=1, max_depth=3, n_estimators=10;, score=0.854 total time=   0.0s\n",
      "[CV 4/5] END learning_rate=1, max_depth=3, n_estimators=10;, score=0.851 total time=   0.0s\n",
      "[CV 5/5] END learning_rate=1, max_depth=3, n_estimators=10;, score=0.855 total time=   0.0s\n",
      "[CV 1/5] END learning_rate=1, max_depth=3, n_estimators=50;, score=0.865 total time=   0.5s\n",
      "[CV 2/5] END learning_rate=1, max_depth=3, n_estimators=50;, score=0.863 total time=   0.2s\n",
      "[CV 3/5] END learning_rate=1, max_depth=3, n_estimators=50;, score=0.860 total time=   0.3s\n",
      "[CV 4/5] END learning_rate=1, max_depth=3, n_estimators=50;, score=0.861 total time=   0.2s\n",
      "[CV 5/5] END learning_rate=1, max_depth=3, n_estimators=50;, score=0.862 total time=   0.3s\n",
      "[CV 1/5] END learning_rate=1, max_depth=3, n_estimators=100;, score=0.864 total time=   0.5s\n",
      "[CV 2/5] END learning_rate=1, max_depth=3, n_estimators=100;, score=0.864 total time=   0.5s\n",
      "[CV 3/5] END learning_rate=1, max_depth=3, n_estimators=100;, score=0.859 total time=   0.5s\n",
      "[CV 4/5] END learning_rate=1, max_depth=3, n_estimators=100;, score=0.861 total time=   0.5s\n",
      "[CV 5/5] END learning_rate=1, max_depth=3, n_estimators=100;, score=0.861 total time=   0.5s\n",
      "[CV 1/5] END learning_rate=1, max_depth=3, n_estimators=200;, score=0.863 total time=   1.2s\n",
      "[CV 2/5] END learning_rate=1, max_depth=3, n_estimators=200;, score=0.858 total time=   1.2s\n",
      "[CV 3/5] END learning_rate=1, max_depth=3, n_estimators=200;, score=0.856 total time=   1.2s\n",
      "[CV 4/5] END learning_rate=1, max_depth=3, n_estimators=200;, score=0.859 total time=   1.1s\n",
      "[CV 5/5] END learning_rate=1, max_depth=3, n_estimators=200;, score=0.862 total time=   1.2s\n",
      "[CV 1/5] END learning_rate=1, max_depth=3, n_estimators=300;, score=0.862 total time=   1.7s\n",
      "[CV 2/5] END learning_rate=1, max_depth=3, n_estimators=300;, score=0.860 total time=   1.7s\n",
      "[CV 3/5] END learning_rate=1, max_depth=3, n_estimators=300;, score=0.858 total time=   1.8s\n",
      "[CV 4/5] END learning_rate=1, max_depth=3, n_estimators=300;, score=0.859 total time=   1.7s\n",
      "[CV 5/5] END learning_rate=1, max_depth=3, n_estimators=300;, score=0.858 total time=   1.7s\n",
      "[CV 1/5] END learning_rate=1, max_depth=5, n_estimators=10;, score=0.859 total time=   0.0s\n",
      "[CV 2/5] END learning_rate=1, max_depth=5, n_estimators=10;, score=0.861 total time=   0.0s\n",
      "[CV 3/5] END learning_rate=1, max_depth=5, n_estimators=10;, score=0.857 total time=   0.0s\n",
      "[CV 4/5] END learning_rate=1, max_depth=5, n_estimators=10;, score=0.861 total time=   0.0s\n",
      "[CV 5/5] END learning_rate=1, max_depth=5, n_estimators=10;, score=0.860 total time=   0.0s\n",
      "[CV 1/5] END learning_rate=1, max_depth=5, n_estimators=50;, score=0.858 total time=   0.4s\n",
      "[CV 2/5] END learning_rate=1, max_depth=5, n_estimators=50;, score=0.858 total time=   0.4s\n",
      "[CV 3/5] END learning_rate=1, max_depth=5, n_estimators=50;, score=0.857 total time=   0.4s\n",
      "[CV 4/5] END learning_rate=1, max_depth=5, n_estimators=50;, score=0.860 total time=   0.4s\n",
      "[CV 5/5] END learning_rate=1, max_depth=5, n_estimators=50;, score=0.860 total time=   0.4s\n",
      "[CV 1/5] END learning_rate=1, max_depth=5, n_estimators=100;, score=0.855 total time=   0.8s\n",
      "[CV 2/5] END learning_rate=1, max_depth=5, n_estimators=100;, score=0.854 total time=   0.8s\n",
      "[CV 3/5] END learning_rate=1, max_depth=5, n_estimators=100;, score=0.853 total time=   0.8s\n",
      "[CV 4/5] END learning_rate=1, max_depth=5, n_estimators=100;, score=0.852 total time=   0.9s\n",
      "[CV 5/5] END learning_rate=1, max_depth=5, n_estimators=100;, score=0.855 total time=   0.8s\n",
      "[CV 1/5] END learning_rate=1, max_depth=5, n_estimators=200;, score=0.851 total time=   1.7s\n",
      "[CV 2/5] END learning_rate=1, max_depth=5, n_estimators=200;, score=0.852 total time=   1.9s\n",
      "[CV 3/5] END learning_rate=1, max_depth=5, n_estimators=200;, score=0.847 total time=   1.7s\n",
      "[CV 4/5] END learning_rate=1, max_depth=5, n_estimators=200;, score=0.849 total time=   1.7s\n",
      "[CV 5/5] END learning_rate=1, max_depth=5, n_estimators=200;, score=0.849 total time=   2.0s\n",
      "[CV 1/5] END learning_rate=1, max_depth=5, n_estimators=300;, score=0.843 total time=   3.0s\n",
      "[CV 2/5] END learning_rate=1, max_depth=5, n_estimators=300;, score=0.851 total time=   2.9s\n",
      "[CV 3/5] END learning_rate=1, max_depth=5, n_estimators=300;, score=0.847 total time=   2.8s\n",
      "[CV 4/5] END learning_rate=1, max_depth=5, n_estimators=300;, score=0.845 total time=   2.8s\n",
      "[CV 5/5] END learning_rate=1, max_depth=5, n_estimators=300;, score=0.849 total time=   3.0s\n",
      "[CV 1/5] END learning_rate=1, max_depth=7, n_estimators=10;, score=0.863 total time=   0.1s\n",
      "[CV 2/5] END learning_rate=1, max_depth=7, n_estimators=10;, score=0.856 total time=   0.1s\n",
      "[CV 3/5] END learning_rate=1, max_depth=7, n_estimators=10;, score=0.852 total time=   0.1s\n",
      "[CV 4/5] END learning_rate=1, max_depth=7, n_estimators=10;, score=0.859 total time=   0.1s\n",
      "[CV 5/5] END learning_rate=1, max_depth=7, n_estimators=10;, score=0.861 total time=   0.0s\n",
      "[CV 1/5] END learning_rate=1, max_depth=7, n_estimators=50;, score=0.853 total time=   0.5s\n",
      "[CV 2/5] END learning_rate=1, max_depth=7, n_estimators=50;, score=0.852 total time=   0.6s\n",
      "[CV 3/5] END learning_rate=1, max_depth=7, n_estimators=50;, score=0.848 total time=   0.6s\n",
      "[CV 4/5] END learning_rate=1, max_depth=7, n_estimators=50;, score=0.849 total time=   0.6s\n",
      "[CV 5/5] END learning_rate=1, max_depth=7, n_estimators=50;, score=0.852 total time=   0.6s\n",
      "[CV 1/5] END learning_rate=1, max_depth=7, n_estimators=100;, score=0.848 total time=   1.3s\n",
      "[CV 2/5] END learning_rate=1, max_depth=7, n_estimators=100;, score=0.850 total time=   1.5s\n",
      "[CV 3/5] END learning_rate=1, max_depth=7, n_estimators=100;, score=0.843 total time=   1.2s\n",
      "[CV 4/5] END learning_rate=1, max_depth=7, n_estimators=100;, score=0.845 total time=   1.3s\n",
      "[CV 5/5] END learning_rate=1, max_depth=7, n_estimators=100;, score=0.846 total time=   1.2s\n",
      "[CV 1/5] END learning_rate=1, max_depth=7, n_estimators=200;, score=0.842 total time=   2.6s\n",
      "[CV 2/5] END learning_rate=1, max_depth=7, n_estimators=200;, score=0.844 total time=   2.6s\n",
      "[CV 3/5] END learning_rate=1, max_depth=7, n_estimators=200;, score=0.841 total time=   2.5s\n",
      "[CV 4/5] END learning_rate=1, max_depth=7, n_estimators=200;, score=0.836 total time=   2.7s\n",
      "[CV 5/5] END learning_rate=1, max_depth=7, n_estimators=200;, score=0.843 total time=   3.0s\n",
      "[CV 1/5] END learning_rate=1, max_depth=7, n_estimators=300;, score=0.839 total time=   4.4s\n",
      "[CV 2/5] END learning_rate=1, max_depth=7, n_estimators=300;, score=0.839 total time=   3.7s\n",
      "[CV 3/5] END learning_rate=1, max_depth=7, n_estimators=300;, score=0.838 total time=   4.3s\n",
      "[CV 4/5] END learning_rate=1, max_depth=7, n_estimators=300;, score=0.835 total time=   3.9s\n",
      "[CV 5/5] END learning_rate=1, max_depth=7, n_estimators=300;, score=0.842 total time=   3.9s\n",
      "[CV 1/5] END learning_rate=1, max_depth=9, n_estimators=10;, score=0.859 total time=   0.1s\n",
      "[CV 2/5] END learning_rate=1, max_depth=9, n_estimators=10;, score=0.852 total time=   0.1s\n",
      "[CV 3/5] END learning_rate=1, max_depth=9, n_estimators=10;, score=0.856 total time=   0.1s\n",
      "[CV 4/5] END learning_rate=1, max_depth=9, n_estimators=10;, score=0.856 total time=   0.2s\n",
      "[CV 5/5] END learning_rate=1, max_depth=9, n_estimators=10;, score=0.859 total time=   0.1s\n",
      "[CV 1/5] END learning_rate=1, max_depth=9, n_estimators=50;, score=0.846 total time=   0.8s\n",
      "[CV 2/5] END learning_rate=1, max_depth=9, n_estimators=50;, score=0.846 total time=   0.9s\n",
      "[CV 3/5] END learning_rate=1, max_depth=9, n_estimators=50;, score=0.846 total time=   0.8s\n",
      "[CV 4/5] END learning_rate=1, max_depth=9, n_estimators=50;, score=0.847 total time=   0.8s\n",
      "[CV 5/5] END learning_rate=1, max_depth=9, n_estimators=50;, score=0.851 total time=   0.7s\n",
      "[CV 1/5] END learning_rate=1, max_depth=9, n_estimators=100;, score=0.840 total time=   1.6s\n",
      "[CV 2/5] END learning_rate=1, max_depth=9, n_estimators=100;, score=0.845 total time=   1.7s\n",
      "[CV 3/5] END learning_rate=1, max_depth=9, n_estimators=100;, score=0.839 total time=   1.7s\n"
     ]
    },
    {
     "name": "stdout",
     "output_type": "stream",
     "text": [
      "[CV 4/5] END learning_rate=1, max_depth=9, n_estimators=100;, score=0.833 total time=   1.6s\n",
      "[CV 5/5] END learning_rate=1, max_depth=9, n_estimators=100;, score=0.841 total time=   1.6s\n",
      "[CV 1/5] END learning_rate=1, max_depth=9, n_estimators=200;, score=0.835 total time=   3.5s\n",
      "[CV 2/5] END learning_rate=1, max_depth=9, n_estimators=200;, score=0.839 total time=   3.3s\n",
      "[CV 3/5] END learning_rate=1, max_depth=9, n_estimators=200;, score=0.836 total time=   3.2s\n",
      "[CV 4/5] END learning_rate=1, max_depth=9, n_estimators=200;, score=0.834 total time=   3.4s\n",
      "[CV 5/5] END learning_rate=1, max_depth=9, n_estimators=200;, score=0.841 total time=   3.4s\n",
      "[CV 1/5] END learning_rate=1, max_depth=9, n_estimators=300;, score=0.834 total time=   4.9s\n",
      "[CV 2/5] END learning_rate=1, max_depth=9, n_estimators=300;, score=0.840 total time=   5.0s\n",
      "[CV 3/5] END learning_rate=1, max_depth=9, n_estimators=300;, score=0.834 total time=   4.9s\n",
      "[CV 4/5] END learning_rate=1, max_depth=9, n_estimators=300;, score=0.832 total time=   5.0s\n",
      "[CV 5/5] END learning_rate=1, max_depth=9, n_estimators=300;, score=0.837 total time=   4.8s\n",
      "[CV 1/5] END learning_rate=1, max_depth=11, n_estimators=10;, score=0.854 total time=   0.2s\n",
      "[CV 2/5] END learning_rate=1, max_depth=11, n_estimators=10;, score=0.853 total time=   0.2s\n",
      "[CV 3/5] END learning_rate=1, max_depth=11, n_estimators=10;, score=0.851 total time=   0.2s\n",
      "[CV 4/5] END learning_rate=1, max_depth=11, n_estimators=10;, score=0.854 total time=   0.1s\n",
      "[CV 5/5] END learning_rate=1, max_depth=11, n_estimators=10;, score=0.860 total time=   0.2s\n",
      "[CV 1/5] END learning_rate=1, max_depth=11, n_estimators=50;, score=0.841 total time=   1.0s\n",
      "[CV 2/5] END learning_rate=1, max_depth=11, n_estimators=50;, score=0.847 total time=   1.0s\n",
      "[CV 3/5] END learning_rate=1, max_depth=11, n_estimators=50;, score=0.840 total time=   1.0s\n",
      "[CV 4/5] END learning_rate=1, max_depth=11, n_estimators=50;, score=0.845 total time=   1.0s\n",
      "[CV 5/5] END learning_rate=1, max_depth=11, n_estimators=50;, score=0.846 total time=   1.1s\n",
      "[CV 1/5] END learning_rate=1, max_depth=11, n_estimators=100;, score=0.837 total time=   2.1s\n",
      "[CV 2/5] END learning_rate=1, max_depth=11, n_estimators=100;, score=0.841 total time=   2.0s\n",
      "[CV 3/5] END learning_rate=1, max_depth=11, n_estimators=100;, score=0.837 total time=   2.0s\n",
      "[CV 4/5] END learning_rate=1, max_depth=11, n_estimators=100;, score=0.834 total time=   2.0s\n",
      "[CV 5/5] END learning_rate=1, max_depth=11, n_estimators=100;, score=0.840 total time=   2.0s\n",
      "[CV 1/5] END learning_rate=1, max_depth=11, n_estimators=200;, score=0.833 total time=   4.1s\n",
      "[CV 2/5] END learning_rate=1, max_depth=11, n_estimators=200;, score=0.839 total time=   4.0s\n",
      "[CV 3/5] END learning_rate=1, max_depth=11, n_estimators=200;, score=0.836 total time=   4.2s\n",
      "[CV 4/5] END learning_rate=1, max_depth=11, n_estimators=200;, score=0.833 total time=   4.1s\n",
      "[CV 5/5] END learning_rate=1, max_depth=11, n_estimators=200;, score=0.836 total time=   4.3s\n",
      "[CV 1/5] END learning_rate=1, max_depth=11, n_estimators=300;, score=0.831 total time=   6.1s\n",
      "[CV 2/5] END learning_rate=1, max_depth=11, n_estimators=300;, score=0.838 total time=   6.3s\n",
      "[CV 3/5] END learning_rate=1, max_depth=11, n_estimators=300;, score=0.834 total time=   5.9s\n",
      "[CV 4/5] END learning_rate=1, max_depth=11, n_estimators=300;, score=0.833 total time=   6.3s\n",
      "[CV 5/5] END learning_rate=1, max_depth=11, n_estimators=300;, score=0.834 total time=   6.9s\n",
      "[CV 1/5] END learning_rate=1, max_depth=15, n_estimators=10;, score=0.845 total time=   0.3s\n",
      "[CV 2/5] END learning_rate=1, max_depth=15, n_estimators=10;, score=0.848 total time=   0.3s\n",
      "[CV 3/5] END learning_rate=1, max_depth=15, n_estimators=10;, score=0.848 total time=   0.3s\n",
      "[CV 4/5] END learning_rate=1, max_depth=15, n_estimators=10;, score=0.840 total time=   0.3s\n",
      "[CV 5/5] END learning_rate=1, max_depth=15, n_estimators=10;, score=0.851 total time=   0.3s\n",
      "[CV 1/5] END learning_rate=1, max_depth=15, n_estimators=50;, score=0.836 total time=   1.5s\n",
      "[CV 2/5] END learning_rate=1, max_depth=15, n_estimators=50;, score=0.840 total time=   1.5s\n",
      "[CV 3/5] END learning_rate=1, max_depth=15, n_estimators=50;, score=0.840 total time=   1.4s\n",
      "[CV 4/5] END learning_rate=1, max_depth=15, n_estimators=50;, score=0.834 total time=   1.6s\n",
      "[CV 5/5] END learning_rate=1, max_depth=15, n_estimators=50;, score=0.843 total time=   1.5s\n",
      "[CV 1/5] END learning_rate=1, max_depth=15, n_estimators=100;, score=0.834 total time=   3.0s\n",
      "[CV 2/5] END learning_rate=1, max_depth=15, n_estimators=100;, score=0.835 total time=   2.9s\n",
      "[CV 3/5] END learning_rate=1, max_depth=15, n_estimators=100;, score=0.837 total time=   3.0s\n",
      "[CV 4/5] END learning_rate=1, max_depth=15, n_estimators=100;, score=0.835 total time=   2.9s\n",
      "[CV 5/5] END learning_rate=1, max_depth=15, n_estimators=100;, score=0.840 total time=   3.0s\n",
      "[CV 1/5] END learning_rate=1, max_depth=15, n_estimators=200;, score=0.835 total time=   5.9s\n",
      "[CV 2/5] END learning_rate=1, max_depth=15, n_estimators=200;, score=0.834 total time=   5.8s\n",
      "[CV 3/5] END learning_rate=1, max_depth=15, n_estimators=200;, score=0.837 total time=   5.9s\n",
      "[CV 4/5] END learning_rate=1, max_depth=15, n_estimators=200;, score=0.835 total time=   5.9s\n",
      "[CV 5/5] END learning_rate=1, max_depth=15, n_estimators=200;, score=0.839 total time=   5.8s\n",
      "[CV 1/5] END learning_rate=1, max_depth=15, n_estimators=300;, score=0.833 total time=   8.5s\n",
      "[CV 2/5] END learning_rate=1, max_depth=15, n_estimators=300;, score=0.835 total time=   8.5s\n",
      "[CV 3/5] END learning_rate=1, max_depth=15, n_estimators=300;, score=0.835 total time=   8.3s\n",
      "[CV 4/5] END learning_rate=1, max_depth=15, n_estimators=300;, score=0.832 total time=   8.7s\n",
      "[CV 5/5] END learning_rate=1, max_depth=15, n_estimators=300;, score=0.836 total time=   8.6s\n",
      "[CV 1/5] END learning_rate=0.5, max_depth=3, n_estimators=10;, score=0.851 total time=   0.0s\n",
      "[CV 2/5] END learning_rate=0.5, max_depth=3, n_estimators=10;, score=0.850 total time=   0.0s\n",
      "[CV 3/5] END learning_rate=0.5, max_depth=3, n_estimators=10;, score=0.848 total time=   0.0s\n",
      "[CV 4/5] END learning_rate=0.5, max_depth=3, n_estimators=10;, score=0.845 total time=   0.0s\n",
      "[CV 5/5] END learning_rate=0.5, max_depth=3, n_estimators=10;, score=0.851 total time=   0.0s\n",
      "[CV 1/5] END learning_rate=0.5, max_depth=3, n_estimators=50;, score=0.866 total time=   0.2s\n",
      "[CV 2/5] END learning_rate=0.5, max_depth=3, n_estimators=50;, score=0.861 total time=   0.2s\n",
      "[CV 3/5] END learning_rate=0.5, max_depth=3, n_estimators=50;, score=0.859 total time=   0.2s\n",
      "[CV 4/5] END learning_rate=0.5, max_depth=3, n_estimators=50;, score=0.861 total time=   0.2s\n",
      "[CV 5/5] END learning_rate=0.5, max_depth=3, n_estimators=50;, score=0.864 total time=   0.2s\n",
      "[CV 1/5] END learning_rate=0.5, max_depth=3, n_estimators=100;, score=0.866 total time=   0.6s\n",
      "[CV 2/5] END learning_rate=0.5, max_depth=3, n_estimators=100;, score=0.862 total time=   0.6s\n",
      "[CV 3/5] END learning_rate=0.5, max_depth=3, n_estimators=100;, score=0.860 total time=   0.6s\n",
      "[CV 4/5] END learning_rate=0.5, max_depth=3, n_estimators=100;, score=0.862 total time=   0.6s\n",
      "[CV 5/5] END learning_rate=0.5, max_depth=3, n_estimators=100;, score=0.863 total time=   0.6s\n",
      "[CV 1/5] END learning_rate=0.5, max_depth=3, n_estimators=200;, score=0.867 total time=   1.3s\n",
      "[CV 2/5] END learning_rate=0.5, max_depth=3, n_estimators=200;, score=0.863 total time=   1.2s\n",
      "[CV 3/5] END learning_rate=0.5, max_depth=3, n_estimators=200;, score=0.860 total time=   1.2s\n",
      "[CV 4/5] END learning_rate=0.5, max_depth=3, n_estimators=200;, score=0.861 total time=   1.2s\n",
      "[CV 5/5] END learning_rate=0.5, max_depth=3, n_estimators=200;, score=0.867 total time=   1.2s\n",
      "[CV 1/5] END learning_rate=0.5, max_depth=3, n_estimators=300;, score=0.865 total time=   1.8s\n",
      "[CV 2/5] END learning_rate=0.5, max_depth=3, n_estimators=300;, score=0.863 total time=   1.7s\n",
      "[CV 3/5] END learning_rate=0.5, max_depth=3, n_estimators=300;, score=0.861 total time=   1.7s\n",
      "[CV 4/5] END learning_rate=0.5, max_depth=3, n_estimators=300;, score=0.861 total time=   1.8s\n",
      "[CV 5/5] END learning_rate=0.5, max_depth=3, n_estimators=300;, score=0.866 total time=   2.9s\n",
      "[CV 1/5] END learning_rate=0.5, max_depth=5, n_estimators=10;, score=0.857 total time=   0.0s\n"
     ]
    },
    {
     "name": "stdout",
     "output_type": "stream",
     "text": [
      "[CV 2/5] END learning_rate=0.5, max_depth=5, n_estimators=10;, score=0.855 total time=   0.1s\n",
      "[CV 3/5] END learning_rate=0.5, max_depth=5, n_estimators=10;, score=0.856 total time=   0.0s\n",
      "[CV 4/5] END learning_rate=0.5, max_depth=5, n_estimators=10;, score=0.853 total time=   0.0s\n",
      "[CV 5/5] END learning_rate=0.5, max_depth=5, n_estimators=10;, score=0.861 total time=   0.1s\n",
      "[CV 1/5] END learning_rate=0.5, max_depth=5, n_estimators=50;, score=0.863 total time=   0.4s\n",
      "[CV 2/5] END learning_rate=0.5, max_depth=5, n_estimators=50;, score=0.862 total time=   0.4s\n",
      "[CV 3/5] END learning_rate=0.5, max_depth=5, n_estimators=50;, score=0.859 total time=   0.3s\n",
      "[CV 4/5] END learning_rate=0.5, max_depth=5, n_estimators=50;, score=0.863 total time=   0.3s\n",
      "[CV 5/5] END learning_rate=0.5, max_depth=5, n_estimators=50;, score=0.864 total time=   0.3s\n",
      "[CV 1/5] END learning_rate=0.5, max_depth=5, n_estimators=100;, score=0.862 total time=   0.6s\n",
      "[CV 2/5] END learning_rate=0.5, max_depth=5, n_estimators=100;, score=0.861 total time=   1.0s\n",
      "[CV 3/5] END learning_rate=0.5, max_depth=5, n_estimators=100;, score=0.859 total time=   1.2s\n",
      "[CV 4/5] END learning_rate=0.5, max_depth=5, n_estimators=100;, score=0.859 total time=   1.4s\n",
      "[CV 5/5] END learning_rate=0.5, max_depth=5, n_estimators=100;, score=0.865 total time=   1.2s\n",
      "[CV 1/5] END learning_rate=0.5, max_depth=5, n_estimators=200;, score=0.859 total time=   1.9s\n",
      "[CV 2/5] END learning_rate=0.5, max_depth=5, n_estimators=200;, score=0.858 total time=   2.5s\n",
      "[CV 3/5] END learning_rate=0.5, max_depth=5, n_estimators=200;, score=0.858 total time=   2.1s\n",
      "[CV 4/5] END learning_rate=0.5, max_depth=5, n_estimators=200;, score=0.857 total time=   1.6s\n",
      "[CV 5/5] END learning_rate=0.5, max_depth=5, n_estimators=200;, score=0.861 total time=   1.9s\n",
      "[CV 1/5] END learning_rate=0.5, max_depth=5, n_estimators=300;, score=0.857 total time=   3.0s\n",
      "[CV 2/5] END learning_rate=0.5, max_depth=5, n_estimators=300;, score=0.855 total time=   2.2s\n",
      "[CV 3/5] END learning_rate=0.5, max_depth=5, n_estimators=300;, score=0.857 total time=   2.3s\n",
      "[CV 4/5] END learning_rate=0.5, max_depth=5, n_estimators=300;, score=0.851 total time=   2.3s\n",
      "[CV 5/5] END learning_rate=0.5, max_depth=5, n_estimators=300;, score=0.857 total time=   2.3s\n",
      "[CV 1/5] END learning_rate=0.5, max_depth=7, n_estimators=10;, score=0.863 total time=   0.1s\n",
      "[CV 2/5] END learning_rate=0.5, max_depth=7, n_estimators=10;, score=0.855 total time=   0.1s\n",
      "[CV 3/5] END learning_rate=0.5, max_depth=7, n_estimators=10;, score=0.856 total time=   0.1s\n",
      "[CV 4/5] END learning_rate=0.5, max_depth=7, n_estimators=10;, score=0.861 total time=   0.1s\n",
      "[CV 5/5] END learning_rate=0.5, max_depth=7, n_estimators=10;, score=0.864 total time=   0.1s\n",
      "[CV 1/5] END learning_rate=0.5, max_depth=7, n_estimators=50;, score=0.863 total time=   0.5s\n",
      "[CV 2/5] END learning_rate=0.5, max_depth=7, n_estimators=50;, score=0.860 total time=   0.5s\n",
      "[CV 3/5] END learning_rate=0.5, max_depth=7, n_estimators=50;, score=0.857 total time=   0.5s\n",
      "[CV 4/5] END learning_rate=0.5, max_depth=7, n_estimators=50;, score=0.857 total time=   0.5s\n",
      "[CV 5/5] END learning_rate=0.5, max_depth=7, n_estimators=50;, score=0.866 total time=   0.4s\n",
      "[CV 1/5] END learning_rate=0.5, max_depth=7, n_estimators=100;, score=0.861 total time=   1.2s\n",
      "[CV 2/5] END learning_rate=0.5, max_depth=7, n_estimators=100;, score=0.856 total time=   0.8s\n",
      "[CV 3/5] END learning_rate=0.5, max_depth=7, n_estimators=100;, score=0.854 total time=   0.9s\n",
      "[CV 4/5] END learning_rate=0.5, max_depth=7, n_estimators=100;, score=0.857 total time=   0.9s\n",
      "[CV 5/5] END learning_rate=0.5, max_depth=7, n_estimators=100;, score=0.861 total time=   0.8s\n",
      "[CV 1/5] END learning_rate=0.5, max_depth=7, n_estimators=200;, score=0.853 total time=   1.7s\n",
      "[CV 2/5] END learning_rate=0.5, max_depth=7, n_estimators=200;, score=0.854 total time=   1.7s\n",
      "[CV 3/5] END learning_rate=0.5, max_depth=7, n_estimators=200;, score=0.851 total time=   1.7s\n",
      "[CV 4/5] END learning_rate=0.5, max_depth=7, n_estimators=200;, score=0.849 total time=   1.7s\n",
      "[CV 5/5] END learning_rate=0.5, max_depth=7, n_estimators=200;, score=0.857 total time=   1.8s\n",
      "[CV 1/5] END learning_rate=0.5, max_depth=7, n_estimators=300;, score=0.851 total time=   3.1s\n",
      "[CV 2/5] END learning_rate=0.5, max_depth=7, n_estimators=300;, score=0.851 total time=   2.8s\n",
      "[CV 3/5] END learning_rate=0.5, max_depth=7, n_estimators=300;, score=0.846 total time=   2.8s\n",
      "[CV 4/5] END learning_rate=0.5, max_depth=7, n_estimators=300;, score=0.848 total time=   2.7s\n",
      "[CV 5/5] END learning_rate=0.5, max_depth=7, n_estimators=300;, score=0.853 total time=   2.9s\n",
      "[CV 1/5] END learning_rate=0.5, max_depth=9, n_estimators=10;, score=0.863 total time=   0.1s\n",
      "[CV 2/5] END learning_rate=0.5, max_depth=9, n_estimators=10;, score=0.857 total time=   0.1s\n",
      "[CV 3/5] END learning_rate=0.5, max_depth=9, n_estimators=10;, score=0.856 total time=   0.1s\n",
      "[CV 4/5] END learning_rate=0.5, max_depth=9, n_estimators=10;, score=0.856 total time=   0.1s\n",
      "[CV 5/5] END learning_rate=0.5, max_depth=9, n_estimators=10;, score=0.861 total time=   0.1s\n",
      "[CV 1/5] END learning_rate=0.5, max_depth=9, n_estimators=50;, score=0.857 total time=   0.6s\n",
      "[CV 2/5] END learning_rate=0.5, max_depth=9, n_estimators=50;, score=0.859 total time=   0.5s\n",
      "[CV 3/5] END learning_rate=0.5, max_depth=9, n_estimators=50;, score=0.853 total time=   0.6s\n",
      "[CV 4/5] END learning_rate=0.5, max_depth=9, n_estimators=50;, score=0.855 total time=   0.8s\n",
      "[CV 5/5] END learning_rate=0.5, max_depth=9, n_estimators=50;, score=0.860 total time=   0.7s\n",
      "[CV 1/5] END learning_rate=0.5, max_depth=9, n_estimators=100;, score=0.853 total time=   1.1s\n",
      "[CV 2/5] END learning_rate=0.5, max_depth=9, n_estimators=100;, score=0.854 total time=   1.1s\n",
      "[CV 3/5] END learning_rate=0.5, max_depth=9, n_estimators=100;, score=0.853 total time=   1.1s\n",
      "[CV 4/5] END learning_rate=0.5, max_depth=9, n_estimators=100;, score=0.851 total time=   1.1s\n",
      "[CV 5/5] END learning_rate=0.5, max_depth=9, n_estimators=100;, score=0.856 total time=   1.1s\n",
      "[CV 1/5] END learning_rate=0.5, max_depth=9, n_estimators=200;, score=0.848 total time=   2.4s\n",
      "[CV 2/5] END learning_rate=0.5, max_depth=9, n_estimators=200;, score=0.850 total time=   2.2s\n",
      "[CV 3/5] END learning_rate=0.5, max_depth=9, n_estimators=200;, score=0.847 total time=   2.2s\n",
      "[CV 4/5] END learning_rate=0.5, max_depth=9, n_estimators=200;, score=0.846 total time=   3.2s\n",
      "[CV 5/5] END learning_rate=0.5, max_depth=9, n_estimators=200;, score=0.851 total time=   2.9s\n",
      "[CV 1/5] END learning_rate=0.5, max_depth=9, n_estimators=300;, score=0.843 total time=   3.9s\n",
      "[CV 2/5] END learning_rate=0.5, max_depth=9, n_estimators=300;, score=0.846 total time=   3.5s\n",
      "[CV 3/5] END learning_rate=0.5, max_depth=9, n_estimators=300;, score=0.844 total time=   3.8s\n",
      "[CV 4/5] END learning_rate=0.5, max_depth=9, n_estimators=300;, score=0.841 total time=   4.3s\n",
      "[CV 5/5] END learning_rate=0.5, max_depth=9, n_estimators=300;, score=0.848 total time=   3.8s\n",
      "[CV 1/5] END learning_rate=0.5, max_depth=11, n_estimators=10;, score=0.863 total time=   0.1s\n",
      "[CV 2/5] END learning_rate=0.5, max_depth=11, n_estimators=10;, score=0.856 total time=   0.1s\n",
      "[CV 3/5] END learning_rate=0.5, max_depth=11, n_estimators=10;, score=0.855 total time=   0.1s\n",
      "[CV 4/5] END learning_rate=0.5, max_depth=11, n_estimators=10;, score=0.860 total time=   0.1s\n",
      "[CV 5/5] END learning_rate=0.5, max_depth=11, n_estimators=10;, score=0.861 total time=   0.1s\n",
      "[CV 1/5] END learning_rate=0.5, max_depth=11, n_estimators=50;, score=0.856 total time=   0.8s\n",
      "[CV 2/5] END learning_rate=0.5, max_depth=11, n_estimators=50;, score=0.854 total time=   0.8s\n",
      "[CV 3/5] END learning_rate=0.5, max_depth=11, n_estimators=50;, score=0.854 total time=   0.8s\n",
      "[CV 4/5] END learning_rate=0.5, max_depth=11, n_estimators=50;, score=0.852 total time=   0.7s\n",
      "[CV 5/5] END learning_rate=0.5, max_depth=11, n_estimators=50;, score=0.856 total time=   0.7s\n",
      "[CV 1/5] END learning_rate=0.5, max_depth=11, n_estimators=100;, score=0.850 total time=   1.5s\n",
      "[CV 2/5] END learning_rate=0.5, max_depth=11, n_estimators=100;, score=0.851 total time=   1.8s\n",
      "[CV 3/5] END learning_rate=0.5, max_depth=11, n_estimators=100;, score=0.848 total time=   1.5s\n"
     ]
    },
    {
     "name": "stdout",
     "output_type": "stream",
     "text": [
      "[CV 4/5] END learning_rate=0.5, max_depth=11, n_estimators=100;, score=0.846 total time=   1.7s\n",
      "[CV 5/5] END learning_rate=0.5, max_depth=11, n_estimators=100;, score=0.851 total time=   1.6s\n",
      "[CV 1/5] END learning_rate=0.5, max_depth=11, n_estimators=200;, score=0.846 total time=   3.3s\n",
      "[CV 2/5] END learning_rate=0.5, max_depth=11, n_estimators=200;, score=0.845 total time=   3.3s\n",
      "[CV 3/5] END learning_rate=0.5, max_depth=11, n_estimators=200;, score=0.844 total time=   3.2s\n",
      "[CV 4/5] END learning_rate=0.5, max_depth=11, n_estimators=200;, score=0.842 total time=   2.9s\n",
      "[CV 5/5] END learning_rate=0.5, max_depth=11, n_estimators=200;, score=0.845 total time=   3.1s\n",
      "[CV 1/5] END learning_rate=0.5, max_depth=11, n_estimators=300;, score=0.838 total time=   4.6s\n",
      "[CV 2/5] END learning_rate=0.5, max_depth=11, n_estimators=300;, score=0.843 total time=   4.6s\n",
      "[CV 3/5] END learning_rate=0.5, max_depth=11, n_estimators=300;, score=0.841 total time=   4.8s\n",
      "[CV 4/5] END learning_rate=0.5, max_depth=11, n_estimators=300;, score=0.836 total time=   5.5s\n",
      "[CV 5/5] END learning_rate=0.5, max_depth=11, n_estimators=300;, score=0.843 total time=   5.3s\n",
      "[CV 1/5] END learning_rate=0.5, max_depth=15, n_estimators=10;, score=0.860 total time=   0.3s\n",
      "[CV 2/5] END learning_rate=0.5, max_depth=15, n_estimators=10;, score=0.855 total time=   0.2s\n",
      "[CV 3/5] END learning_rate=0.5, max_depth=15, n_estimators=10;, score=0.851 total time=   0.2s\n",
      "[CV 4/5] END learning_rate=0.5, max_depth=15, n_estimators=10;, score=0.854 total time=   0.2s\n",
      "[CV 5/5] END learning_rate=0.5, max_depth=15, n_estimators=10;, score=0.858 total time=   0.2s\n",
      "[CV 1/5] END learning_rate=0.5, max_depth=15, n_estimators=50;, score=0.847 total time=   1.1s\n",
      "[CV 2/5] END learning_rate=0.5, max_depth=15, n_estimators=50;, score=0.849 total time=   1.5s\n",
      "[CV 3/5] END learning_rate=0.5, max_depth=15, n_estimators=50;, score=0.850 total time=   1.4s\n",
      "[CV 4/5] END learning_rate=0.5, max_depth=15, n_estimators=50;, score=0.844 total time=   1.1s\n",
      "[CV 5/5] END learning_rate=0.5, max_depth=15, n_estimators=50;, score=0.850 total time=   1.1s\n",
      "[CV 1/5] END learning_rate=0.5, max_depth=15, n_estimators=100;, score=0.842 total time=   2.4s\n",
      "[CV 2/5] END learning_rate=0.5, max_depth=15, n_estimators=100;, score=0.844 total time=   2.3s\n",
      "[CV 3/5] END learning_rate=0.5, max_depth=15, n_estimators=100;, score=0.844 total time=   3.1s\n",
      "[CV 4/5] END learning_rate=0.5, max_depth=15, n_estimators=100;, score=0.839 total time=   2.5s\n",
      "[CV 5/5] END learning_rate=0.5, max_depth=15, n_estimators=100;, score=0.844 total time=   2.3s\n",
      "[CV 1/5] END learning_rate=0.5, max_depth=15, n_estimators=200;, score=0.836 total time=   4.5s\n",
      "[CV 2/5] END learning_rate=0.5, max_depth=15, n_estimators=200;, score=0.842 total time=   4.4s\n",
      "[CV 3/5] END learning_rate=0.5, max_depth=15, n_estimators=200;, score=0.841 total time=   5.7s\n",
      "[CV 4/5] END learning_rate=0.5, max_depth=15, n_estimators=200;, score=0.836 total time=   4.1s\n",
      "[CV 5/5] END learning_rate=0.5, max_depth=15, n_estimators=200;, score=0.838 total time=   4.2s\n",
      "[CV 1/5] END learning_rate=0.5, max_depth=15, n_estimators=300;, score=0.835 total time=   6.4s\n",
      "[CV 2/5] END learning_rate=0.5, max_depth=15, n_estimators=300;, score=0.840 total time=   6.1s\n",
      "[CV 3/5] END learning_rate=0.5, max_depth=15, n_estimators=300;, score=0.841 total time=   6.6s\n",
      "[CV 4/5] END learning_rate=0.5, max_depth=15, n_estimators=300;, score=0.836 total time=   6.9s\n",
      "[CV 5/5] END learning_rate=0.5, max_depth=15, n_estimators=300;, score=0.835 total time=   6.8s\n",
      "[CV 1/5] END learning_rate=0.1, max_depth=3, n_estimators=10;, score=0.842 total time=   0.0s\n",
      "[CV 2/5] END learning_rate=0.1, max_depth=3, n_estimators=10;, score=0.838 total time=   0.0s\n",
      "[CV 3/5] END learning_rate=0.1, max_depth=3, n_estimators=10;, score=0.837 total time=   0.0s\n",
      "[CV 4/5] END learning_rate=0.1, max_depth=3, n_estimators=10;, score=0.834 total time=   0.0s\n",
      "[CV 5/5] END learning_rate=0.1, max_depth=3, n_estimators=10;, score=0.843 total time=   0.0s\n",
      "[CV 1/5] END learning_rate=0.1, max_depth=3, n_estimators=50;, score=0.852 total time=   0.2s\n",
      "[CV 2/5] END learning_rate=0.1, max_depth=3, n_estimators=50;, score=0.849 total time=   0.2s\n",
      "[CV 3/5] END learning_rate=0.1, max_depth=3, n_estimators=50;, score=0.846 total time=   0.3s\n",
      "[CV 4/5] END learning_rate=0.1, max_depth=3, n_estimators=50;, score=0.846 total time=   0.3s\n",
      "[CV 5/5] END learning_rate=0.1, max_depth=3, n_estimators=50;, score=0.852 total time=   0.3s\n",
      "[CV 1/5] END learning_rate=0.1, max_depth=3, n_estimators=100;, score=0.862 total time=   0.5s\n",
      "[CV 2/5] END learning_rate=0.1, max_depth=3, n_estimators=100;, score=0.853 total time=   0.6s\n",
      "[CV 3/5] END learning_rate=0.1, max_depth=3, n_estimators=100;, score=0.854 total time=   0.5s\n",
      "[CV 4/5] END learning_rate=0.1, max_depth=3, n_estimators=100;, score=0.850 total time=   0.4s\n",
      "[CV 5/5] END learning_rate=0.1, max_depth=3, n_estimators=100;, score=0.859 total time=   0.4s\n",
      "[CV 1/5] END learning_rate=0.1, max_depth=3, n_estimators=200;, score=0.866 total time=   0.9s\n",
      "[CV 2/5] END learning_rate=0.1, max_depth=3, n_estimators=200;, score=0.860 total time=   0.9s\n",
      "[CV 3/5] END learning_rate=0.1, max_depth=3, n_estimators=200;, score=0.858 total time=   0.9s\n",
      "[CV 4/5] END learning_rate=0.1, max_depth=3, n_estimators=200;, score=0.860 total time=   0.9s\n",
      "[CV 5/5] END learning_rate=0.1, max_depth=3, n_estimators=200;, score=0.865 total time=   1.1s\n",
      "[CV 1/5] END learning_rate=0.1, max_depth=3, n_estimators=300;, score=0.867 total time=   1.8s\n",
      "[CV 2/5] END learning_rate=0.1, max_depth=3, n_estimators=300;, score=0.860 total time=   2.3s\n",
      "[CV 3/5] END learning_rate=0.1, max_depth=3, n_estimators=300;, score=0.860 total time=   2.4s\n",
      "[CV 4/5] END learning_rate=0.1, max_depth=3, n_estimators=300;, score=0.862 total time=   1.6s\n",
      "[CV 5/5] END learning_rate=0.1, max_depth=3, n_estimators=300;, score=0.867 total time=   1.5s\n",
      "[CV 1/5] END learning_rate=0.1, max_depth=5, n_estimators=10;, score=0.846 total time=   0.0s\n",
      "[CV 2/5] END learning_rate=0.1, max_depth=5, n_estimators=10;, score=0.842 total time=   0.0s\n",
      "[CV 3/5] END learning_rate=0.1, max_depth=5, n_estimators=10;, score=0.843 total time=   0.0s\n",
      "[CV 4/5] END learning_rate=0.1, max_depth=5, n_estimators=10;, score=0.840 total time=   0.0s\n",
      "[CV 5/5] END learning_rate=0.1, max_depth=5, n_estimators=10;, score=0.847 total time=   0.0s\n",
      "[CV 1/5] END learning_rate=0.1, max_depth=5, n_estimators=50;, score=0.862 total time=   0.3s\n",
      "[CV 2/5] END learning_rate=0.1, max_depth=5, n_estimators=50;, score=0.856 total time=   0.4s\n",
      "[CV 3/5] END learning_rate=0.1, max_depth=5, n_estimators=50;, score=0.855 total time=   0.3s\n",
      "[CV 4/5] END learning_rate=0.1, max_depth=5, n_estimators=50;, score=0.854 total time=   0.3s\n",
      "[CV 5/5] END learning_rate=0.1, max_depth=5, n_estimators=50;, score=0.860 total time=   0.3s\n",
      "[CV 1/5] END learning_rate=0.1, max_depth=5, n_estimators=100;, score=0.864 total time=   0.8s\n",
      "[CV 2/5] END learning_rate=0.1, max_depth=5, n_estimators=100;, score=0.861 total time=   0.7s\n",
      "[CV 3/5] END learning_rate=0.1, max_depth=5, n_estimators=100;, score=0.860 total time=   0.6s\n",
      "[CV 4/5] END learning_rate=0.1, max_depth=5, n_estimators=100;, score=0.861 total time=   0.7s\n",
      "[CV 5/5] END learning_rate=0.1, max_depth=5, n_estimators=100;, score=0.864 total time=   0.7s\n",
      "[CV 1/5] END learning_rate=0.1, max_depth=5, n_estimators=200;, score=0.867 total time=   1.4s\n",
      "[CV 2/5] END learning_rate=0.1, max_depth=5, n_estimators=200;, score=0.863 total time=   1.4s\n",
      "[CV 3/5] END learning_rate=0.1, max_depth=5, n_estimators=200;, score=0.860 total time=   1.3s\n",
      "[CV 4/5] END learning_rate=0.1, max_depth=5, n_estimators=200;, score=0.863 total time=   1.3s\n",
      "[CV 5/5] END learning_rate=0.1, max_depth=5, n_estimators=200;, score=0.866 total time=   1.8s\n",
      "[CV 1/5] END learning_rate=0.1, max_depth=5, n_estimators=300;, score=0.865 total time=   2.0s\n",
      "[CV 2/5] END learning_rate=0.1, max_depth=5, n_estimators=300;, score=0.862 total time=   2.0s\n",
      "[CV 3/5] END learning_rate=0.1, max_depth=5, n_estimators=300;, score=0.859 total time=   2.0s\n",
      "[CV 4/5] END learning_rate=0.1, max_depth=5, n_estimators=300;, score=0.863 total time=   1.8s\n",
      "[CV 5/5] END learning_rate=0.1, max_depth=5, n_estimators=300;, score=0.866 total time=   1.9s\n",
      "[CV 1/5] END learning_rate=0.1, max_depth=7, n_estimators=10;, score=0.854 total time=   0.0s\n"
     ]
    },
    {
     "name": "stdout",
     "output_type": "stream",
     "text": [
      "[CV 2/5] END learning_rate=0.1, max_depth=7, n_estimators=10;, score=0.850 total time=   0.0s\n",
      "[CV 3/5] END learning_rate=0.1, max_depth=7, n_estimators=10;, score=0.847 total time=   0.0s\n",
      "[CV 4/5] END learning_rate=0.1, max_depth=7, n_estimators=10;, score=0.847 total time=   0.0s\n",
      "[CV 5/5] END learning_rate=0.1, max_depth=7, n_estimators=10;, score=0.852 total time=   0.0s\n",
      "[CV 1/5] END learning_rate=0.1, max_depth=7, n_estimators=50;, score=0.862 total time=   0.5s\n",
      "[CV 2/5] END learning_rate=0.1, max_depth=7, n_estimators=50;, score=0.857 total time=   0.5s\n",
      "[CV 3/5] END learning_rate=0.1, max_depth=7, n_estimators=50;, score=0.857 total time=   0.5s\n",
      "[CV 4/5] END learning_rate=0.1, max_depth=7, n_estimators=50;, score=0.860 total time=   0.4s\n",
      "[CV 5/5] END learning_rate=0.1, max_depth=7, n_estimators=50;, score=0.862 total time=   0.4s\n",
      "[CV 1/5] END learning_rate=0.1, max_depth=7, n_estimators=100;, score=0.865 total time=   1.1s\n",
      "[CV 2/5] END learning_rate=0.1, max_depth=7, n_estimators=100;, score=0.860 total time=   1.0s\n",
      "[CV 3/5] END learning_rate=0.1, max_depth=7, n_estimators=100;, score=0.860 total time=   0.9s\n",
      "[CV 4/5] END learning_rate=0.1, max_depth=7, n_estimators=100;, score=0.864 total time=   0.9s\n",
      "[CV 5/5] END learning_rate=0.1, max_depth=7, n_estimators=100;, score=0.867 total time=   1.1s\n",
      "[CV 1/5] END learning_rate=0.1, max_depth=7, n_estimators=200;, score=0.864 total time=   2.6s\n",
      "[CV 2/5] END learning_rate=0.1, max_depth=7, n_estimators=200;, score=0.862 total time=   2.0s\n",
      "[CV 3/5] END learning_rate=0.1, max_depth=7, n_estimators=200;, score=0.860 total time=   1.8s\n",
      "[CV 4/5] END learning_rate=0.1, max_depth=7, n_estimators=200;, score=0.861 total time=   1.7s\n",
      "[CV 5/5] END learning_rate=0.1, max_depth=7, n_estimators=200;, score=0.868 total time=   1.9s\n",
      "[CV 1/5] END learning_rate=0.1, max_depth=7, n_estimators=300;, score=0.865 total time=   3.1s\n",
      "[CV 2/5] END learning_rate=0.1, max_depth=7, n_estimators=300;, score=0.862 total time=   2.6s\n",
      "[CV 3/5] END learning_rate=0.1, max_depth=7, n_estimators=300;, score=0.860 total time=   2.9s\n",
      "[CV 4/5] END learning_rate=0.1, max_depth=7, n_estimators=300;, score=0.861 total time=   2.8s\n",
      "[CV 5/5] END learning_rate=0.1, max_depth=7, n_estimators=300;, score=0.866 total time=   2.6s\n",
      "[CV 1/5] END learning_rate=0.1, max_depth=9, n_estimators=10;, score=0.853 total time=   0.1s\n",
      "[CV 2/5] END learning_rate=0.1, max_depth=9, n_estimators=10;, score=0.853 total time=   0.1s\n",
      "[CV 3/5] END learning_rate=0.1, max_depth=9, n_estimators=10;, score=0.849 total time=   0.1s\n",
      "[CV 4/5] END learning_rate=0.1, max_depth=9, n_estimators=10;, score=0.849 total time=   0.1s\n",
      "[CV 5/5] END learning_rate=0.1, max_depth=9, n_estimators=10;, score=0.857 total time=   0.1s\n",
      "[CV 1/5] END learning_rate=0.1, max_depth=9, n_estimators=50;, score=0.863 total time=   0.7s\n",
      "[CV 2/5] END learning_rate=0.1, max_depth=9, n_estimators=50;, score=0.856 total time=   0.9s\n",
      "[CV 3/5] END learning_rate=0.1, max_depth=9, n_estimators=50;, score=0.858 total time=   0.7s\n",
      "[CV 4/5] END learning_rate=0.1, max_depth=9, n_estimators=50;, score=0.861 total time=   0.7s\n",
      "[CV 5/5] END learning_rate=0.1, max_depth=9, n_estimators=50;, score=0.863 total time=   0.8s\n",
      "[CV 1/5] END learning_rate=0.1, max_depth=9, n_estimators=100;, score=0.866 total time=   1.2s\n",
      "[CV 2/5] END learning_rate=0.1, max_depth=9, n_estimators=100;, score=0.858 total time=   1.2s\n",
      "[CV 3/5] END learning_rate=0.1, max_depth=9, n_estimators=100;, score=0.859 total time=   1.2s\n",
      "[CV 4/5] END learning_rate=0.1, max_depth=9, n_estimators=100;, score=0.861 total time=   1.3s\n",
      "[CV 5/5] END learning_rate=0.1, max_depth=9, n_estimators=100;, score=0.865 total time=   1.2s\n",
      "[CV 1/5] END learning_rate=0.1, max_depth=9, n_estimators=200;, score=0.864 total time=   2.5s\n",
      "[CV 2/5] END learning_rate=0.1, max_depth=9, n_estimators=200;, score=0.859 total time=   2.7s\n",
      "[CV 3/5] END learning_rate=0.1, max_depth=9, n_estimators=200;, score=0.859 total time=   3.0s\n",
      "[CV 4/5] END learning_rate=0.1, max_depth=9, n_estimators=200;, score=0.861 total time=   2.4s\n",
      "[CV 5/5] END learning_rate=0.1, max_depth=9, n_estimators=200;, score=0.864 total time=   2.7s\n",
      "[CV 1/5] END learning_rate=0.1, max_depth=9, n_estimators=300;, score=0.863 total time=   4.7s\n",
      "[CV 2/5] END learning_rate=0.1, max_depth=9, n_estimators=300;, score=0.857 total time=   3.7s\n",
      "[CV 3/5] END learning_rate=0.1, max_depth=9, n_estimators=300;, score=0.858 total time=   4.1s\n",
      "[CV 4/5] END learning_rate=0.1, max_depth=9, n_estimators=300;, score=0.860 total time=   3.6s\n",
      "[CV 5/5] END learning_rate=0.1, max_depth=9, n_estimators=300;, score=0.864 total time=   3.3s\n",
      "[CV 1/5] END learning_rate=0.1, max_depth=11, n_estimators=10;, score=0.857 total time=   0.1s\n",
      "[CV 2/5] END learning_rate=0.1, max_depth=11, n_estimators=10;, score=0.852 total time=   0.1s\n",
      "[CV 3/5] END learning_rate=0.1, max_depth=11, n_estimators=10;, score=0.854 total time=   0.1s\n",
      "[CV 4/5] END learning_rate=0.1, max_depth=11, n_estimators=10;, score=0.851 total time=   0.1s\n",
      "[CV 5/5] END learning_rate=0.1, max_depth=11, n_estimators=10;, score=0.858 total time=   0.1s\n",
      "[CV 1/5] END learning_rate=0.1, max_depth=11, n_estimators=50;, score=0.863 total time=   1.0s\n",
      "[CV 2/5] END learning_rate=0.1, max_depth=11, n_estimators=50;, score=0.858 total time=   0.9s\n",
      "[CV 3/5] END learning_rate=0.1, max_depth=11, n_estimators=50;, score=0.859 total time=   0.9s\n",
      "[CV 4/5] END learning_rate=0.1, max_depth=11, n_estimators=50;, score=0.857 total time=   1.2s\n",
      "[CV 5/5] END learning_rate=0.1, max_depth=11, n_estimators=50;, score=0.863 total time=   1.1s\n",
      "[CV 1/5] END learning_rate=0.1, max_depth=11, n_estimators=100;, score=0.865 total time=   1.8s\n",
      "[CV 2/5] END learning_rate=0.1, max_depth=11, n_estimators=100;, score=0.859 total time=   1.7s\n",
      "[CV 3/5] END learning_rate=0.1, max_depth=11, n_estimators=100;, score=0.858 total time=   1.9s\n",
      "[CV 4/5] END learning_rate=0.1, max_depth=11, n_estimators=100;, score=0.857 total time=   1.8s\n",
      "[CV 5/5] END learning_rate=0.1, max_depth=11, n_estimators=100;, score=0.864 total time=   1.7s\n",
      "[CV 1/5] END learning_rate=0.1, max_depth=11, n_estimators=200;, score=0.861 total time=   3.1s\n",
      "[CV 2/5] END learning_rate=0.1, max_depth=11, n_estimators=200;, score=0.857 total time=   3.6s\n",
      "[CV 3/5] END learning_rate=0.1, max_depth=11, n_estimators=200;, score=0.860 total time=   2.9s\n",
      "[CV 4/5] END learning_rate=0.1, max_depth=11, n_estimators=200;, score=0.858 total time=   3.0s\n",
      "[CV 5/5] END learning_rate=0.1, max_depth=11, n_estimators=200;, score=0.862 total time=   3.0s\n",
      "[CV 1/5] END learning_rate=0.1, max_depth=11, n_estimators=300;, score=0.860 total time=   4.4s\n",
      "[CV 2/5] END learning_rate=0.1, max_depth=11, n_estimators=300;, score=0.857 total time=   4.5s\n",
      "[CV 3/5] END learning_rate=0.1, max_depth=11, n_estimators=300;, score=0.858 total time=   4.3s\n",
      "[CV 4/5] END learning_rate=0.1, max_depth=11, n_estimators=300;, score=0.855 total time=   4.4s\n",
      "[CV 5/5] END learning_rate=0.1, max_depth=11, n_estimators=300;, score=0.861 total time=   5.1s\n",
      "[CV 1/5] END learning_rate=0.1, max_depth=15, n_estimators=10;, score=0.856 total time=   0.2s\n",
      "[CV 2/5] END learning_rate=0.1, max_depth=15, n_estimators=10;, score=0.849 total time=   0.2s\n",
      "[CV 3/5] END learning_rate=0.1, max_depth=15, n_estimators=10;, score=0.852 total time=   0.2s\n",
      "[CV 4/5] END learning_rate=0.1, max_depth=15, n_estimators=10;, score=0.851 total time=   0.2s\n",
      "[CV 5/5] END learning_rate=0.1, max_depth=15, n_estimators=10;, score=0.858 total time=   0.2s\n",
      "[CV 1/5] END learning_rate=0.1, max_depth=15, n_estimators=50;, score=0.860 total time=   1.3s\n",
      "[CV 2/5] END learning_rate=0.1, max_depth=15, n_estimators=50;, score=0.855 total time=   1.4s\n",
      "[CV 3/5] END learning_rate=0.1, max_depth=15, n_estimators=50;, score=0.855 total time=   1.4s\n",
      "[CV 4/5] END learning_rate=0.1, max_depth=15, n_estimators=50;, score=0.855 total time=   1.3s\n",
      "[CV 5/5] END learning_rate=0.1, max_depth=15, n_estimators=50;, score=0.861 total time=   1.4s\n",
      "[CV 1/5] END learning_rate=0.1, max_depth=15, n_estimators=100;, score=0.861 total time=   2.4s\n",
      "[CV 2/5] END learning_rate=0.1, max_depth=15, n_estimators=100;, score=0.857 total time=   2.8s\n",
      "[CV 3/5] END learning_rate=0.1, max_depth=15, n_estimators=100;, score=0.855 total time=   2.4s\n"
     ]
    },
    {
     "name": "stdout",
     "output_type": "stream",
     "text": [
      "[CV 4/5] END learning_rate=0.1, max_depth=15, n_estimators=100;, score=0.854 total time=   2.3s\n",
      "[CV 5/5] END learning_rate=0.1, max_depth=15, n_estimators=100;, score=0.859 total time=   2.4s\n",
      "[CV 1/5] END learning_rate=0.1, max_depth=15, n_estimators=200;, score=0.859 total time=   4.3s\n",
      "[CV 2/5] END learning_rate=0.1, max_depth=15, n_estimators=200;, score=0.852 total time=   4.5s\n",
      "[CV 3/5] END learning_rate=0.1, max_depth=15, n_estimators=200;, score=0.852 total time=   4.6s\n",
      "[CV 4/5] END learning_rate=0.1, max_depth=15, n_estimators=200;, score=0.853 total time=   5.1s\n",
      "[CV 5/5] END learning_rate=0.1, max_depth=15, n_estimators=200;, score=0.858 total time=   4.6s\n",
      "[CV 1/5] END learning_rate=0.1, max_depth=15, n_estimators=300;, score=0.852 total time=   6.8s\n",
      "[CV 2/5] END learning_rate=0.1, max_depth=15, n_estimators=300;, score=0.852 total time=   6.9s\n",
      "[CV 3/5] END learning_rate=0.1, max_depth=15, n_estimators=300;, score=0.851 total time=   6.9s\n",
      "[CV 4/5] END learning_rate=0.1, max_depth=15, n_estimators=300;, score=0.851 total time=   6.3s\n",
      "[CV 5/5] END learning_rate=0.1, max_depth=15, n_estimators=300;, score=0.856 total time=   6.7s\n",
      "[CV 1/5] END learning_rate=0.01, max_depth=3, n_estimators=10;, score=0.826 total time=   0.0s\n",
      "[CV 2/5] END learning_rate=0.01, max_depth=3, n_estimators=10;, score=0.837 total time=   0.0s\n",
      "[CV 3/5] END learning_rate=0.01, max_depth=3, n_estimators=10;, score=0.822 total time=   0.0s\n",
      "[CV 4/5] END learning_rate=0.01, max_depth=3, n_estimators=10;, score=0.833 total time=   0.0s\n",
      "[CV 5/5] END learning_rate=0.01, max_depth=3, n_estimators=10;, score=0.842 total time=   0.0s\n",
      "[CV 1/5] END learning_rate=0.01, max_depth=3, n_estimators=50;, score=0.841 total time=   0.1s\n",
      "[CV 2/5] END learning_rate=0.01, max_depth=3, n_estimators=50;, score=0.837 total time=   0.2s\n",
      "[CV 3/5] END learning_rate=0.01, max_depth=3, n_estimators=50;, score=0.836 total time=   0.2s\n",
      "[CV 4/5] END learning_rate=0.01, max_depth=3, n_estimators=50;, score=0.834 total time=   0.2s\n",
      "[CV 5/5] END learning_rate=0.01, max_depth=3, n_estimators=50;, score=0.843 total time=   0.2s\n",
      "[CV 1/5] END learning_rate=0.01, max_depth=3, n_estimators=100;, score=0.842 total time=   0.4s\n",
      "[CV 2/5] END learning_rate=0.01, max_depth=3, n_estimators=100;, score=0.838 total time=   0.4s\n",
      "[CV 3/5] END learning_rate=0.01, max_depth=3, n_estimators=100;, score=0.836 total time=   0.4s\n",
      "[CV 4/5] END learning_rate=0.01, max_depth=3, n_estimators=100;, score=0.834 total time=   0.4s\n",
      "[CV 5/5] END learning_rate=0.01, max_depth=3, n_estimators=100;, score=0.843 total time=   0.4s\n",
      "[CV 1/5] END learning_rate=0.01, max_depth=3, n_estimators=200;, score=0.847 total time=   0.9s\n",
      "[CV 2/5] END learning_rate=0.01, max_depth=3, n_estimators=200;, score=0.843 total time=   0.9s\n",
      "[CV 3/5] END learning_rate=0.01, max_depth=3, n_estimators=200;, score=0.841 total time=   0.9s\n",
      "[CV 4/5] END learning_rate=0.01, max_depth=3, n_estimators=200;, score=0.840 total time=   1.1s\n",
      "[CV 5/5] END learning_rate=0.01, max_depth=3, n_estimators=200;, score=0.848 total time=   0.9s\n",
      "[CV 1/5] END learning_rate=0.01, max_depth=3, n_estimators=300;, score=0.848 total time=   1.4s\n",
      "[CV 2/5] END learning_rate=0.01, max_depth=3, n_estimators=300;, score=0.843 total time=   1.4s\n",
      "[CV 3/5] END learning_rate=0.01, max_depth=3, n_estimators=300;, score=0.843 total time=   1.7s\n",
      "[CV 4/5] END learning_rate=0.01, max_depth=3, n_estimators=300;, score=0.842 total time=   1.5s\n",
      "[CV 5/5] END learning_rate=0.01, max_depth=3, n_estimators=300;, score=0.850 total time=   1.4s\n",
      "[CV 1/5] END learning_rate=0.01, max_depth=5, n_estimators=10;, score=0.842 total time=   0.0s\n",
      "[CV 2/5] END learning_rate=0.01, max_depth=5, n_estimators=10;, score=0.839 total time=   0.0s\n",
      "[CV 3/5] END learning_rate=0.01, max_depth=5, n_estimators=10;, score=0.837 total time=   0.0s\n",
      "[CV 4/5] END learning_rate=0.01, max_depth=5, n_estimators=10;, score=0.834 total time=   0.0s\n",
      "[CV 5/5] END learning_rate=0.01, max_depth=5, n_estimators=10;, score=0.842 total time=   0.0s\n",
      "[CV 1/5] END learning_rate=0.01, max_depth=5, n_estimators=50;, score=0.844 total time=   0.3s\n",
      "[CV 2/5] END learning_rate=0.01, max_depth=5, n_estimators=50;, score=0.839 total time=   0.3s\n",
      "[CV 3/5] END learning_rate=0.01, max_depth=5, n_estimators=50;, score=0.837 total time=   0.3s\n",
      "[CV 4/5] END learning_rate=0.01, max_depth=5, n_estimators=50;, score=0.834 total time=   0.3s\n",
      "[CV 5/5] END learning_rate=0.01, max_depth=5, n_estimators=50;, score=0.842 total time=   0.3s\n",
      "[CV 1/5] END learning_rate=0.01, max_depth=5, n_estimators=100;, score=0.846 total time=   0.7s\n",
      "[CV 2/5] END learning_rate=0.01, max_depth=5, n_estimators=100;, score=0.842 total time=   0.7s\n",
      "[CV 3/5] END learning_rate=0.01, max_depth=5, n_estimators=100;, score=0.843 total time=   0.7s\n",
      "[CV 4/5] END learning_rate=0.01, max_depth=5, n_estimators=100;, score=0.839 total time=   0.7s\n",
      "[CV 5/5] END learning_rate=0.01, max_depth=5, n_estimators=100;, score=0.849 total time=   0.7s\n",
      "[CV 1/5] END learning_rate=0.01, max_depth=5, n_estimators=200;, score=0.851 total time=   1.4s\n",
      "[CV 2/5] END learning_rate=0.01, max_depth=5, n_estimators=200;, score=0.849 total time=   1.5s\n",
      "[CV 3/5] END learning_rate=0.01, max_depth=5, n_estimators=200;, score=0.846 total time=   1.4s\n",
      "[CV 4/5] END learning_rate=0.01, max_depth=5, n_estimators=200;, score=0.844 total time=   1.7s\n",
      "[CV 5/5] END learning_rate=0.01, max_depth=5, n_estimators=200;, score=0.851 total time=   1.4s\n",
      "[CV 1/5] END learning_rate=0.01, max_depth=5, n_estimators=300;, score=0.854 total time=   2.1s\n",
      "[CV 2/5] END learning_rate=0.01, max_depth=5, n_estimators=300;, score=0.852 total time=   2.3s\n",
      "[CV 3/5] END learning_rate=0.01, max_depth=5, n_estimators=300;, score=0.847 total time=   2.4s\n",
      "[CV 4/5] END learning_rate=0.01, max_depth=5, n_estimators=300;, score=0.847 total time=   2.1s\n",
      "[CV 5/5] END learning_rate=0.01, max_depth=5, n_estimators=300;, score=0.854 total time=   2.1s\n",
      "[CV 1/5] END learning_rate=0.01, max_depth=7, n_estimators=10;, score=0.852 total time=   0.0s\n",
      "[CV 2/5] END learning_rate=0.01, max_depth=7, n_estimators=10;, score=0.849 total time=   0.0s\n",
      "[CV 3/5] END learning_rate=0.01, max_depth=7, n_estimators=10;, score=0.845 total time=   0.0s\n",
      "[CV 4/5] END learning_rate=0.01, max_depth=7, n_estimators=10;, score=0.845 total time=   0.0s\n",
      "[CV 5/5] END learning_rate=0.01, max_depth=7, n_estimators=10;, score=0.852 total time=   0.0s\n",
      "[CV 1/5] END learning_rate=0.01, max_depth=7, n_estimators=50;, score=0.852 total time=   0.5s\n",
      "[CV 2/5] END learning_rate=0.01, max_depth=7, n_estimators=50;, score=0.849 total time=   0.5s\n",
      "[CV 3/5] END learning_rate=0.01, max_depth=7, n_estimators=50;, score=0.846 total time=   0.7s\n",
      "[CV 4/5] END learning_rate=0.01, max_depth=7, n_estimators=50;, score=0.846 total time=   0.6s\n",
      "[CV 5/5] END learning_rate=0.01, max_depth=7, n_estimators=50;, score=0.852 total time=   0.4s\n",
      "[CV 1/5] END learning_rate=0.01, max_depth=7, n_estimators=100;, score=0.852 total time=   1.0s\n",
      "[CV 2/5] END learning_rate=0.01, max_depth=7, n_estimators=100;, score=0.849 total time=   1.0s\n",
      "[CV 3/5] END learning_rate=0.01, max_depth=7, n_estimators=100;, score=0.847 total time=   1.0s\n",
      "[CV 4/5] END learning_rate=0.01, max_depth=7, n_estimators=100;, score=0.846 total time=   1.0s\n",
      "[CV 5/5] END learning_rate=0.01, max_depth=7, n_estimators=100;, score=0.852 total time=   1.0s\n",
      "[CV 1/5] END learning_rate=0.01, max_depth=7, n_estimators=200;, score=0.854 total time=   2.1s\n",
      "[CV 2/5] END learning_rate=0.01, max_depth=7, n_estimators=200;, score=0.853 total time=   2.0s\n",
      "[CV 3/5] END learning_rate=0.01, max_depth=7, n_estimators=200;, score=0.851 total time=   2.1s\n",
      "[CV 4/5] END learning_rate=0.01, max_depth=7, n_estimators=200;, score=0.849 total time=   2.0s\n",
      "[CV 5/5] END learning_rate=0.01, max_depth=7, n_estimators=200;, score=0.858 total time=   2.5s\n",
      "[CV 1/5] END learning_rate=0.01, max_depth=7, n_estimators=300;, score=0.858 total time=   3.1s\n",
      "[CV 2/5] END learning_rate=0.01, max_depth=7, n_estimators=300;, score=0.855 total time=   3.2s\n",
      "[CV 3/5] END learning_rate=0.01, max_depth=7, n_estimators=300;, score=0.855 total time=   3.1s\n",
      "[CV 4/5] END learning_rate=0.01, max_depth=7, n_estimators=300;, score=0.851 total time=   3.2s\n"
     ]
    },
    {
     "name": "stdout",
     "output_type": "stream",
     "text": [
      "[CV 5/5] END learning_rate=0.01, max_depth=7, n_estimators=300;, score=0.859 total time=   3.6s\n",
      "[CV 1/5] END learning_rate=0.01, max_depth=9, n_estimators=10;, score=0.853 total time=   0.1s\n",
      "[CV 2/5] END learning_rate=0.01, max_depth=9, n_estimators=10;, score=0.848 total time=   0.1s\n",
      "[CV 3/5] END learning_rate=0.01, max_depth=9, n_estimators=10;, score=0.847 total time=   0.1s\n",
      "[CV 4/5] END learning_rate=0.01, max_depth=9, n_estimators=10;, score=0.846 total time=   0.1s\n",
      "[CV 5/5] END learning_rate=0.01, max_depth=9, n_estimators=10;, score=0.852 total time=   0.1s\n",
      "[CV 1/5] END learning_rate=0.01, max_depth=9, n_estimators=50;, score=0.855 total time=   0.7s\n",
      "[CV 2/5] END learning_rate=0.01, max_depth=9, n_estimators=50;, score=0.852 total time=   0.8s\n",
      "[CV 3/5] END learning_rate=0.01, max_depth=9, n_estimators=50;, score=0.848 total time=   0.8s\n",
      "[CV 4/5] END learning_rate=0.01, max_depth=9, n_estimators=50;, score=0.847 total time=   0.7s\n",
      "[CV 5/5] END learning_rate=0.01, max_depth=9, n_estimators=50;, score=0.855 total time=   0.7s\n",
      "[CV 1/5] END learning_rate=0.01, max_depth=9, n_estimators=100;, score=0.854 total time=   1.6s\n",
      "[CV 2/5] END learning_rate=0.01, max_depth=9, n_estimators=100;, score=0.852 total time=   1.4s\n",
      "[CV 3/5] END learning_rate=0.01, max_depth=9, n_estimators=100;, score=0.851 total time=   1.4s\n",
      "[CV 4/5] END learning_rate=0.01, max_depth=9, n_estimators=100;, score=0.848 total time=   1.4s\n",
      "[CV 5/5] END learning_rate=0.01, max_depth=9, n_estimators=100;, score=0.856 total time=   1.5s\n",
      "[CV 1/5] END learning_rate=0.01, max_depth=9, n_estimators=200;, score=0.858 total time=   3.5s\n",
      "[CV 2/5] END learning_rate=0.01, max_depth=9, n_estimators=200;, score=0.856 total time=   3.2s\n",
      "[CV 3/5] END learning_rate=0.01, max_depth=9, n_estimators=200;, score=0.854 total time=   3.6s\n",
      "[CV 4/5] END learning_rate=0.01, max_depth=9, n_estimators=200;, score=0.851 total time=   3.2s\n",
      "[CV 5/5] END learning_rate=0.01, max_depth=9, n_estimators=200;, score=0.860 total time=   3.8s\n",
      "[CV 1/5] END learning_rate=0.01, max_depth=9, n_estimators=300;, score=0.862 total time=   4.7s\n",
      "[CV 2/5] END learning_rate=0.01, max_depth=9, n_estimators=300;, score=0.857 total time=   4.7s\n",
      "[CV 3/5] END learning_rate=0.01, max_depth=9, n_estimators=300;, score=0.858 total time=   4.9s\n",
      "[CV 4/5] END learning_rate=0.01, max_depth=9, n_estimators=300;, score=0.856 total time=   4.6s\n",
      "[CV 5/5] END learning_rate=0.01, max_depth=9, n_estimators=300;, score=0.862 total time=   5.3s\n",
      "[CV 1/5] END learning_rate=0.01, max_depth=11, n_estimators=10;, score=0.849 total time=   0.2s\n",
      "[CV 2/5] END learning_rate=0.01, max_depth=11, n_estimators=10;, score=0.848 total time=   0.2s\n",
      "[CV 3/5] END learning_rate=0.01, max_depth=11, n_estimators=10;, score=0.851 total time=   0.2s\n",
      "[CV 4/5] END learning_rate=0.01, max_depth=11, n_estimators=10;, score=0.847 total time=   0.2s\n",
      "[CV 5/5] END learning_rate=0.01, max_depth=11, n_estimators=10;, score=0.851 total time=   0.2s\n",
      "[CV 1/5] END learning_rate=0.01, max_depth=11, n_estimators=50;, score=0.854 total time=   1.2s\n",
      "[CV 2/5] END learning_rate=0.01, max_depth=11, n_estimators=50;, score=0.849 total time=   1.2s\n",
      "[CV 3/5] END learning_rate=0.01, max_depth=11, n_estimators=50;, score=0.853 total time=   0.9s\n",
      "[CV 4/5] END learning_rate=0.01, max_depth=11, n_estimators=50;, score=0.851 total time=   1.2s\n",
      "[CV 5/5] END learning_rate=0.01, max_depth=11, n_estimators=50;, score=0.854 total time=   0.9s\n",
      "[CV 1/5] END learning_rate=0.01, max_depth=11, n_estimators=100;, score=0.858 total time=   1.9s\n",
      "[CV 2/5] END learning_rate=0.01, max_depth=11, n_estimators=100;, score=0.853 total time=   2.1s\n",
      "[CV 3/5] END learning_rate=0.01, max_depth=11, n_estimators=100;, score=0.854 total time=   1.9s\n",
      "[CV 4/5] END learning_rate=0.01, max_depth=11, n_estimators=100;, score=0.851 total time=   2.0s\n",
      "[CV 5/5] END learning_rate=0.01, max_depth=11, n_estimators=100;, score=0.857 total time=   1.9s\n",
      "[CV 1/5] END learning_rate=0.01, max_depth=11, n_estimators=200;, score=0.859 total time=   4.3s\n",
      "[CV 2/5] END learning_rate=0.01, max_depth=11, n_estimators=200;, score=0.853 total time=   4.0s\n",
      "[CV 3/5] END learning_rate=0.01, max_depth=11, n_estimators=200;, score=0.855 total time=   3.7s\n",
      "[CV 4/5] END learning_rate=0.01, max_depth=11, n_estimators=200;, score=0.853 total time=   4.0s\n",
      "[CV 5/5] END learning_rate=0.01, max_depth=11, n_estimators=200;, score=0.859 total time=   4.2s\n",
      "[CV 1/5] END learning_rate=0.01, max_depth=11, n_estimators=300;, score=0.861 total time=   5.7s\n",
      "[CV 2/5] END learning_rate=0.01, max_depth=11, n_estimators=300;, score=0.855 total time=   6.0s\n",
      "[CV 3/5] END learning_rate=0.01, max_depth=11, n_estimators=300;, score=0.858 total time=   6.3s\n",
      "[CV 4/5] END learning_rate=0.01, max_depth=11, n_estimators=300;, score=0.857 total time=   6.0s\n",
      "[CV 5/5] END learning_rate=0.01, max_depth=11, n_estimators=300;, score=0.860 total time=   6.2s\n",
      "[CV 1/5] END learning_rate=0.01, max_depth=15, n_estimators=10;, score=0.850 total time=   0.2s\n",
      "[CV 2/5] END learning_rate=0.01, max_depth=15, n_estimators=10;, score=0.843 total time=   0.4s\n",
      "[CV 3/5] END learning_rate=0.01, max_depth=15, n_estimators=10;, score=0.848 total time=   0.3s\n",
      "[CV 4/5] END learning_rate=0.01, max_depth=15, n_estimators=10;, score=0.846 total time=   0.3s\n",
      "[CV 5/5] END learning_rate=0.01, max_depth=15, n_estimators=10;, score=0.849 total time=   0.2s\n",
      "[CV 1/5] END learning_rate=0.01, max_depth=15, n_estimators=50;, score=0.857 total time=   1.3s\n",
      "[CV 2/5] END learning_rate=0.01, max_depth=15, n_estimators=50;, score=0.847 total time=   1.3s\n",
      "[CV 3/5] END learning_rate=0.01, max_depth=15, n_estimators=50;, score=0.850 total time=   1.3s\n",
      "[CV 4/5] END learning_rate=0.01, max_depth=15, n_estimators=50;, score=0.849 total time=   1.2s\n",
      "[CV 5/5] END learning_rate=0.01, max_depth=15, n_estimators=50;, score=0.852 total time=   1.3s\n",
      "[CV 1/5] END learning_rate=0.01, max_depth=15, n_estimators=100;, score=0.857 total time=   2.9s\n",
      "[CV 2/5] END learning_rate=0.01, max_depth=15, n_estimators=100;, score=0.849 total time=   2.8s\n",
      "[CV 3/5] END learning_rate=0.01, max_depth=15, n_estimators=100;, score=0.852 total time=   3.2s\n",
      "[CV 4/5] END learning_rate=0.01, max_depth=15, n_estimators=100;, score=0.851 total time=   2.8s\n",
      "[CV 5/5] END learning_rate=0.01, max_depth=15, n_estimators=100;, score=0.855 total time=   2.8s\n",
      "[CV 1/5] END learning_rate=0.01, max_depth=15, n_estimators=200;, score=0.857 total time=   5.5s\n",
      "[CV 2/5] END learning_rate=0.01, max_depth=15, n_estimators=200;, score=0.852 total time=   6.4s\n",
      "[CV 3/5] END learning_rate=0.01, max_depth=15, n_estimators=200;, score=0.852 total time=   5.6s\n",
      "[CV 4/5] END learning_rate=0.01, max_depth=15, n_estimators=200;, score=0.852 total time=   5.8s\n",
      "[CV 5/5] END learning_rate=0.01, max_depth=15, n_estimators=200;, score=0.858 total time=   6.0s\n",
      "[CV 1/5] END learning_rate=0.01, max_depth=15, n_estimators=300;, score=0.858 total time=   9.0s\n",
      "[CV 2/5] END learning_rate=0.01, max_depth=15, n_estimators=300;, score=0.852 total time=   9.0s\n",
      "[CV 3/5] END learning_rate=0.01, max_depth=15, n_estimators=300;, score=0.854 total time=   8.8s\n",
      "[CV 4/5] END learning_rate=0.01, max_depth=15, n_estimators=300;, score=0.851 total time=   8.9s\n",
      "[CV 5/5] END learning_rate=0.01, max_depth=15, n_estimators=300;, score=0.858 total time=   9.2s\n",
      "[CV 1/5] END learning_rate=0.001, max_depth=3, n_estimators=10;, score=0.826 total time=   0.0s\n",
      "[CV 2/5] END learning_rate=0.001, max_depth=3, n_estimators=10;, score=0.835 total time=   0.0s\n",
      "[CV 3/5] END learning_rate=0.001, max_depth=3, n_estimators=10;, score=0.822 total time=   0.0s\n",
      "[CV 4/5] END learning_rate=0.001, max_depth=3, n_estimators=10;, score=0.832 total time=   0.0s\n",
      "[CV 5/5] END learning_rate=0.001, max_depth=3, n_estimators=10;, score=0.841 total time=   0.0s\n",
      "[CV 1/5] END learning_rate=0.001, max_depth=3, n_estimators=50;, score=0.826 total time=   0.2s\n",
      "[CV 2/5] END learning_rate=0.001, max_depth=3, n_estimators=50;, score=0.837 total time=   0.2s\n",
      "[CV 3/5] END learning_rate=0.001, max_depth=3, n_estimators=50;, score=0.822 total time=   0.1s\n",
      "[CV 4/5] END learning_rate=0.001, max_depth=3, n_estimators=50;, score=0.832 total time=   0.2s\n",
      "[CV 5/5] END learning_rate=0.001, max_depth=3, n_estimators=50;, score=0.843 total time=   0.2s\n"
     ]
    },
    {
     "name": "stdout",
     "output_type": "stream",
     "text": [
      "[CV 1/5] END learning_rate=0.001, max_depth=3, n_estimators=100;, score=0.826 total time=   0.4s\n",
      "[CV 2/5] END learning_rate=0.001, max_depth=3, n_estimators=100;, score=0.837 total time=   0.4s\n",
      "[CV 3/5] END learning_rate=0.001, max_depth=3, n_estimators=100;, score=0.822 total time=   0.5s\n",
      "[CV 4/5] END learning_rate=0.001, max_depth=3, n_estimators=100;, score=0.834 total time=   0.4s\n",
      "[CV 5/5] END learning_rate=0.001, max_depth=3, n_estimators=100;, score=0.842 total time=   0.4s\n",
      "[CV 1/5] END learning_rate=0.001, max_depth=3, n_estimators=200;, score=0.842 total time=   0.9s\n",
      "[CV 2/5] END learning_rate=0.001, max_depth=3, n_estimators=200;, score=0.838 total time=   0.8s\n",
      "[CV 3/5] END learning_rate=0.001, max_depth=3, n_estimators=200;, score=0.836 total time=   0.9s\n",
      "[CV 4/5] END learning_rate=0.001, max_depth=3, n_estimators=200;, score=0.834 total time=   0.9s\n",
      "[CV 5/5] END learning_rate=0.001, max_depth=3, n_estimators=200;, score=0.843 total time=   0.9s\n",
      "[CV 1/5] END learning_rate=0.001, max_depth=3, n_estimators=300;, score=0.841 total time=   1.4s\n",
      "[CV 2/5] END learning_rate=0.001, max_depth=3, n_estimators=300;, score=0.837 total time=   1.4s\n",
      "[CV 3/5] END learning_rate=0.001, max_depth=3, n_estimators=300;, score=0.836 total time=   1.6s\n",
      "[CV 4/5] END learning_rate=0.001, max_depth=3, n_estimators=300;, score=0.834 total time=   1.5s\n",
      "[CV 5/5] END learning_rate=0.001, max_depth=3, n_estimators=300;, score=0.843 total time=   1.4s\n",
      "[CV 1/5] END learning_rate=0.001, max_depth=5, n_estimators=10;, score=0.842 total time=   0.0s\n",
      "[CV 2/5] END learning_rate=0.001, max_depth=5, n_estimators=10;, score=0.839 total time=   0.0s\n",
      "[CV 3/5] END learning_rate=0.001, max_depth=5, n_estimators=10;, score=0.837 total time=   0.0s\n",
      "[CV 4/5] END learning_rate=0.001, max_depth=5, n_estimators=10;, score=0.834 total time=   0.0s\n",
      "[CV 5/5] END learning_rate=0.001, max_depth=5, n_estimators=10;, score=0.842 total time=   0.0s\n",
      "[CV 1/5] END learning_rate=0.001, max_depth=5, n_estimators=50;, score=0.842 total time=   0.3s\n",
      "[CV 2/5] END learning_rate=0.001, max_depth=5, n_estimators=50;, score=0.839 total time=   0.3s\n",
      "[CV 3/5] END learning_rate=0.001, max_depth=5, n_estimators=50;, score=0.837 total time=   0.3s\n",
      "[CV 4/5] END learning_rate=0.001, max_depth=5, n_estimators=50;, score=0.834 total time=   0.3s\n",
      "[CV 5/5] END learning_rate=0.001, max_depth=5, n_estimators=50;, score=0.842 total time=   0.3s\n",
      "[CV 1/5] END learning_rate=0.001, max_depth=5, n_estimators=100;, score=0.842 total time=   0.7s\n",
      "[CV 2/5] END learning_rate=0.001, max_depth=5, n_estimators=100;, score=0.839 total time=   0.7s\n",
      "[CV 3/5] END learning_rate=0.001, max_depth=5, n_estimators=100;, score=0.837 total time=   0.7s\n",
      "[CV 4/5] END learning_rate=0.001, max_depth=5, n_estimators=100;, score=0.834 total time=   0.7s\n",
      "[CV 5/5] END learning_rate=0.001, max_depth=5, n_estimators=100;, score=0.842 total time=   0.7s\n",
      "[CV 1/5] END learning_rate=0.001, max_depth=5, n_estimators=200;, score=0.843 total time=   1.4s\n",
      "[CV 2/5] END learning_rate=0.001, max_depth=5, n_estimators=200;, score=0.839 total time=   1.4s\n",
      "[CV 3/5] END learning_rate=0.001, max_depth=5, n_estimators=200;, score=0.837 total time=   1.4s\n",
      "[CV 4/5] END learning_rate=0.001, max_depth=5, n_estimators=200;, score=0.834 total time=   1.6s\n",
      "[CV 5/5] END learning_rate=0.001, max_depth=5, n_estimators=200;, score=0.842 total time=   1.6s\n",
      "[CV 1/5] END learning_rate=0.001, max_depth=5, n_estimators=300;, score=0.843 total time=   2.3s\n",
      "[CV 2/5] END learning_rate=0.001, max_depth=5, n_estimators=300;, score=0.839 total time=   2.1s\n",
      "[CV 3/5] END learning_rate=0.001, max_depth=5, n_estimators=300;, score=0.837 total time=   2.1s\n",
      "[CV 4/5] END learning_rate=0.001, max_depth=5, n_estimators=300;, score=0.834 total time=   2.1s\n",
      "[CV 5/5] END learning_rate=0.001, max_depth=5, n_estimators=300;, score=0.842 total time=   2.2s\n",
      "[CV 1/5] END learning_rate=0.001, max_depth=7, n_estimators=10;, score=0.852 total time=   0.0s\n",
      "[CV 2/5] END learning_rate=0.001, max_depth=7, n_estimators=10;, score=0.844 total time=   0.0s\n",
      "[CV 3/5] END learning_rate=0.001, max_depth=7, n_estimators=10;, score=0.845 total time=   0.0s\n",
      "[CV 4/5] END learning_rate=0.001, max_depth=7, n_estimators=10;, score=0.845 total time=   0.0s\n",
      "[CV 5/5] END learning_rate=0.001, max_depth=7, n_estimators=10;, score=0.852 total time=   0.0s\n",
      "[CV 1/5] END learning_rate=0.001, max_depth=7, n_estimators=50;, score=0.852 total time=   0.4s\n",
      "[CV 2/5] END learning_rate=0.001, max_depth=7, n_estimators=50;, score=0.847 total time=   0.4s\n",
      "[CV 3/5] END learning_rate=0.001, max_depth=7, n_estimators=50;, score=0.845 total time=   0.4s\n",
      "[CV 4/5] END learning_rate=0.001, max_depth=7, n_estimators=50;, score=0.845 total time=   0.7s\n",
      "[CV 5/5] END learning_rate=0.001, max_depth=7, n_estimators=50;, score=0.851 total time=   0.6s\n",
      "[CV 1/5] END learning_rate=0.001, max_depth=7, n_estimators=100;, score=0.852 total time=   1.0s\n",
      "[CV 2/5] END learning_rate=0.001, max_depth=7, n_estimators=100;, score=0.849 total time=   1.0s\n",
      "[CV 3/5] END learning_rate=0.001, max_depth=7, n_estimators=100;, score=0.846 total time=   0.9s\n",
      "[CV 4/5] END learning_rate=0.001, max_depth=7, n_estimators=100;, score=0.845 total time=   1.0s\n",
      "[CV 5/5] END learning_rate=0.001, max_depth=7, n_estimators=100;, score=0.852 total time=   1.1s\n",
      "[CV 1/5] END learning_rate=0.001, max_depth=7, n_estimators=200;, score=0.852 total time=   2.2s\n",
      "[CV 2/5] END learning_rate=0.001, max_depth=7, n_estimators=200;, score=0.849 total time=   2.0s\n",
      "[CV 3/5] END learning_rate=0.001, max_depth=7, n_estimators=200;, score=0.846 total time=   2.0s\n",
      "[CV 4/5] END learning_rate=0.001, max_depth=7, n_estimators=200;, score=0.845 total time=   2.1s\n",
      "[CV 5/5] END learning_rate=0.001, max_depth=7, n_estimators=200;, score=0.851 total time=   2.4s\n",
      "[CV 1/5] END learning_rate=0.001, max_depth=7, n_estimators=300;, score=0.852 total time=   3.0s\n",
      "[CV 2/5] END learning_rate=0.001, max_depth=7, n_estimators=300;, score=0.849 total time=   3.2s\n",
      "[CV 3/5] END learning_rate=0.001, max_depth=7, n_estimators=300;, score=0.846 total time=   3.2s\n",
      "[CV 4/5] END learning_rate=0.001, max_depth=7, n_estimators=300;, score=0.846 total time=   3.2s\n",
      "[CV 5/5] END learning_rate=0.001, max_depth=7, n_estimators=300;, score=0.851 total time=   3.5s\n",
      "[CV 1/5] END learning_rate=0.001, max_depth=9, n_estimators=10;, score=0.850 total time=   0.1s\n",
      "[CV 2/5] END learning_rate=0.001, max_depth=9, n_estimators=10;, score=0.843 total time=   0.1s\n",
      "[CV 3/5] END learning_rate=0.001, max_depth=9, n_estimators=10;, score=0.848 total time=   0.1s\n",
      "[CV 4/5] END learning_rate=0.001, max_depth=9, n_estimators=10;, score=0.845 total time=   0.1s\n",
      "[CV 5/5] END learning_rate=0.001, max_depth=9, n_estimators=10;, score=0.851 total time=   0.1s\n",
      "[CV 1/5] END learning_rate=0.001, max_depth=9, n_estimators=50;, score=0.851 total time=   0.6s\n",
      "[CV 2/5] END learning_rate=0.001, max_depth=9, n_estimators=50;, score=0.843 total time=   0.7s\n",
      "[CV 3/5] END learning_rate=0.001, max_depth=9, n_estimators=50;, score=0.847 total time=   0.6s\n",
      "[CV 4/5] END learning_rate=0.001, max_depth=9, n_estimators=50;, score=0.845 total time=   0.7s\n",
      "[CV 5/5] END learning_rate=0.001, max_depth=9, n_estimators=50;, score=0.853 total time=   0.7s\n",
      "[CV 1/5] END learning_rate=0.001, max_depth=9, n_estimators=100;, score=0.853 total time=   1.4s\n",
      "[CV 2/5] END learning_rate=0.001, max_depth=9, n_estimators=100;, score=0.848 total time=   1.3s\n",
      "[CV 3/5] END learning_rate=0.001, max_depth=9, n_estimators=100;, score=0.847 total time=   1.4s\n",
      "[CV 4/5] END learning_rate=0.001, max_depth=9, n_estimators=100;, score=0.846 total time=   1.4s\n",
      "[CV 5/5] END learning_rate=0.001, max_depth=9, n_estimators=100;, score=0.852 total time=   1.5s\n",
      "[CV 1/5] END learning_rate=0.001, max_depth=9, n_estimators=200;, score=0.853 total time=   3.5s\n",
      "[CV 2/5] END learning_rate=0.001, max_depth=9, n_estimators=200;, score=0.850 total time=   2.9s\n",
      "[CV 3/5] END learning_rate=0.001, max_depth=9, n_estimators=200;, score=0.847 total time=   3.1s\n",
      "[CV 4/5] END learning_rate=0.001, max_depth=9, n_estimators=200;, score=0.846 total time=   3.4s\n",
      "[CV 5/5] END learning_rate=0.001, max_depth=9, n_estimators=200;, score=0.852 total time=   2.8s\n"
     ]
    },
    {
     "name": "stdout",
     "output_type": "stream",
     "text": [
      "[CV 1/5] END learning_rate=0.001, max_depth=9, n_estimators=300;, score=0.853 total time=   4.7s\n",
      "[CV 2/5] END learning_rate=0.001, max_depth=9, n_estimators=300;, score=0.852 total time=   5.0s\n",
      "[CV 3/5] END learning_rate=0.001, max_depth=9, n_estimators=300;, score=0.848 total time=   4.3s\n",
      "[CV 4/5] END learning_rate=0.001, max_depth=9, n_estimators=300;, score=0.846 total time=   4.8s\n",
      "[CV 5/5] END learning_rate=0.001, max_depth=9, n_estimators=300;, score=0.853 total time=   4.4s\n",
      "[CV 1/5] END learning_rate=0.001, max_depth=11, n_estimators=10;, score=0.849 total time=   0.1s\n",
      "[CV 2/5] END learning_rate=0.001, max_depth=11, n_estimators=10;, score=0.846 total time=   0.1s\n",
      "[CV 3/5] END learning_rate=0.001, max_depth=11, n_estimators=10;, score=0.850 total time=   0.1s\n",
      "[CV 4/5] END learning_rate=0.001, max_depth=11, n_estimators=10;, score=0.845 total time=   0.1s\n",
      "[CV 5/5] END learning_rate=0.001, max_depth=11, n_estimators=10;, score=0.851 total time=   0.1s\n",
      "[CV 1/5] END learning_rate=0.001, max_depth=11, n_estimators=50;, score=0.849 total time=   0.9s\n",
      "[CV 2/5] END learning_rate=0.001, max_depth=11, n_estimators=50;, score=0.847 total time=   0.8s\n",
      "[CV 3/5] END learning_rate=0.001, max_depth=11, n_estimators=50;, score=0.851 total time=   0.8s\n",
      "[CV 4/5] END learning_rate=0.001, max_depth=11, n_estimators=50;, score=0.846 total time=   0.9s\n",
      "[CV 5/5] END learning_rate=0.001, max_depth=11, n_estimators=50;, score=0.851 total time=   0.9s\n",
      "[CV 1/5] END learning_rate=0.001, max_depth=11, n_estimators=100;, score=0.849 total time=   1.7s\n",
      "[CV 2/5] END learning_rate=0.001, max_depth=11, n_estimators=100;, score=0.848 total time=   2.0s\n",
      "[CV 3/5] END learning_rate=0.001, max_depth=11, n_estimators=100;, score=0.851 total time=   1.8s\n",
      "[CV 4/5] END learning_rate=0.001, max_depth=11, n_estimators=100;, score=0.846 total time=   1.9s\n",
      "[CV 5/5] END learning_rate=0.001, max_depth=11, n_estimators=100;, score=0.851 total time=   2.0s\n",
      "[CV 1/5] END learning_rate=0.001, max_depth=11, n_estimators=200;, score=0.851 total time=   4.1s\n",
      "[CV 2/5] END learning_rate=0.001, max_depth=11, n_estimators=200;, score=0.846 total time=   4.0s\n",
      "[CV 3/5] END learning_rate=0.001, max_depth=11, n_estimators=200;, score=0.851 total time=   4.0s\n",
      "[CV 4/5] END learning_rate=0.001, max_depth=11, n_estimators=200;, score=0.848 total time=   3.9s\n",
      "[CV 5/5] END learning_rate=0.001, max_depth=11, n_estimators=200;, score=0.853 total time=   3.6s\n",
      "[CV 1/5] END learning_rate=0.001, max_depth=11, n_estimators=300;, score=0.853 total time=   6.0s\n",
      "[CV 2/5] END learning_rate=0.001, max_depth=11, n_estimators=300;, score=0.846 total time=   5.5s\n",
      "[CV 3/5] END learning_rate=0.001, max_depth=11, n_estimators=300;, score=0.852 total time=   5.5s\n",
      "[CV 4/5] END learning_rate=0.001, max_depth=11, n_estimators=300;, score=0.849 total time=   6.1s\n",
      "[CV 5/5] END learning_rate=0.001, max_depth=11, n_estimators=300;, score=0.852 total time=   5.8s\n",
      "[CV 1/5] END learning_rate=0.001, max_depth=15, n_estimators=10;, score=0.850 total time=   0.2s\n",
      "[CV 2/5] END learning_rate=0.001, max_depth=15, n_estimators=10;, score=0.843 total time=   0.2s\n",
      "[CV 3/5] END learning_rate=0.001, max_depth=15, n_estimators=10;, score=0.846 total time=   0.3s\n",
      "[CV 4/5] END learning_rate=0.001, max_depth=15, n_estimators=10;, score=0.845 total time=   0.3s\n",
      "[CV 5/5] END learning_rate=0.001, max_depth=15, n_estimators=10;, score=0.849 total time=   0.3s\n",
      "[CV 1/5] END learning_rate=0.001, max_depth=15, n_estimators=50;, score=0.849 total time=   1.3s\n",
      "[CV 2/5] END learning_rate=0.001, max_depth=15, n_estimators=50;, score=0.844 total time=   1.4s\n",
      "[CV 3/5] END learning_rate=0.001, max_depth=15, n_estimators=50;, score=0.847 total time=   1.4s\n",
      "[CV 4/5] END learning_rate=0.001, max_depth=15, n_estimators=50;, score=0.845 total time=   1.4s\n",
      "[CV 5/5] END learning_rate=0.001, max_depth=15, n_estimators=50;, score=0.848 total time=   1.7s\n",
      "[CV 1/5] END learning_rate=0.001, max_depth=15, n_estimators=100;, score=0.849 total time=   2.7s\n",
      "[CV 2/5] END learning_rate=0.001, max_depth=15, n_estimators=100;, score=0.843 total time=   2.7s\n",
      "[CV 3/5] END learning_rate=0.001, max_depth=15, n_estimators=100;, score=0.848 total time=   2.6s\n",
      "[CV 4/5] END learning_rate=0.001, max_depth=15, n_estimators=100;, score=0.845 total time=   2.5s\n",
      "[CV 5/5] END learning_rate=0.001, max_depth=15, n_estimators=100;, score=0.850 total time=   2.8s\n",
      "[CV 1/5] END learning_rate=0.001, max_depth=15, n_estimators=200;, score=0.850 total time=   5.9s\n",
      "[CV 2/5] END learning_rate=0.001, max_depth=15, n_estimators=200;, score=0.845 total time=   5.5s\n",
      "[CV 3/5] END learning_rate=0.001, max_depth=15, n_estimators=200;, score=0.848 total time=   5.6s\n",
      "[CV 4/5] END learning_rate=0.001, max_depth=15, n_estimators=200;, score=0.846 total time=   5.2s\n",
      "[CV 5/5] END learning_rate=0.001, max_depth=15, n_estimators=200;, score=0.851 total time=   5.3s\n",
      "[CV 1/5] END learning_rate=0.001, max_depth=15, n_estimators=300;, score=0.852 total time=   9.0s\n",
      "[CV 2/5] END learning_rate=0.001, max_depth=15, n_estimators=300;, score=0.844 total time=   8.7s\n",
      "[CV 3/5] END learning_rate=0.001, max_depth=15, n_estimators=300;, score=0.849 total time=   8.5s\n",
      "[CV 4/5] END learning_rate=0.001, max_depth=15, n_estimators=300;, score=0.847 total time=   8.3s\n",
      "[CV 5/5] END learning_rate=0.001, max_depth=15, n_estimators=300;, score=0.851 total time=   8.8s\n"
     ]
    },
    {
     "data": {
      "text/plain": [
       "GridSearchCV(estimator=XGBClassifier(base_score=0.5, booster='gbtree',\n",
       "                                     colsample_bylevel=1, colsample_bynode=1,\n",
       "                                     colsample_bytree=1, eval_metric='logloss',\n",
       "                                     gamma=0, gpu_id=-1, importance_type='gain',\n",
       "                                     interaction_constraints='',\n",
       "                                     learning_rate=0.300000012,\n",
       "                                     max_delta_step=0, max_depth=6,\n",
       "                                     min_child_weight=1, missing=nan,\n",
       "                                     monotone_constraints='()',\n",
       "                                     n_estimators=100, n_jobs=8,\n",
       "                                     num_parallel_tree=1, random_state=0,\n",
       "                                     reg_alpha=0, reg_lambda=1,\n",
       "                                     scale_pos_weight=1, subsample=1,\n",
       "                                     tree_method='exact', validate_parameters=1,\n",
       "                                     verbosity=None),\n",
       "             param_grid={'learning_rate': [1, 0.5, 0.1, 0.01, 0.001],\n",
       "                         'max_depth': [3, 5, 7, 9, 11, 15],\n",
       "                         'n_estimators': [10, 50, 100, 200, 300]},\n",
       "             verbose=3)"
      ]
     },
     "execution_count": 69,
     "metadata": {},
     "output_type": "execute_result"
    }
   ],
   "source": [
    "GSCV_XGB = GridSearchCV(XGB,param_grid=param_grid,verbose=3)\n",
    "GSCV_XGB.fit(X_train,y_train)"
   ]
  },
  {
   "cell_type": "code",
   "execution_count": 70,
   "metadata": {},
   "outputs": [
    {
     "data": {
      "text/plain": [
       "{'learning_rate': 0.1, 'max_depth': 5, 'n_estimators': 200}"
      ]
     },
     "execution_count": 70,
     "metadata": {},
     "output_type": "execute_result"
    }
   ],
   "source": [
    "GSCV_XGB.best_params_"
   ]
  },
  {
   "cell_type": "code",
   "execution_count": 71,
   "metadata": {},
   "outputs": [
    {
     "data": {
      "text/plain": [
       "XGBClassifier(base_score=0.5, booster='gbtree', colsample_bylevel=1,\n",
       "              colsample_bynode=1, colsample_bytree=1, eval_metric='logloss',\n",
       "              gamma=0, gpu_id=-1, importance_type='gain',\n",
       "              interaction_constraints='', learning_rate=0.1, max_delta_step=0,\n",
       "              max_depth=5, min_child_weight=1, missing=nan,\n",
       "              monotone_constraints='()', n_estimators=200, n_jobs=8,\n",
       "              num_parallel_tree=1, random_state=0, reg_alpha=0, reg_lambda=1,\n",
       "              scale_pos_weight=1, subsample=1, tree_method='exact',\n",
       "              validate_parameters=1, verbosity=None)"
      ]
     },
     "execution_count": 71,
     "metadata": {},
     "output_type": "execute_result"
    }
   ],
   "source": [
    "XGB_tuned = XGBClassifier(objective='binary:logistic',eval_metric= \"logloss\",learning_rate=0.1,max_depth=5,n_estimators=200)\n",
    "XGB_tuned.fit(X_train,y_train)"
   ]
  },
  {
   "cell_type": "code",
   "execution_count": 72,
   "metadata": {},
   "outputs": [],
   "source": [
    "XGB_Accuracy = XGB_tuned.score(X_test,y_test)"
   ]
  },
  {
   "cell_type": "code",
   "execution_count": 73,
   "metadata": {},
   "outputs": [],
   "source": [
    "XGB_Predict = XGB_tuned.predict(X_test)"
   ]
  },
  {
   "cell_type": "markdown",
   "metadata": {},
   "source": [
    "### XGBoost Classifier Model Evaluation"
   ]
  },
  {
   "cell_type": "code",
   "execution_count": 74,
   "metadata": {},
   "outputs": [
    {
     "name": "stdout",
     "output_type": "stream",
     "text": [
      "Accuracy_Score:0.8644505049015995\n",
      "**************************************************\n",
      "Classification_Report:              precision    recall  f1-score   support\n",
      "\n",
      "           0       0.89      0.94      0.91     10193\n",
      "           1       0.78      0.64      0.70      3374\n",
      "\n",
      "    accuracy                           0.86     13567\n",
      "   macro avg       0.83      0.79      0.81     13567\n",
      "weighted avg       0.86      0.86      0.86     13567\n",
      "\n",
      "**************************************************\n",
      "Confusion_Matrix:\n",
      " [[9577  616]\n",
      " [1223 2151]]\n"
     ]
    }
   ],
   "source": [
    "print(f\"Accuracy_Score:{accuracy_score(y_test,XGB_Predict)}\")\n",
    "print('*'*50)\n",
    "print(f\"Classification_Report:{classification_report(y_test,XGB_Predict)}\")\n",
    "print('*'*50)\n",
    "print(f\"Confusion_Matrix:\\n {confusion_matrix(y_test,XGB_Predict)}\")"
   ]
  },
  {
   "cell_type": "code",
   "execution_count": null,
   "metadata": {},
   "outputs": [],
   "source": [
    " \n"
   ]
  },
  {
   "cell_type": "code",
   "execution_count": null,
   "metadata": {},
   "outputs": [],
   "source": []
  }
 ],
 "metadata": {
  "kernelspec": {
   "display_name": "Python 3",
   "language": "python",
   "name": "python3"
  },
  "language_info": {
   "codemirror_mode": {
    "name": "ipython",
    "version": 3
   },
   "file_extension": ".py",
   "mimetype": "text/x-python",
   "name": "python",
   "nbconvert_exporter": "python",
   "pygments_lexer": "ipython3",
   "version": "3.8.5"
  }
 },
 "nbformat": 4,
 "nbformat_minor": 4
}
